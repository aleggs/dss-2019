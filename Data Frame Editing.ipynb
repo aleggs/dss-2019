{
 "cells": [
  {
   "cell_type": "code",
   "execution_count": 8,
   "metadata": {},
   "outputs": [
    {
     "name": "stdout",
     "output_type": "stream",
     "text": [
      "Requirement already satisfied: datascience in c:\\users\\seena\\anaconda3\\lib\\site-packages (0.15.3)\n",
      "Requirement already satisfied: sphinx in c:\\users\\seena\\anaconda3\\lib\\site-packages (from datascience) (2.2.0)\n",
      "Requirement already satisfied: coverage==4.5.3 in c:\\users\\seena\\anaconda3\\lib\\site-packages (from datascience) (4.5.3)\n",
      "Requirement already satisfied: bokeh in c:\\users\\seena\\anaconda3\\lib\\site-packages (from datascience) (1.3.4)\n",
      "Requirement already satisfied: numpy in c:\\users\\seena\\anaconda3\\lib\\site-packages (from datascience) (1.16.5)\n",
      "Requirement already satisfied: matplotlib>=3.0.0 in c:\\users\\seena\\anaconda3\\lib\\site-packages (from datascience) (3.1.1)\n",
      "Requirement already satisfied: pytest in c:\\users\\seena\\anaconda3\\lib\\site-packages (from datascience) (5.2.1)\n",
      "Requirement already satisfied: coveralls in c:\\users\\seena\\anaconda3\\lib\\site-packages (from datascience) (1.8.2)\n",
      "Requirement already satisfied: ipython in c:\\users\\seena\\anaconda3\\lib\\site-packages (from datascience) (7.8.0)\n",
      "Requirement already satisfied: setuptools in c:\\users\\seena\\anaconda3\\lib\\site-packages (from datascience) (41.4.0)\n",
      "Requirement already satisfied: pandas in c:\\users\\seena\\anaconda3\\lib\\site-packages (from datascience) (0.25.1)\n",
      "Requirement already satisfied: folium>=0.9.1 in c:\\users\\seena\\anaconda3\\lib\\site-packages (from datascience) (0.10.0)\n",
      "Requirement already satisfied: scipy in c:\\users\\seena\\anaconda3\\lib\\site-packages (from datascience) (1.3.1)\n",
      "Requirement already satisfied: docutils>=0.12 in c:\\users\\seena\\anaconda3\\lib\\site-packages (from sphinx->datascience) (0.15.2)\n",
      "Requirement already satisfied: babel!=2.0,>=1.3 in c:\\users\\seena\\anaconda3\\lib\\site-packages (from sphinx->datascience) (2.7.0)\n",
      "Requirement already satisfied: imagesize in c:\\users\\seena\\anaconda3\\lib\\site-packages (from sphinx->datascience) (1.1.0)\n",
      "Requirement already satisfied: Pygments>=2.0 in c:\\users\\seena\\anaconda3\\lib\\site-packages (from sphinx->datascience) (2.4.2)\n",
      "Requirement already satisfied: sphinxcontrib-htmlhelp in c:\\users\\seena\\anaconda3\\lib\\site-packages (from sphinx->datascience) (1.0.2)\n",
      "Requirement already satisfied: sphinxcontrib-devhelp in c:\\users\\seena\\anaconda3\\lib\\site-packages (from sphinx->datascience) (1.0.1)\n",
      "Requirement already satisfied: snowballstemmer>=1.1 in c:\\users\\seena\\anaconda3\\lib\\site-packages (from sphinx->datascience) (2.0.0)\n",
      "Requirement already satisfied: colorama>=0.3.5; sys_platform == \"win32\" in c:\\users\\seena\\anaconda3\\lib\\site-packages (from sphinx->datascience) (0.4.1)\n",
      "Requirement already satisfied: sphinxcontrib-jsmath in c:\\users\\seena\\anaconda3\\lib\\site-packages (from sphinx->datascience) (1.0.1)\n",
      "Requirement already satisfied: packaging in c:\\users\\seena\\anaconda3\\lib\\site-packages (from sphinx->datascience) (19.2)\n",
      "Requirement already satisfied: sphinxcontrib-qthelp in c:\\users\\seena\\anaconda3\\lib\\site-packages (from sphinx->datascience) (1.0.2)\n",
      "Requirement already satisfied: alabaster<0.8,>=0.7 in c:\\users\\seena\\anaconda3\\lib\\site-packages (from sphinx->datascience) (0.7.12)\n",
      "Requirement already satisfied: sphinxcontrib-serializinghtml in c:\\users\\seena\\anaconda3\\lib\\site-packages (from sphinx->datascience) (1.1.3)\n",
      "Requirement already satisfied: Jinja2>=2.3 in c:\\users\\seena\\anaconda3\\lib\\site-packages (from sphinx->datascience) (2.10.3)\n",
      "Requirement already satisfied: requests>=2.5.0 in c:\\users\\seena\\anaconda3\\lib\\site-packages (from sphinx->datascience) (2.22.0)\n",
      "Requirement already satisfied: sphinxcontrib-applehelp in c:\\users\\seena\\anaconda3\\lib\\site-packages (from sphinx->datascience) (1.0.1)\n",
      "Requirement already satisfied: PyYAML>=3.10 in c:\\users\\seena\\anaconda3\\lib\\site-packages (from bokeh->datascience) (5.1.2)\n",
      "Requirement already satisfied: tornado>=4.3 in c:\\users\\seena\\anaconda3\\lib\\site-packages (from bokeh->datascience) (6.0.3)\n",
      "Requirement already satisfied: six>=1.5.2 in c:\\users\\seena\\anaconda3\\lib\\site-packages (from bokeh->datascience) (1.12.0)\n",
      "Requirement already satisfied: python-dateutil>=2.1 in c:\\users\\seena\\anaconda3\\lib\\site-packages (from bokeh->datascience) (2.8.0)\n",
      "Requirement already satisfied: pillow>=4.0 in c:\\users\\seena\\anaconda3\\lib\\site-packages (from bokeh->datascience) (6.2.0)\n",
      "Requirement already satisfied: cycler>=0.10 in c:\\users\\seena\\anaconda3\\lib\\site-packages (from matplotlib>=3.0.0->datascience) (0.10.0)\n",
      "Requirement already satisfied: kiwisolver>=1.0.1 in c:\\users\\seena\\anaconda3\\lib\\site-packages (from matplotlib>=3.0.0->datascience) (1.1.0)\n",
      "Requirement already satisfied: pyparsing!=2.0.4,!=2.1.2,!=2.1.6,>=2.0.1 in c:\\users\\seena\\anaconda3\\lib\\site-packages (from matplotlib>=3.0.0->datascience) (2.4.2)\n",
      "Requirement already satisfied: py>=1.5.0 in c:\\users\\seena\\anaconda3\\lib\\site-packages (from pytest->datascience) (1.8.0)\n",
      "Requirement already satisfied: attrs>=17.4.0 in c:\\users\\seena\\anaconda3\\lib\\site-packages (from pytest->datascience) (19.2.0)\n",
      "Requirement already satisfied: more-itertools>=4.0.0 in c:\\users\\seena\\anaconda3\\lib\\site-packages (from pytest->datascience) (7.2.0)\n",
      "Requirement already satisfied: atomicwrites>=1.0 in c:\\users\\seena\\anaconda3\\lib\\site-packages (from pytest->datascience) (1.3.0)\n",
      "Requirement already satisfied: pluggy<1.0,>=0.12 in c:\\users\\seena\\anaconda3\\lib\\site-packages (from pytest->datascience) (0.13.0)\n",
      "Requirement already satisfied: wcwidth in c:\\users\\seena\\anaconda3\\lib\\site-packages (from pytest->datascience) (0.1.7)\n",
      "Requirement already satisfied: importlib-metadata>=0.12 in c:\\users\\seena\\anaconda3\\lib\\site-packages (from pytest->datascience) (0.23)\n",
      "Requirement already satisfied: docopt>=0.6.1 in c:\\users\\seena\\anaconda3\\lib\\site-packages (from coveralls->datascience) (0.6.2)\n",
      "Requirement already satisfied: decorator in c:\\users\\seena\\anaconda3\\lib\\site-packages (from ipython->datascience) (4.4.0)\n",
      "Requirement already satisfied: prompt-toolkit<2.1.0,>=2.0.0 in c:\\users\\seena\\anaconda3\\lib\\site-packages (from ipython->datascience) (2.0.10)\n",
      "Requirement already satisfied: pickleshare in c:\\users\\seena\\anaconda3\\lib\\site-packages (from ipython->datascience) (0.7.5)\n",
      "Requirement already satisfied: backcall in c:\\users\\seena\\anaconda3\\lib\\site-packages (from ipython->datascience) (0.1.0)\n",
      "Requirement already satisfied: jedi>=0.10 in c:\\users\\seena\\anaconda3\\lib\\site-packages (from ipython->datascience) (0.15.1)\n",
      "Requirement already satisfied: traitlets>=4.2 in c:\\users\\seena\\anaconda3\\lib\\site-packages (from ipython->datascience) (4.3.3)\n",
      "Requirement already satisfied: pytz>=2017.2 in c:\\users\\seena\\anaconda3\\lib\\site-packages (from pandas->datascience) (2019.3)\n",
      "Requirement already satisfied: branca>=0.3.0 in c:\\users\\seena\\anaconda3\\lib\\site-packages (from folium>=0.9.1->datascience) (0.3.1)\n",
      "Requirement already satisfied: MarkupSafe>=0.23 in c:\\users\\seena\\anaconda3\\lib\\site-packages (from Jinja2>=2.3->sphinx->datascience) (1.1.1)\n",
      "Requirement already satisfied: certifi>=2017.4.17 in c:\\users\\seena\\anaconda3\\lib\\site-packages (from requests>=2.5.0->sphinx->datascience) (2019.9.11)\n",
      "Requirement already satisfied: urllib3!=1.25.0,!=1.25.1,<1.26,>=1.21.1 in c:\\users\\seena\\anaconda3\\lib\\site-packages (from requests>=2.5.0->sphinx->datascience) (1.24.2)\n",
      "Requirement already satisfied: chardet<3.1.0,>=3.0.2 in c:\\users\\seena\\anaconda3\\lib\\site-packages (from requests>=2.5.0->sphinx->datascience) (3.0.4)\n",
      "Requirement already satisfied: idna<2.9,>=2.5 in c:\\users\\seena\\anaconda3\\lib\\site-packages (from requests>=2.5.0->sphinx->datascience) (2.8)\n",
      "Requirement already satisfied: zipp>=0.5 in c:\\users\\seena\\anaconda3\\lib\\site-packages (from importlib-metadata>=0.12->pytest->datascience) (0.6.0)\n",
      "Requirement already satisfied: parso>=0.5.0 in c:\\users\\seena\\anaconda3\\lib\\site-packages (from jedi>=0.10->ipython->datascience) (0.5.1)\n",
      "Requirement already satisfied: ipython-genutils in c:\\users\\seena\\anaconda3\\lib\\site-packages (from traitlets>=4.2->ipython->datascience) (0.2.0)\n"
     ]
    }
   ],
   "source": [
    "!pip install datascience"
   ]
  },
  {
   "cell_type": "code",
   "execution_count": 9,
   "metadata": {},
   "outputs": [],
   "source": [
    "from datascience import *\n",
    "import numpy as np, pandas as pd, matplotlib\n",
    "%matplotlib inline\n",
    "import matplotlib.pyplot as plt\n",
    "plt.style.use('fivethirtyeight')\n",
    "import warnings\n",
    "warnings.simplefilter('ignore', FutureWarning)"
   ]
  },
  {
   "cell_type": "code",
   "execution_count": 44,
   "metadata": {},
   "outputs": [],
   "source": [
    "pandas_table = pd.read_json(\"C:\\\\Users\\\\seena\\\\Google Drive\\\\Documents\\\\Github\\\\dss-2019\\\\Data Frames\\Headline Data Set.json\", lines= True)\n",
    "articles = Table.from_df(pandas_table)\n",
    "articles = articles.with_column('length', articles.apply(len, 'headline'))\n",
    "training = articles.take(np.arange(int(len(articles)*.7)))\n",
    "testing = articles.take(np.arange(training.num_rows, training.num_rows))"
   ]
  },
  {
   "cell_type": "code",
   "execution_count": 11,
   "metadata": {},
   "outputs": [],
   "source": [
    "sarcastic = articles.where('is_sarcastic', 1)\n",
    "real = articles.where('is_sarcastic', 0)"
   ]
  },
  {
   "cell_type": "code",
   "execution_count": 12,
   "metadata": {},
   "outputs": [],
   "source": [
    "sarcastic_headlines = sarcastic.select('headline')\n",
    "real_headlines = real.select('headline')"
   ]
  },
  {
   "cell_type": "code",
   "execution_count": 13,
   "metadata": {},
   "outputs": [],
   "source": [
    "useless_words = ['a', 'at', 'and', 'be', 'by', 'for', 'is', 'in', 'it', 'of', 'on', 'to', 'the', 'of', '--']"
   ]
  },
  {
   "cell_type": "code",
   "execution_count": 14,
   "metadata": {},
   "outputs": [
    {
     "data": {
      "text/html": [
       "<table border=\"1\" class=\"dataframe\">\n",
       "    <thead>\n",
       "        <tr>\n",
       "            <th>words</th> <th>count</th>\n",
       "        </tr>\n",
       "    </thead>\n",
       "    <tbody>\n",
       "        <tr>\n",
       "            <td>man  </td> <td>1143 </td>\n",
       "        </tr>\n",
       "        <tr>\n",
       "            <td>with </td> <td>1008 </td>\n",
       "        </tr>\n",
       "        <tr>\n",
       "            <td>new  </td> <td>973  </td>\n",
       "        </tr>\n",
       "        <tr>\n",
       "            <td>from </td> <td>664  </td>\n",
       "        </tr>\n",
       "        <tr>\n",
       "            <td>out  </td> <td>559  </td>\n",
       "        </tr>\n",
       "        <tr>\n",
       "            <td>after</td> <td>546  </td>\n",
       "        </tr>\n",
       "        <tr>\n",
       "            <td>up   </td> <td>507  </td>\n",
       "        </tr>\n",
       "        <tr>\n",
       "            <td>he   </td> <td>499  </td>\n",
       "        </tr>\n",
       "        <tr>\n",
       "            <td>area </td> <td>487  </td>\n",
       "        </tr>\n",
       "        <tr>\n",
       "            <td>about</td> <td>483  </td>\n",
       "        </tr>\n",
       "    </tbody>\n",
       "</table>\n",
       "<p>... (23905 rows omitted)</p>"
      ],
      "text/plain": [
       "words | count\n",
       "man   | 1143\n",
       "with  | 1008\n",
       "new   | 973\n",
       "from  | 664\n",
       "out   | 559\n",
       "after | 546\n",
       "up    | 507\n",
       "he    | 499\n",
       "area  | 487\n",
       "about | 483\n",
       "... (23905 rows omitted)"
      ]
     },
     "execution_count": 14,
     "metadata": {},
     "output_type": "execute_result"
    }
   ],
   "source": [
    "sarcastic_words = []\n",
    "\n",
    "for i in sarcastic_headlines.column(0):\n",
    "    for j in i.split():\n",
    "        sarcastic_words.append(j)\n",
    "\n",
    "sarcastic_tbl = Table().with_column('words', sarcastic_words).where('words', are.not_contained_in(useless_words))\n",
    "sarcastic_tbl = sarcastic_tbl.group('words').sort(1, descending=True)\n",
    "sarcastic_words = sarcastic_tbl.column(0)\n",
    "sarcastic_tbl"
   ]
  },
  {
   "cell_type": "code",
   "execution_count": 15,
   "metadata": {},
   "outputs": [
    {
     "data": {
      "text/html": [
       "<table border=\"1\" class=\"dataframe\">\n",
       "    <thead>\n",
       "        <tr>\n",
       "            <th>words</th> <th>count</th>\n",
       "        </tr>\n",
       "    </thead>\n",
       "    <tbody>\n",
       "        <tr>\n",
       "            <td>trump</td> <td>957  </td>\n",
       "        </tr>\n",
       "        <tr>\n",
       "            <td>with </td> <td>943  </td>\n",
       "        </tr>\n",
       "        <tr>\n",
       "            <td>you  </td> <td>732  </td>\n",
       "        </tr>\n",
       "        <tr>\n",
       "            <td>this </td> <td>690  </td>\n",
       "        </tr>\n",
       "        <tr>\n",
       "            <td>new  </td> <td>664  </td>\n",
       "        </tr>\n",
       "        <tr>\n",
       "            <td>from </td> <td>661  </td>\n",
       "        </tr>\n",
       "        <tr>\n",
       "            <td>about</td> <td>644  </td>\n",
       "        </tr>\n",
       "        <tr>\n",
       "            <td>how  </td> <td>639  </td>\n",
       "        </tr>\n",
       "        <tr>\n",
       "            <td>your </td> <td>575  </td>\n",
       "        </tr>\n",
       "        <tr>\n",
       "            <td>are  </td> <td>555  </td>\n",
       "        </tr>\n",
       "    </tbody>\n",
       "</table>\n",
       "<p>... (24997 rows omitted)</p>"
      ],
      "text/plain": [
       "words | count\n",
       "trump | 957\n",
       "with  | 943\n",
       "you   | 732\n",
       "this  | 690\n",
       "new   | 664\n",
       "from  | 661\n",
       "about | 644\n",
       "how   | 639\n",
       "your  | 575\n",
       "are   | 555\n",
       "... (24997 rows omitted)"
      ]
     },
     "execution_count": 15,
     "metadata": {},
     "output_type": "execute_result"
    }
   ],
   "source": [
    "real_words = []\n",
    "\n",
    "for i in real_headlines.column(0):\n",
    "    for j in i.split():\n",
    "        real_words.append(j)\n",
    "\n",
    "real_tbl = Table().with_column('words', real_words)\n",
    "real_tbl = real_tbl.group('words').where('words', are.not_contained_in(useless_words)).sort(1, descending=True)\n",
    "real_tbl"
   ]
  },
  {
   "cell_type": "code",
   "execution_count": 16,
   "metadata": {},
   "outputs": [
    {
     "data": {
      "text/html": [
       "<table border=\"1\" class=\"dataframe\">\n",
       "    <thead>\n",
       "        <tr>\n",
       "            <th>words</th> <th>count</th>\n",
       "        </tr>\n",
       "    </thead>\n",
       "    <tbody>\n",
       "        <tr>\n",
       "            <td>fucking  </td> <td>100  </td>\n",
       "        </tr>\n",
       "        <tr>\n",
       "            <td>shit     </td> <td>66   </td>\n",
       "        </tr>\n",
       "        <tr>\n",
       "            <td>clearly  </td> <td>56   </td>\n",
       "        </tr>\n",
       "        <tr>\n",
       "            <td>fuck     </td> <td>45   </td>\n",
       "        </tr>\n",
       "        <tr>\n",
       "            <td>realizes </td> <td>42   </td>\n",
       "        </tr>\n",
       "        <tr>\n",
       "            <td>unable   </td> <td>37   </td>\n",
       "        </tr>\n",
       "        <tr>\n",
       "            <td>kavanaugh</td> <td>36   </td>\n",
       "        </tr>\n",
       "        <tr>\n",
       "            <td>archives:</td> <td>32   </td>\n",
       "        </tr>\n",
       "        <tr>\n",
       "            <td>slowly   </td> <td>30   </td>\n",
       "        </tr>\n",
       "        <tr>\n",
       "            <td>per      </td> <td>30   </td>\n",
       "        </tr>\n",
       "    </tbody>\n",
       "</table>\n",
       "<p>... (13203 rows omitted)</p>"
      ],
      "text/plain": [
       "words     | count\n",
       "fucking   | 100\n",
       "shit      | 66\n",
       "clearly   | 56\n",
       "fuck      | 45\n",
       "realizes  | 42\n",
       "unable    | 37\n",
       "kavanaugh | 36\n",
       "archives: | 32\n",
       "slowly    | 30\n",
       "per       | 30\n",
       "... (13203 rows omitted)"
      ]
     },
     "execution_count": 16,
     "metadata": {},
     "output_type": "execute_result"
    }
   ],
   "source": [
    "sarcastic_unique = sarcastic_tbl.where(0, are.not_contained_in(real_tbl.column(0)))\n",
    "sarcastic_words = sarcastic_unique.column(0)\n",
    "sarcastic_unique"
   ]
  },
  {
   "cell_type": "code",
   "execution_count": 17,
   "metadata": {},
   "outputs": [
    {
     "data": {
      "text/html": [
       "<table border=\"1\" class=\"dataframe\">\n",
       "    <thead>\n",
       "        <tr>\n",
       "            <th>words</th> <th>count</th>\n",
       "        </tr>\n",
       "    </thead>\n",
       "    <tbody>\n",
       "        <tr>\n",
       "            <td>huffpost  </td> <td>58   </td>\n",
       "        </tr>\n",
       "        <tr>\n",
       "            <td>email:    </td> <td>57   </td>\n",
       "        </tr>\n",
       "        <tr>\n",
       "            <td>queer     </td> <td>49   </td>\n",
       "        </tr>\n",
       "        <tr>\n",
       "            <td>watch:    </td> <td>48   </td>\n",
       "        </tr>\n",
       "        <tr>\n",
       "            <td>trans     </td> <td>48   </td>\n",
       "        </tr>\n",
       "        <tr>\n",
       "            <td>kardashian</td> <td>47   </td>\n",
       "        </tr>\n",
       "        <tr>\n",
       "            <td>jenner    </td> <td>40   </td>\n",
       "        </tr>\n",
       "        <tr>\n",
       "            <td>lgbt      </td> <td>39   </td>\n",
       "        </tr>\n",
       "        <tr>\n",
       "            <td>'snl'     </td> <td>34   </td>\n",
       "        </tr>\n",
       "        <tr>\n",
       "            <td>lgbtq     </td> <td>32   </td>\n",
       "        </tr>\n",
       "    </tbody>\n",
       "</table>\n",
       "<p>... (14295 rows omitted)</p>"
      ],
      "text/plain": [
       "words      | count\n",
       "huffpost   | 58\n",
       "email:     | 57\n",
       "queer      | 49\n",
       "watch:     | 48\n",
       "trans      | 48\n",
       "kardashian | 47\n",
       "jenner     | 40\n",
       "lgbt       | 39\n",
       "'snl'      | 34\n",
       "lgbtq      | 32\n",
       "... (14295 rows omitted)"
      ]
     },
     "execution_count": 17,
     "metadata": {},
     "output_type": "execute_result"
    }
   ],
   "source": [
    "real_unique = real_tbl.where(0, are.not_contained_in(sarcastic_tbl.column(0)))\n",
    "real_words = real_unique.column(0)\n",
    "real_unique"
   ]
  },
  {
   "cell_type": "code",
   "execution_count": 45,
   "metadata": {},
   "outputs": [],
   "source": [
    "def unique_count(headline):\n",
    "    '''Returns the number of times certain words are in a headline'''\n",
    "    count_sarcastic = 0\n",
    "    count_real = 0\n",
    "    count_useless = 0\n",
    "    for i in headline.split():\n",
    "        count_sarcastic += np.count_nonzero(sarcastic_words == i)\n",
    "        count_real += np.count_nonzero(real_words == i)\n",
    "        count_useless += np.count_nonzero(useless_words == i)\n",
    "        \n",
    "    return {'sarcastic':count_sarcastic, 'real':count_real, 'useless':count_useless}"
   ]
  },
  {
   "cell_type": "code",
   "execution_count": 25,
   "metadata": {},
   "outputs": [],
   "source": [
    "sarcastic_counts = articles.apply(lambda x: unique_count(x)['sarcastic'], 'headline')"
   ]
  },
  {
   "cell_type": "code",
   "execution_count": 26,
   "metadata": {},
   "outputs": [],
   "source": [
    "real_counts = articles.apply(lambda x: unique_count(x)['real'], 'headline')"
   ]
  },
  {
   "cell_type": "code",
   "execution_count": 46,
   "metadata": {},
   "outputs": [],
   "source": [
    "useless_counts = articles.apply(lambda x: unique_count(x)['useless'], 'headline')"
   ]
  },
  {
   "cell_type": "code",
   "execution_count": 49,
   "metadata": {},
   "outputs": [],
   "source": [
    "articles_with_counts = articles.with_columns('Unique Sarcastic Words', sarcastic_counts, 'Unique Real Words', real_counts, 'Unique Useless Words', useless_counts)"
   ]
  },
  {
   "cell_type": "code",
   "execution_count": 55,
   "metadata": {},
   "outputs": [
    {
     "data": {
      "text/html": [
       "<table border=\"1\" class=\"dataframe\">\n",
       "    <thead>\n",
       "        <tr>\n",
       "            <th>is_sarcastic</th> <th>headline</th> <th>article_link</th> <th>length</th> <th>Unique Sarcastic Words</th> <th>Unique Real Words</th> <th>Unique Useless Words</th> <th>Word Count</th>\n",
       "        </tr>\n",
       "    </thead>\n",
       "    <tbody>\n",
       "        <tr>\n",
       "            <td>0           </td> <td>the rca & arista years: a conversation with laurie ander ...</td> <td>https://www.huffingtonpost.com/entry/the-rca-arista-year ...</td> <td>149   </td> <td>0                     </td> <td>11               </td> <td>0                   </td> <td>24        </td>\n",
       "        </tr>\n",
       "        <tr>\n",
       "            <td>0           </td> <td>nasim nasr's zaeefeh (the wretchedness) and shadi (happi ...</td> <td>https://www.huffingtonpost.com/entry/nasim-nasrs-zaeefeh ...</td> <td>112   </td> <td>0                     </td> <td>9                </td> <td>0                   </td> <td>15        </td>\n",
       "        </tr>\n",
       "        <tr>\n",
       "            <td>0           </td> <td>greece's rock portrait gallery, from craggy ogres to de  ...</td> <td>https://www.huffingtonpost.com/entry/greeces-rock-portra ...</td> <td>120   </td> <td>0                     </td> <td>8                </td> <td>0                   </td> <td>20        </td>\n",
       "        </tr>\n",
       "        <tr>\n",
       "            <td>0           </td> <td>a joyous eid in somalia: ugaaso abukar boocow's instagra ...</td> <td>https://www.huffingtonpost.com/entry/instagram-eid-in-so ...</td> <td>102   </td> <td>0                     </td> <td>8                </td> <td>0                   </td> <td>15        </td>\n",
       "        </tr>\n",
       "        <tr>\n",
       "            <td>0           </td> <td>prog noir and beyond: conversations with tony levin, cac ...</td> <td>https://www.huffingtonpost.com/entry/prog-noir-and-beyon ...</td> <td>110   </td> <td>0                     </td> <td>8                </td> <td>0                   </td> <td>16        </td>\n",
       "        </tr>\n",
       "    </tbody>\n",
       "</table>\n",
       "<p>... (28614 rows omitted)</p>"
      ],
      "text/plain": [
       "<IPython.core.display.HTML object>"
      ]
     },
     "metadata": {},
     "output_type": "display_data"
    }
   ],
   "source": [
    "articles_with_counts.sort('Unique Real Words', descending=True).show(5)"
   ]
  },
  {
   "cell_type": "code",
   "execution_count": 50,
   "metadata": {},
   "outputs": [],
   "source": [
    "total_word_counts = articles_with_counts.apply(lambda x: len(x.split()), 'headline')\n",
    "articles_with_counts = articles_with_counts.with_column('Word Count', total_word_counts)"
   ]
  },
  {
   "cell_type": "code",
   "execution_count": 54,
   "metadata": {},
   "outputs": [],
   "source": []
  },
  {
   "cell_type": "code",
   "execution_count": null,
   "metadata": {},
   "outputs": [],
   "source": []
  }
 ],
 "metadata": {
  "kernelspec": {
   "display_name": "Python 3",
   "language": "python",
   "name": "python3"
  },
  "language_info": {
   "codemirror_mode": {
    "name": "ipython",
    "version": 3
   },
   "file_extension": ".py",
   "mimetype": "text/x-python",
   "name": "python",
   "nbconvert_exporter": "python",
   "pygments_lexer": "ipython3",
   "version": "3.7.4"
  }
 },
 "nbformat": 4,
 "nbformat_minor": 2
}
