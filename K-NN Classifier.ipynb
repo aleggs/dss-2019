{
 "cells": [
  {
   "cell_type": "code",
   "execution_count": 107,
   "metadata": {},
   "outputs": [],
   "source": [
    "from datascience import *\n",
    "import numpy as np, pandas as pd, math\n",
    "\n",
    "import matplotlib\n",
    "matplotlib.use('Agg', warn=False)\n",
    "%matplotlib inline\n",
    "import matplotlib.pyplot as plots\n",
    "plots.style.use('fivethirtyeight')\n",
    "import warnings\n",
    "warnings.simplefilter(action=\"ignore\", category=FutureWarning)\n",
    "\n",
    "import nltk\n",
    "from nltk.stem.snowball import SnowballStemmer"
   ]
  },
  {
   "cell_type": "code",
   "execution_count": 102,
   "metadata": {},
   "outputs": [
    {
     "data": {
      "text/html": [
       "<table border=\"1\" class=\"dataframe\">\n",
       "    <thead>\n",
       "        <tr>\n",
       "            <th>is_sarcastic</th> <th>headline</th> <th>article_link</th> <th>length</th> <th>Unique Sarcastic Words</th> <th>Unique Real Words</th> <th>Unique Useless Words</th> <th>Word Count</th>\n",
       "        </tr>\n",
       "    </thead>\n",
       "    <tbody>\n",
       "        <tr>\n",
       "            <td>True        </td> <td>thirtysomething scientists unveil doomsday clock of hair ...</td> <td>https://www.theonion.com/thirtysomething-scientists-unve ...</td> <td>61    </td> <td>1                     </td> <td>0                </td> <td>0                   </td> <td>8         </td>\n",
       "        </tr>\n",
       "        <tr>\n",
       "            <td>False       </td> <td>dem rep. totally nails why congress is falling short on  ...</td> <td>https://www.huffingtonpost.com/entry/donna-edwards-inequ ...</td> <td>79    </td> <td>0                     </td> <td>1                </td> <td>0                   </td> <td>13        </td>\n",
       "        </tr>\n",
       "        <tr>\n",
       "            <td>False       </td> <td>eat your veggies: 9 deliciously different recipes           </td> <td>https://www.huffingtonpost.com/entry/eat-your-veggies-9- ...</td> <td>49    </td> <td>0                     </td> <td>2                </td> <td>0                   </td> <td>7         </td>\n",
       "        </tr>\n",
       "    </tbody>\n",
       "</table>\n",
       "<p>... (28616 rows omitted)</p>"
      ],
      "text/plain": [
       "<IPython.core.display.HTML object>"
      ]
     },
     "metadata": {},
     "output_type": "display_data"
    }
   ],
   "source": [
    "original_table = Table.read_table(\"C:\\\\Users\\\\seena\\\\Google Drive\\\\Documents\\\\Github\\\\dss-2019\\\\Data Frames\\With Counts.csv\").drop(0)\n",
    "headlines = original_table\n",
    "headlines = headlines.with_column('is_sarcastic', headlines.apply(lambda x: str(bool(x)), 0))\n",
    "headlines.show(3)"
   ]
  },
  {
   "cell_type": "code",
   "execution_count": 28,
   "metadata": {},
   "outputs": [],
   "source": [
    "train_len = int(headlines.num_rows * (2 / 3))\n",
    "training_set = headlines.take(np.arange(train_len))\n",
    "testing_set = headlines.take(np.arange(train_len, headlines.num_rows))"
   ]
  },
  {
   "cell_type": "code",
   "execution_count": 33,
   "metadata": {},
   "outputs": [],
   "source": [
    "train_attr, test_attr = training_set.select([3, 4, 5, 6, 7]), testing_set.select([3, 4, 5, 6, 7])"
   ]
  },
  {
   "cell_type": "code",
   "execution_count": 34,
   "metadata": {},
   "outputs": [],
   "source": [
    "def fast_distances(test_row, train_table):\n",
    "    \"\"\"Return an array of the distances between test_row and each row in train_rows.\n",
    "\n",
    "    Takes 2 arguments:\n",
    "      test_row: A row of a table containing features of one\n",
    "        test movie (e.g., test_20.row(0)).\n",
    "      train_table: A table of features (for example, the whole\n",
    "        table train_20).\"\"\"\n",
    "    assert train_table.num_columns < 50, \"Make sure you're not using all the features of the movies table.\"\n",
    "    counts_matrix = np.asmatrix(train_table.columns).transpose()\n",
    "    diff = np.tile(np.array(test_row), [counts_matrix.shape[0], 1]) - counts_matrix\n",
    "    np.random.seed(0) # For tie breaking purposes\n",
    "    distances = np.squeeze(np.asarray(np.sqrt(np.square(diff).sum(1))))\n",
    "    eps = np.random.uniform(size=distances.shape)*1e-10 #Noise for tie break\n",
    "    distances = distances + eps\n",
    "    return distances"
   ]
  },
  {
   "cell_type": "code",
   "execution_count": 44,
   "metadata": {},
   "outputs": [],
   "source": [
    "def classify(test_row, train_rows, train_labels, k):\n",
    "    \"\"\"Return the most common class among k nearest neigbors to test_row.\"\"\"\n",
    "    distances = fast_distances(test_row, train_rows)\n",
    "    class_and_distances = Table().with_columns('Sarcastic', train_labels, 'Distance', distances).sort(1)\n",
    "    return class_and_distances.take(np.arange(k)).group(0).sort(1, descending=True).column(0).item(0)\n",
    "\n",
    "def classify_feature_row(row):\n",
    "    return classify(row, train_attr, training_set.column('is_sarcastic'), 11)"
   ]
  },
  {
   "cell_type": "code",
   "execution_count": 64,
   "metadata": {},
   "outputs": [],
   "source": [
    "classifications = make_array()\n",
    "for i in range(testing_set.num_rows):\n",
    "    classifications = np.append(classifications, classify_feature_row(test_attr.row(i)))"
   ]
  },
  {
   "cell_type": "code",
   "execution_count": 89,
   "metadata": {},
   "outputs": [
    {
     "data": {
      "text/html": [
       "<table border=\"1\" class=\"dataframe\">\n",
       "    <thead>\n",
       "        <tr>\n",
       "            <th>headline</th> <th>sarcastic</th> <th>classification</th> <th>correct</th>\n",
       "        </tr>\n",
       "    </thead>\n",
       "    <tbody>\n",
       "        <tr>\n",
       "            <td>jimmy carter already back to elite sumo wrestling circui ...</td> <td>True     </td> <td>True          </td> <td>True   </td>\n",
       "        </tr>\n",
       "        <tr>\n",
       "            <td>how to fall in love, again -- with your spouse              </td> <td>False    </td> <td>False         </td> <td>True   </td>\n",
       "        </tr>\n",
       "        <tr>\n",
       "            <td>science, evolution and our intimate parts                   </td> <td>False    </td> <td>False         </td> <td>True   </td>\n",
       "        </tr>\n",
       "        <tr>\n",
       "            <td>long-lost salamander rediscovered in guatemalan jungle      </td> <td>False    </td> <td>False         </td> <td>True   </td>\n",
       "        </tr>\n",
       "        <tr>\n",
       "            <td>deadly stampede in bangladesh kills 23                      </td> <td>False    </td> <td>True          </td> <td>False  </td>\n",
       "        </tr>\n",
       "        <tr>\n",
       "            <td>conservation group condemns waterboarding as wasteful       </td> <td>True     </td> <td>True          </td> <td>True   </td>\n",
       "        </tr>\n",
       "        <tr>\n",
       "            <td>fema assures wildfire victims bucket brigade nearly over ...</td> <td>True     </td> <td>True          </td> <td>True   </td>\n",
       "        </tr>\n",
       "        <tr>\n",
       "            <td>trump boys attempting to tunnel from south lawn to fbi h ...</td> <td>True     </td> <td>True          </td> <td>True   </td>\n",
       "        </tr>\n",
       "        <tr>\n",
       "            <td>how the obama administration is making it harder to shed ...</td> <td>False    </td> <td>False         </td> <td>True   </td>\n",
       "        </tr>\n",
       "        <tr>\n",
       "            <td>why we won't be participating in black friday               </td> <td>False    </td> <td>False         </td> <td>True   </td>\n",
       "        </tr>\n",
       "    </tbody>\n",
       "</table>\n",
       "<p>... (9530 rows omitted)</p>"
      ],
      "text/plain": [
       "headline                                                     | sarcastic | classification | correct\n",
       "jimmy carter already back to elite sumo wrestling circui ... | True      | True           | True\n",
       "how to fall in love, again -- with your spouse               | False     | False          | True\n",
       "science, evolution and our intimate parts                    | False     | False          | True\n",
       "long-lost salamander rediscovered in guatemalan jungle       | False     | False          | True\n",
       "deadly stampede in bangladesh kills 23                       | False     | True           | False\n",
       "conservation group condemns waterboarding as wasteful        | True      | True           | True\n",
       "fema assures wildfire victims bucket brigade nearly over ... | True      | True           | True\n",
       "trump boys attempting to tunnel from south lawn to fbi h ... | True      | True           | True\n",
       "how the obama administration is making it harder to shed ... | False     | False          | True\n",
       "why we won't be participating in black friday                | False     | False          | True\n",
       "... (9530 rows omitted)"
      ]
     },
     "execution_count": 89,
     "metadata": {},
     "output_type": "execute_result"
    }
   ],
   "source": [
    "col = testing_set.column\n",
    "results = Table().with_columns('headline', col(1), 'sarcastic', col(0), 'classification', classifications) \n",
    "classes = results.apply(lambda x: bool(int(x)), 'classification')\n",
    "results = results.with_columns('classification', classes, 'correct', results.column(2) == results.column(1))\n",
    "results"
   ]
  },
  {
   "cell_type": "code",
   "execution_count": 90,
   "metadata": {},
   "outputs": [
    {
     "name": "stdout",
     "output_type": "stream",
     "text": [
      "Accuracy: 88.82%\n"
     ]
    }
   ],
   "source": [
    "accuracy = np.count_nonzero(results.column(2) == results.column(1)) / testing_set.num_rows\n",
    "accuracy_formatted = str(round(accuracy, 4) * 100) + '%'\n",
    "print('Accuracy: {}'.format(accuracy_formatted))"
   ]
  },
  {
   "cell_type": "code",
   "execution_count": 106,
   "metadata": {},
   "outputs": [
    {
     "data": {
      "text/html": [
       "<table border=\"1\" class=\"dataframe\">\n",
       "    <thead>\n",
       "        <tr>\n",
       "            <th>headline</th> <th>is_sarcastic</th> <th>article_link</th> <th>length</th> <th>Unique Sarcastic Words</th> <th>Unique Real Words</th> <th>Unique Useless Words</th> <th>Word Count</th> <th>sarcastic</th> <th>classification</th> <th>correct</th>\n",
       "        </tr>\n",
       "    </thead>\n",
       "    <tbody>\n",
       "        <tr>\n",
       "            <td>$5 million bounty placed on recession                       </td> <td>True        </td> <td>https://politics.theonion.com/5-million-bounty-placed-on ...</td> <td>37    </td> <td>0                     </td> <td>0                </td> <td>0                   </td> <td>6         </td> <td>True     </td> <td>False         </td> <td>False  </td>\n",
       "        </tr>\n",
       "        <tr>\n",
       "            <td>'60 minutes' reporter reveals trump's chilling reason fo ...</td> <td>False       </td> <td>https://www.huffingtonpost.com/entry/60-minutes-reporter ...</td> <td>76    </td> <td>0                     </td> <td>0                </td> <td>0                   </td> <td>11        </td> <td>False    </td> <td>True          </td> <td>False  </td>\n",
       "        </tr>\n",
       "        <tr>\n",
       "            <td>'game of thrones' fans excited to hear series will final ...</td> <td>True        </td> <td>https://entertainment.theonion.com/game-of-thrones-fans- ...</td> <td>66    </td> <td>0                     </td> <td>0                </td> <td>0                   </td> <td>12        </td> <td>True     </td> <td>False         </td> <td>False  </td>\n",
       "        </tr>\n",
       "        <tr>\n",
       "            <td>'how do we treat the little people, joan?' i asked. and  ...</td> <td>False       </td> <td>https://www.huffingtonpost.com/entry/how-do-we-treat-the ...</td> <td>141   </td> <td>0                     </td> <td>6                </td> <td>0                   </td> <td>28        </td> <td>False    </td> <td>True          </td> <td>False  </td>\n",
       "        </tr>\n",
       "        <tr>\n",
       "            <td>'star wars' fans start a tradition that will help bullie ...</td> <td>False       </td> <td>https://www.huffingtonpost.com/entry/10-year-old-star-wa ...</td> <td>78    </td> <td>0                     </td> <td>0                </td> <td>0                   </td> <td>13        </td> <td>False    </td> <td>True          </td> <td>False  </td>\n",
       "        </tr>\n",
       "        <tr>\n",
       "            <td>'stranger things' kids already look like winners on the  ...</td> <td>False       </td> <td>https://www.huffingtonpost.com/entry/stranger-things-kid ...</td> <td>80    </td> <td>0                     </td> <td>0                </td> <td>0                   </td> <td>13        </td> <td>False    </td> <td>True          </td> <td>False  </td>\n",
       "        </tr>\n",
       "        <tr>\n",
       "            <td>'that nail polish looks horrible on you' and other words ...</td> <td>False       </td> <td>https://www.huffingtonpost.com/entry/style-advice-grandm ...</td> <td>92    </td> <td>0                     </td> <td>0                </td> <td>0                   </td> <td>16        </td> <td>False    </td> <td>True          </td> <td>False  </td>\n",
       "        </tr>\n",
       "        <tr>\n",
       "            <td>'the bachelor' season would be way shorter if this sexis ...</td> <td>False       </td> <td>https://www.huffingtonpost.com/entry/the-bachelor-season ...</td> <td>75    </td> <td>0                     </td> <td>0                </td> <td>0                   </td> <td>14        </td> <td>False    </td> <td>True          </td> <td>False  </td>\n",
       "        </tr>\n",
       "        <tr>\n",
       "            <td>'the office' ends as documentary crew gets all the foota ...</td> <td>True        </td> <td>https://entertainment.theonion.com/the-office-ends-as-do ...</td> <td>67    </td> <td>0                     </td> <td>0                </td> <td>0                   </td> <td>12        </td> <td>True     </td> <td>False         </td> <td>False  </td>\n",
       "        </tr>\n",
       "        <tr>\n",
       "            <td>10 notable books of 2016 on black women's history           </td> <td>False       </td> <td>https://www.huffingtonpost.com/entry/10-notable-books-of ...</td> <td>49    </td> <td>0                     </td> <td>0                </td> <td>0                   </td> <td>9         </td> <td>False    </td> <td>True          </td> <td>False  </td>\n",
       "        </tr>\n",
       "    </tbody>\n",
       "</table>\n",
       "<p>... (1074 rows omitted)</p>"
      ],
      "text/plain": [
       "headline                                                     | is_sarcastic | article_link                                                 | length | Unique Sarcastic Words | Unique Real Words | Unique Useless Words | Word Count | sarcastic | classification | correct\n",
       "$5 million bounty placed on recession                        | True         | https://politics.theonion.com/5-million-bounty-placed-on ... | 37     | 0                      | 0                 | 0                    | 6          | True      | False          | False\n",
       "'60 minutes' reporter reveals trump's chilling reason fo ... | False        | https://www.huffingtonpost.com/entry/60-minutes-reporter ... | 76     | 0                      | 0                 | 0                    | 11         | False     | True           | False\n",
       "'game of thrones' fans excited to hear series will final ... | True         | https://entertainment.theonion.com/game-of-thrones-fans- ... | 66     | 0                      | 0                 | 0                    | 12         | True      | False          | False\n",
       "'how do we treat the little people, joan?' i asked. and  ... | False        | https://www.huffingtonpost.com/entry/how-do-we-treat-the ... | 141    | 0                      | 6                 | 0                    | 28         | False     | True           | False\n",
       "'star wars' fans start a tradition that will help bullie ... | False        | https://www.huffingtonpost.com/entry/10-year-old-star-wa ... | 78     | 0                      | 0                 | 0                    | 13         | False     | True           | False\n",
       "'stranger things' kids already look like winners on the  ... | False        | https://www.huffingtonpost.com/entry/stranger-things-kid ... | 80     | 0                      | 0                 | 0                    | 13         | False     | True           | False\n",
       "'that nail polish looks horrible on you' and other words ... | False        | https://www.huffingtonpost.com/entry/style-advice-grandm ... | 92     | 0                      | 0                 | 0                    | 16         | False     | True           | False\n",
       "'the bachelor' season would be way shorter if this sexis ... | False        | https://www.huffingtonpost.com/entry/the-bachelor-season ... | 75     | 0                      | 0                 | 0                    | 14         | False     | True           | False\n",
       "'the office' ends as documentary crew gets all the foota ... | True         | https://entertainment.theonion.com/the-office-ends-as-do ... | 67     | 0                      | 0                 | 0                    | 12         | True      | False          | False\n",
       "10 notable books of 2016 on black women's history            | False        | https://www.huffingtonpost.com/entry/10-notable-books-of ... | 49     | 0                      | 0                 | 0                    | 9          | False     | True           | False\n",
       "... (1074 rows omitted)"
      ]
     },
     "execution_count": 106,
     "metadata": {},
     "output_type": "execute_result"
    }
   ],
   "source": [
    "headlines.join('headline', results).where('correct', False)"
   ]
  },
  {
   "cell_type": "code",
   "execution_count": null,
   "metadata": {},
   "outputs": [],
   "source": []
  }
 ],
 "metadata": {
  "kernelspec": {
   "display_name": "Python 3",
   "language": "python",
   "name": "python3"
  },
  "language_info": {
   "codemirror_mode": {
    "name": "ipython",
    "version": 3
   },
   "file_extension": ".py",
   "mimetype": "text/x-python",
   "name": "python",
   "nbconvert_exporter": "python",
   "pygments_lexer": "ipython3",
   "version": "3.7.4"
  }
 },
 "nbformat": 4,
 "nbformat_minor": 2
}
