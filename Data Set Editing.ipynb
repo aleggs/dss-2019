{
 "cells": [
  {
   "cell_type": "code",
   "execution_count": 1,
   "metadata": {},
   "outputs": [
    {
     "name": "stdout",
     "output_type": "stream",
     "text": [
      "Requirement already satisfied: datascience in /Users/edwardliu/Downloads/anaconda3/lib/python3.7/site-packages (0.15.3)\n",
      "Requirement already satisfied: pytest in /Users/edwardliu/Downloads/anaconda3/lib/python3.7/site-packages (from datascience) (5.2.1)\n",
      "Requirement already satisfied: coverage==4.5.3 in /Users/edwardliu/Downloads/anaconda3/lib/python3.7/site-packages (from datascience) (4.5.3)\n",
      "Requirement already satisfied: numpy in /Users/edwardliu/Downloads/anaconda3/lib/python3.7/site-packages (from datascience) (1.17.2)\n",
      "Requirement already satisfied: setuptools in /Users/edwardliu/Downloads/anaconda3/lib/python3.7/site-packages (from datascience) (41.4.0)\n",
      "Requirement already satisfied: scipy in /Users/edwardliu/Downloads/anaconda3/lib/python3.7/site-packages (from datascience) (1.3.1)\n",
      "Requirement already satisfied: ipython in /Users/edwardliu/Downloads/anaconda3/lib/python3.7/site-packages (from datascience) (7.8.0)\n",
      "Requirement already satisfied: sphinx in /Users/edwardliu/Downloads/anaconda3/lib/python3.7/site-packages (from datascience) (2.2.0)\n",
      "Requirement already satisfied: folium>=0.9.1 in /Users/edwardliu/Downloads/anaconda3/lib/python3.7/site-packages (from datascience) (0.10.0)\n",
      "Requirement already satisfied: matplotlib>=3.0.0 in /Users/edwardliu/Downloads/anaconda3/lib/python3.7/site-packages (from datascience) (3.1.1)\n",
      "Requirement already satisfied: coveralls in /Users/edwardliu/Downloads/anaconda3/lib/python3.7/site-packages (from datascience) (1.8.2)\n",
      "Requirement already satisfied: pandas in /Users/edwardliu/Downloads/anaconda3/lib/python3.7/site-packages (from datascience) (0.25.1)\n",
      "Requirement already satisfied: bokeh in /Users/edwardliu/Downloads/anaconda3/lib/python3.7/site-packages (from datascience) (1.3.4)\n",
      "Requirement already satisfied: py>=1.5.0 in /Users/edwardliu/Downloads/anaconda3/lib/python3.7/site-packages (from pytest->datascience) (1.8.0)\n",
      "Requirement already satisfied: packaging in /Users/edwardliu/Downloads/anaconda3/lib/python3.7/site-packages (from pytest->datascience) (19.2)\n",
      "Requirement already satisfied: attrs>=17.4.0 in /Users/edwardliu/Downloads/anaconda3/lib/python3.7/site-packages (from pytest->datascience) (19.2.0)\n",
      "Requirement already satisfied: more-itertools>=4.0.0 in /Users/edwardliu/Downloads/anaconda3/lib/python3.7/site-packages (from pytest->datascience) (7.2.0)\n",
      "Requirement already satisfied: atomicwrites>=1.0 in /Users/edwardliu/Downloads/anaconda3/lib/python3.7/site-packages (from pytest->datascience) (1.3.0)\n",
      "Requirement already satisfied: pluggy<1.0,>=0.12 in /Users/edwardliu/Downloads/anaconda3/lib/python3.7/site-packages (from pytest->datascience) (0.13.0)\n",
      "Requirement already satisfied: wcwidth in /Users/edwardliu/Downloads/anaconda3/lib/python3.7/site-packages (from pytest->datascience) (0.1.7)\n",
      "Requirement already satisfied: importlib-metadata>=0.12 in /Users/edwardliu/Downloads/anaconda3/lib/python3.7/site-packages (from pytest->datascience) (0.23)\n",
      "Requirement already satisfied: jedi>=0.10 in /Users/edwardliu/Downloads/anaconda3/lib/python3.7/site-packages (from ipython->datascience) (0.15.1)\n",
      "Requirement already satisfied: appnope; sys_platform == \"darwin\" in /Users/edwardliu/Downloads/anaconda3/lib/python3.7/site-packages (from ipython->datascience) (0.1.0)\n",
      "Requirement already satisfied: pexpect; sys_platform != \"win32\" in /Users/edwardliu/Downloads/anaconda3/lib/python3.7/site-packages (from ipython->datascience) (4.7.0)\n",
      "Requirement already satisfied: prompt-toolkit<2.1.0,>=2.0.0 in /Users/edwardliu/Downloads/anaconda3/lib/python3.7/site-packages (from ipython->datascience) (2.0.10)\n",
      "Requirement already satisfied: backcall in /Users/edwardliu/Downloads/anaconda3/lib/python3.7/site-packages (from ipython->datascience) (0.1.0)\n",
      "Requirement already satisfied: traitlets>=4.2 in /Users/edwardliu/Downloads/anaconda3/lib/python3.7/site-packages (from ipython->datascience) (4.3.3)\n",
      "Requirement already satisfied: decorator in /Users/edwardliu/Downloads/anaconda3/lib/python3.7/site-packages (from ipython->datascience) (4.4.0)\n",
      "Requirement already satisfied: pickleshare in /Users/edwardliu/Downloads/anaconda3/lib/python3.7/site-packages (from ipython->datascience) (0.7.5)\n",
      "Requirement already satisfied: pygments in /Users/edwardliu/Downloads/anaconda3/lib/python3.7/site-packages (from ipython->datascience) (2.4.2)\n",
      "Requirement already satisfied: requests>=2.5.0 in /Users/edwardliu/Downloads/anaconda3/lib/python3.7/site-packages (from sphinx->datascience) (2.22.0)\n",
      "Requirement already satisfied: sphinxcontrib-serializinghtml in /Users/edwardliu/Downloads/anaconda3/lib/python3.7/site-packages (from sphinx->datascience) (1.1.3)\n",
      "Requirement already satisfied: imagesize in /Users/edwardliu/Downloads/anaconda3/lib/python3.7/site-packages (from sphinx->datascience) (1.1.0)\n",
      "Requirement already satisfied: Jinja2>=2.3 in /Users/edwardliu/Downloads/anaconda3/lib/python3.7/site-packages (from sphinx->datascience) (2.10.3)\n",
      "Requirement already satisfied: sphinxcontrib-htmlhelp in /Users/edwardliu/Downloads/anaconda3/lib/python3.7/site-packages (from sphinx->datascience) (1.0.2)\n",
      "Requirement already satisfied: sphinxcontrib-applehelp in /Users/edwardliu/Downloads/anaconda3/lib/python3.7/site-packages (from sphinx->datascience) (1.0.1)\n",
      "Requirement already satisfied: sphinxcontrib-devhelp in /Users/edwardliu/Downloads/anaconda3/lib/python3.7/site-packages (from sphinx->datascience) (1.0.1)\n",
      "Requirement already satisfied: snowballstemmer>=1.1 in /Users/edwardliu/Downloads/anaconda3/lib/python3.7/site-packages (from sphinx->datascience) (2.0.0)\n",
      "Requirement already satisfied: babel!=2.0,>=1.3 in /Users/edwardliu/Downloads/anaconda3/lib/python3.7/site-packages (from sphinx->datascience) (2.7.0)\n",
      "Requirement already satisfied: sphinxcontrib-qthelp in /Users/edwardliu/Downloads/anaconda3/lib/python3.7/site-packages (from sphinx->datascience) (1.0.2)\n",
      "Requirement already satisfied: alabaster<0.8,>=0.7 in /Users/edwardliu/Downloads/anaconda3/lib/python3.7/site-packages (from sphinx->datascience) (0.7.12)\n",
      "Requirement already satisfied: sphinxcontrib-jsmath in /Users/edwardliu/Downloads/anaconda3/lib/python3.7/site-packages (from sphinx->datascience) (1.0.1)\n",
      "Requirement already satisfied: docutils>=0.12 in /Users/edwardliu/Downloads/anaconda3/lib/python3.7/site-packages (from sphinx->datascience) (0.15.2)\n",
      "Requirement already satisfied: branca>=0.3.0 in /Users/edwardliu/Downloads/anaconda3/lib/python3.7/site-packages (from folium>=0.9.1->datascience) (0.3.1)\n",
      "Requirement already satisfied: cycler>=0.10 in /Users/edwardliu/Downloads/anaconda3/lib/python3.7/site-packages (from matplotlib>=3.0.0->datascience) (0.10.0)\n",
      "Requirement already satisfied: kiwisolver>=1.0.1 in /Users/edwardliu/Downloads/anaconda3/lib/python3.7/site-packages (from matplotlib>=3.0.0->datascience) (1.1.0)\n",
      "Requirement already satisfied: pyparsing!=2.0.4,!=2.1.2,!=2.1.6,>=2.0.1 in /Users/edwardliu/Downloads/anaconda3/lib/python3.7/site-packages (from matplotlib>=3.0.0->datascience) (2.4.2)\n",
      "Requirement already satisfied: python-dateutil>=2.1 in /Users/edwardliu/Downloads/anaconda3/lib/python3.7/site-packages (from matplotlib>=3.0.0->datascience) (2.8.0)\n",
      "Requirement already satisfied: docopt>=0.6.1 in /Users/edwardliu/Downloads/anaconda3/lib/python3.7/site-packages (from coveralls->datascience) (0.6.2)\n",
      "Requirement already satisfied: pytz>=2017.2 in /Users/edwardliu/Downloads/anaconda3/lib/python3.7/site-packages (from pandas->datascience) (2019.3)\n",
      "Requirement already satisfied: six>=1.5.2 in /Users/edwardliu/Downloads/anaconda3/lib/python3.7/site-packages (from bokeh->datascience) (1.12.0)\n",
      "Requirement already satisfied: pillow>=4.0 in /Users/edwardliu/Downloads/anaconda3/lib/python3.7/site-packages (from bokeh->datascience) (6.2.0)\n",
      "Requirement already satisfied: PyYAML>=3.10 in /Users/edwardliu/Downloads/anaconda3/lib/python3.7/site-packages (from bokeh->datascience) (5.1.2)\n",
      "Requirement already satisfied: tornado>=4.3 in /Users/edwardliu/Downloads/anaconda3/lib/python3.7/site-packages (from bokeh->datascience) (6.0.3)\n",
      "Requirement already satisfied: zipp>=0.5 in /Users/edwardliu/Downloads/anaconda3/lib/python3.7/site-packages (from importlib-metadata>=0.12->pytest->datascience) (0.6.0)\n",
      "Requirement already satisfied: parso>=0.5.0 in /Users/edwardliu/Downloads/anaconda3/lib/python3.7/site-packages (from jedi>=0.10->ipython->datascience) (0.5.1)\n",
      "Requirement already satisfied: ptyprocess>=0.5 in /Users/edwardliu/Downloads/anaconda3/lib/python3.7/site-packages (from pexpect; sys_platform != \"win32\"->ipython->datascience) (0.6.0)\n",
      "Requirement already satisfied: ipython-genutils in /Users/edwardliu/Downloads/anaconda3/lib/python3.7/site-packages (from traitlets>=4.2->ipython->datascience) (0.2.0)\n",
      "Requirement already satisfied: idna<2.9,>=2.5 in /Users/edwardliu/Downloads/anaconda3/lib/python3.7/site-packages (from requests>=2.5.0->sphinx->datascience) (2.8)\n",
      "Requirement already satisfied: certifi>=2017.4.17 in /Users/edwardliu/Downloads/anaconda3/lib/python3.7/site-packages (from requests>=2.5.0->sphinx->datascience) (2019.9.11)\n",
      "Requirement already satisfied: chardet<3.1.0,>=3.0.2 in /Users/edwardliu/Downloads/anaconda3/lib/python3.7/site-packages (from requests>=2.5.0->sphinx->datascience) (3.0.4)\n",
      "Requirement already satisfied: urllib3!=1.25.0,!=1.25.1,<1.26,>=1.21.1 in /Users/edwardliu/Downloads/anaconda3/lib/python3.7/site-packages (from requests>=2.5.0->sphinx->datascience) (1.24.2)\n",
      "Requirement already satisfied: MarkupSafe>=0.23 in /Users/edwardliu/Downloads/anaconda3/lib/python3.7/site-packages (from Jinja2>=2.3->sphinx->datascience) (1.1.1)\n"
     ]
    }
   ],
   "source": [
    "!pip install datascience"
   ]
  },
  {
   "cell_type": "code",
   "execution_count": 2,
   "metadata": {},
   "outputs": [],
   "source": [
    "import pandas as pd\n",
    "from datascience import *\n",
    "import numpy as np\n",
    "import matplotlib\n",
    "%matplotlib inline\n",
    "import matplotlib.pyplot as plt\n",
    "plt.style.use('fivethirtyeight')"
   ]
  },
  {
   "cell_type": "code",
   "execution_count": 3,
   "metadata": {},
   "outputs": [
    {
     "data": {
      "text/plain": [
       "'/Users/edwardliu/Documents/dss-2019'"
      ]
     },
     "execution_count": 3,
     "metadata": {},
     "output_type": "execute_result"
    }
   ],
   "source": [
    "pwd"
   ]
  },
  {
   "cell_type": "code",
   "execution_count": 5,
   "metadata": {},
   "outputs": [
    {
     "data": {
      "text/html": [
       "<table border=\"1\" class=\"dataframe\">\n",
       "    <thead>\n",
       "        <tr>\n",
       "            <th>is_sarcastic</th> <th>headline</th> <th>article_link</th> <th>headline length</th>\n",
       "        </tr>\n",
       "    </thead>\n",
       "    <tbody>\n",
       "        <tr>\n",
       "            <td>1           </td> <td>thirtysomething scientists unveil doomsday clock of hair ...</td> <td>https://www.theonion.com/thirtysomething-scientists-unve ...</td> <td>61             </td>\n",
       "        </tr>\n",
       "        <tr>\n",
       "            <td>0           </td> <td>dem rep. totally nails why congress is falling short on  ...</td> <td>https://www.huffingtonpost.com/entry/donna-edwards-inequ ...</td> <td>79             </td>\n",
       "        </tr>\n",
       "        <tr>\n",
       "            <td>0           </td> <td>eat your veggies: 9 deliciously different recipes           </td> <td>https://www.huffingtonpost.com/entry/eat-your-veggies-9- ...</td> <td>49             </td>\n",
       "        </tr>\n",
       "    </tbody>\n",
       "</table>\n",
       "<p>... (28616 rows omitted)</p>"
      ],
      "text/plain": [
       "<IPython.core.display.HTML object>"
      ]
     },
     "metadata": {},
     "output_type": "display_data"
    }
   ],
   "source": [
    "lengths_df = pd.read_csv('/Users/edwardliu/Documents/dss-2019/Data Frames/With Lengths.csv')\n",
    "lengths = Table.from_df(lengths_df)\n",
    "lengths.show(3)"
   ]
  },
  {
   "cell_type": "code",
   "execution_count": 6,
   "metadata": {},
   "outputs": [],
   "source": [
    "sarcastic = lengths.where('is_sarcastic', 1)\n",
    "real = lengths.where('is_sarcastic', 0)"
   ]
  },
  {
   "cell_type": "code",
   "execution_count": 7,
   "metadata": {},
   "outputs": [],
   "source": [
    "sarcastic_headlines = sarcastic.select('headline')\n",
    "real_headlines = real.select('headline')"
   ]
  },
  {
   "cell_type": "code",
   "execution_count": 8,
   "metadata": {},
   "outputs": [],
   "source": [
    "useless_words = ['a', 'at', 'and', 'be', 'by', 'for', 'is', 'in', 'it', 'of', 'on', 'to', 'the', 'of', '--']"
   ]
  },
  {
   "cell_type": "code",
   "execution_count": 9,
   "metadata": {},
   "outputs": [
    {
     "data": {
      "text/html": [
       "<table border=\"1\" class=\"dataframe\">\n",
       "    <thead>\n",
       "        <tr>\n",
       "            <th>words</th> <th>count</th>\n",
       "        </tr>\n",
       "    </thead>\n",
       "    <tbody>\n",
       "        <tr>\n",
       "            <td>man  </td> <td>1143 </td>\n",
       "        </tr>\n",
       "        <tr>\n",
       "            <td>with </td> <td>1008 </td>\n",
       "        </tr>\n",
       "        <tr>\n",
       "            <td>new  </td> <td>973  </td>\n",
       "        </tr>\n",
       "        <tr>\n",
       "            <td>from </td> <td>664  </td>\n",
       "        </tr>\n",
       "        <tr>\n",
       "            <td>out  </td> <td>559  </td>\n",
       "        </tr>\n",
       "        <tr>\n",
       "            <td>after</td> <td>546  </td>\n",
       "        </tr>\n",
       "        <tr>\n",
       "            <td>up   </td> <td>507  </td>\n",
       "        </tr>\n",
       "        <tr>\n",
       "            <td>he   </td> <td>499  </td>\n",
       "        </tr>\n",
       "        <tr>\n",
       "            <td>area </td> <td>487  </td>\n",
       "        </tr>\n",
       "        <tr>\n",
       "            <td>about</td> <td>483  </td>\n",
       "        </tr>\n",
       "    </tbody>\n",
       "</table>\n",
       "<p>... (23905 rows omitted)</p>"
      ],
      "text/plain": [
       "words | count\n",
       "man   | 1143\n",
       "with  | 1008\n",
       "new   | 973\n",
       "from  | 664\n",
       "out   | 559\n",
       "after | 546\n",
       "up    | 507\n",
       "he    | 499\n",
       "area  | 487\n",
       "about | 483\n",
       "... (23905 rows omitted)"
      ]
     },
     "execution_count": 9,
     "metadata": {},
     "output_type": "execute_result"
    }
   ],
   "source": [
    "sarcastic_words = []\n",
    "\n",
    "for i in sarcastic_headlines.column(0):\n",
    "    for j in i.split():\n",
    "        sarcastic_words.append(j)\n",
    "\n",
    "sarcastic_tbl = Table().with_column('words', sarcastic_words).where('words', are.not_contained_in(useless_words))\n",
    "sarcastic_tbl = sarcastic_tbl.group('words').sort(1, descending=True)\n",
    "sarcastic_tbl"
   ]
  },
  {
   "cell_type": "code",
   "execution_count": 10,
   "metadata": {},
   "outputs": [
    {
     "data": {
      "text/html": [
       "<table border=\"1\" class=\"dataframe\">\n",
       "    <thead>\n",
       "        <tr>\n",
       "            <th>words</th> <th>count</th>\n",
       "        </tr>\n",
       "    </thead>\n",
       "    <tbody>\n",
       "        <tr>\n",
       "            <td>trump</td> <td>957  </td>\n",
       "        </tr>\n",
       "        <tr>\n",
       "            <td>with </td> <td>943  </td>\n",
       "        </tr>\n",
       "        <tr>\n",
       "            <td>you  </td> <td>732  </td>\n",
       "        </tr>\n",
       "        <tr>\n",
       "            <td>this </td> <td>690  </td>\n",
       "        </tr>\n",
       "        <tr>\n",
       "            <td>new  </td> <td>664  </td>\n",
       "        </tr>\n",
       "        <tr>\n",
       "            <td>from </td> <td>661  </td>\n",
       "        </tr>\n",
       "        <tr>\n",
       "            <td>about</td> <td>644  </td>\n",
       "        </tr>\n",
       "        <tr>\n",
       "            <td>how  </td> <td>639  </td>\n",
       "        </tr>\n",
       "        <tr>\n",
       "            <td>your </td> <td>575  </td>\n",
       "        </tr>\n",
       "        <tr>\n",
       "            <td>are  </td> <td>555  </td>\n",
       "        </tr>\n",
       "    </tbody>\n",
       "</table>\n",
       "<p>... (24997 rows omitted)</p>"
      ],
      "text/plain": [
       "words | count\n",
       "trump | 957\n",
       "with  | 943\n",
       "you   | 732\n",
       "this  | 690\n",
       "new   | 664\n",
       "from  | 661\n",
       "about | 644\n",
       "how   | 639\n",
       "your  | 575\n",
       "are   | 555\n",
       "... (24997 rows omitted)"
      ]
     },
     "execution_count": 10,
     "metadata": {},
     "output_type": "execute_result"
    }
   ],
   "source": [
    "real_words = []\n",
    "\n",
    "for i in real_headlines.column(0):\n",
    "    for j in i.split():\n",
    "        real_words.append(j)\n",
    "\n",
    "real_tbl = Table().with_column('words', real_words)\n",
    "real_tbl = real_tbl.group('words').where('words', are.not_contained_in(useless_words)).sort(1, descending=True)\n",
    "real_tbl"
   ]
  },
  {
   "cell_type": "code",
   "execution_count": 11,
   "metadata": {},
   "outputs": [
    {
     "data": {
      "text/html": [
       "<table border=\"1\" class=\"dataframe\">\n",
       "    <thead>\n",
       "        <tr>\n",
       "            <th>words</th> <th>count</th>\n",
       "        </tr>\n",
       "    </thead>\n",
       "    <tbody>\n",
       "        <tr>\n",
       "            <td>fucking  </td> <td>100  </td>\n",
       "        </tr>\n",
       "        <tr>\n",
       "            <td>shit     </td> <td>66   </td>\n",
       "        </tr>\n",
       "        <tr>\n",
       "            <td>clearly  </td> <td>56   </td>\n",
       "        </tr>\n",
       "        <tr>\n",
       "            <td>fuck     </td> <td>45   </td>\n",
       "        </tr>\n",
       "        <tr>\n",
       "            <td>realizes </td> <td>42   </td>\n",
       "        </tr>\n",
       "        <tr>\n",
       "            <td>unable   </td> <td>37   </td>\n",
       "        </tr>\n",
       "        <tr>\n",
       "            <td>kavanaugh</td> <td>36   </td>\n",
       "        </tr>\n",
       "        <tr>\n",
       "            <td>archives:</td> <td>32   </td>\n",
       "        </tr>\n",
       "        <tr>\n",
       "            <td>slowly   </td> <td>30   </td>\n",
       "        </tr>\n",
       "        <tr>\n",
       "            <td>per      </td> <td>30   </td>\n",
       "        </tr>\n",
       "    </tbody>\n",
       "</table>\n",
       "<p>... (13203 rows omitted)</p>"
      ],
      "text/plain": [
       "words     | count\n",
       "fucking   | 100\n",
       "shit      | 66\n",
       "clearly   | 56\n",
       "fuck      | 45\n",
       "realizes  | 42\n",
       "unable    | 37\n",
       "kavanaugh | 36\n",
       "archives: | 32\n",
       "slowly    | 30\n",
       "per       | 30\n",
       "... (13203 rows omitted)"
      ]
     },
     "execution_count": 11,
     "metadata": {},
     "output_type": "execute_result"
    }
   ],
   "source": [
    "sarcastic_unique = sarcastic_tbl.where(0, are.not_contained_in(real_tbl.column(0)))\n",
    "sarcastic_unique"
   ]
  },
  {
   "cell_type": "code",
   "execution_count": 12,
   "metadata": {},
   "outputs": [
    {
     "data": {
      "text/html": [
       "<table border=\"1\" class=\"dataframe\">\n",
       "    <thead>\n",
       "        <tr>\n",
       "            <th>words</th> <th>count</th>\n",
       "        </tr>\n",
       "    </thead>\n",
       "    <tbody>\n",
       "        <tr>\n",
       "            <td>huffpost  </td> <td>58   </td>\n",
       "        </tr>\n",
       "        <tr>\n",
       "            <td>email:    </td> <td>57   </td>\n",
       "        </tr>\n",
       "        <tr>\n",
       "            <td>queer     </td> <td>49   </td>\n",
       "        </tr>\n",
       "        <tr>\n",
       "            <td>watch:    </td> <td>48   </td>\n",
       "        </tr>\n",
       "        <tr>\n",
       "            <td>trans     </td> <td>48   </td>\n",
       "        </tr>\n",
       "        <tr>\n",
       "            <td>kardashian</td> <td>47   </td>\n",
       "        </tr>\n",
       "        <tr>\n",
       "            <td>jenner    </td> <td>40   </td>\n",
       "        </tr>\n",
       "        <tr>\n",
       "            <td>lgbt      </td> <td>39   </td>\n",
       "        </tr>\n",
       "        <tr>\n",
       "            <td>'snl'     </td> <td>34   </td>\n",
       "        </tr>\n",
       "        <tr>\n",
       "            <td>lgbtq     </td> <td>32   </td>\n",
       "        </tr>\n",
       "    </tbody>\n",
       "</table>\n",
       "<p>... (14295 rows omitted)</p>"
      ],
      "text/plain": [
       "words      | count\n",
       "huffpost   | 58\n",
       "email:     | 57\n",
       "queer      | 49\n",
       "watch:     | 48\n",
       "trans      | 48\n",
       "kardashian | 47\n",
       "jenner     | 40\n",
       "lgbt       | 39\n",
       "'snl'      | 34\n",
       "lgbtq      | 32\n",
       "... (14295 rows omitted)"
      ]
     },
     "execution_count": 12,
     "metadata": {},
     "output_type": "execute_result"
    }
   ],
   "source": [
    "real_unique = real_tbl.where(0, are.not_contained_in(sarcastic_tbl.column(0)))\n",
    "real_unique"
   ]
  },
  {
   "cell_type": "code",
   "execution_count": null,
   "metadata": {},
   "outputs": [],
   "source": []
  }
 ],
 "metadata": {
  "kernelspec": {
   "display_name": "Python 3",
   "language": "python",
   "name": "python3"
  },
  "language_info": {
   "codemirror_mode": {
    "name": "ipython",
    "version": 3
   },
   "file_extension": ".py",
   "mimetype": "text/x-python",
   "name": "python",
   "nbconvert_exporter": "python",
   "pygments_lexer": "ipython3",
   "version": "3.7.4"
  }
 },
 "nbformat": 4,
 "nbformat_minor": 2
}
