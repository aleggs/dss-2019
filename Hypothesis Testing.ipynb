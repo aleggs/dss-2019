{
 "cells": [
  {
   "cell_type": "code",
   "execution_count": 20,
   "metadata": {},
   "outputs": [
    {
     "name": "stdout",
     "output_type": "stream",
     "text": [
      "Requirement already satisfied: datascience in /Users/willfurtado/opt/anaconda3/lib/python3.7/site-packages (0.15.3)\n",
      "Requirement already satisfied: numpy in /Users/willfurtado/opt/anaconda3/lib/python3.7/site-packages (from datascience) (1.17.2)\n",
      "Requirement already satisfied: bokeh in /Users/willfurtado/opt/anaconda3/lib/python3.7/site-packages (from datascience) (1.3.4)\n",
      "Requirement already satisfied: pytest in /Users/willfurtado/opt/anaconda3/lib/python3.7/site-packages (from datascience) (5.2.1)\n",
      "Requirement already satisfied: folium>=0.9.1 in /Users/willfurtado/opt/anaconda3/lib/python3.7/site-packages (from datascience) (0.10.0)\n",
      "Requirement already satisfied: matplotlib>=3.0.0 in /Users/willfurtado/opt/anaconda3/lib/python3.7/site-packages (from datascience) (3.1.1)\n",
      "Requirement already satisfied: coveralls in /Users/willfurtado/opt/anaconda3/lib/python3.7/site-packages (from datascience) (1.8.2)\n",
      "Requirement already satisfied: pandas in /Users/willfurtado/opt/anaconda3/lib/python3.7/site-packages (from datascience) (0.25.1)\n",
      "Requirement already satisfied: setuptools in /Users/willfurtado/opt/anaconda3/lib/python3.7/site-packages (from datascience) (41.4.0)\n",
      "Requirement already satisfied: coverage==4.5.3 in /Users/willfurtado/opt/anaconda3/lib/python3.7/site-packages (from datascience) (4.5.3)\n",
      "Requirement already satisfied: ipython in /Users/willfurtado/opt/anaconda3/lib/python3.7/site-packages (from datascience) (7.8.0)\n",
      "Requirement already satisfied: scipy in /Users/willfurtado/opt/anaconda3/lib/python3.7/site-packages (from datascience) (1.3.1)\n",
      "Requirement already satisfied: sphinx in /Users/willfurtado/opt/anaconda3/lib/python3.7/site-packages (from datascience) (2.2.0)\n",
      "Requirement already satisfied: PyYAML>=3.10 in /Users/willfurtado/opt/anaconda3/lib/python3.7/site-packages (from bokeh->datascience) (5.1.2)\n",
      "Requirement already satisfied: python-dateutil>=2.1 in /Users/willfurtado/opt/anaconda3/lib/python3.7/site-packages (from bokeh->datascience) (2.8.0)\n",
      "Requirement already satisfied: Jinja2>=2.7 in /Users/willfurtado/opt/anaconda3/lib/python3.7/site-packages (from bokeh->datascience) (2.10.3)\n",
      "Requirement already satisfied: six>=1.5.2 in /Users/willfurtado/opt/anaconda3/lib/python3.7/site-packages (from bokeh->datascience) (1.12.0)\n",
      "Requirement already satisfied: pillow>=4.0 in /Users/willfurtado/opt/anaconda3/lib/python3.7/site-packages (from bokeh->datascience) (6.2.0)\n",
      "Requirement already satisfied: tornado>=4.3 in /Users/willfurtado/opt/anaconda3/lib/python3.7/site-packages (from bokeh->datascience) (6.0.3)\n",
      "Requirement already satisfied: packaging>=16.8 in /Users/willfurtado/opt/anaconda3/lib/python3.7/site-packages (from bokeh->datascience) (19.2)\n",
      "Requirement already satisfied: py>=1.5.0 in /Users/willfurtado/opt/anaconda3/lib/python3.7/site-packages (from pytest->datascience) (1.8.0)\n",
      "Requirement already satisfied: attrs>=17.4.0 in /Users/willfurtado/opt/anaconda3/lib/python3.7/site-packages (from pytest->datascience) (19.2.0)\n",
      "Requirement already satisfied: more-itertools>=4.0.0 in /Users/willfurtado/opt/anaconda3/lib/python3.7/site-packages (from pytest->datascience) (7.2.0)\n",
      "Requirement already satisfied: atomicwrites>=1.0 in /Users/willfurtado/opt/anaconda3/lib/python3.7/site-packages (from pytest->datascience) (1.3.0)\n",
      "Requirement already satisfied: pluggy<1.0,>=0.12 in /Users/willfurtado/opt/anaconda3/lib/python3.7/site-packages (from pytest->datascience) (0.13.0)\n",
      "Requirement already satisfied: wcwidth in /Users/willfurtado/opt/anaconda3/lib/python3.7/site-packages (from pytest->datascience) (0.1.7)\n",
      "Requirement already satisfied: importlib-metadata>=0.12 in /Users/willfurtado/opt/anaconda3/lib/python3.7/site-packages (from pytest->datascience) (0.23)\n",
      "Requirement already satisfied: branca>=0.3.0 in /Users/willfurtado/opt/anaconda3/lib/python3.7/site-packages (from folium>=0.9.1->datascience) (0.3.1)\n",
      "Requirement already satisfied: requests in /Users/willfurtado/opt/anaconda3/lib/python3.7/site-packages (from folium>=0.9.1->datascience) (2.22.0)\n",
      "Requirement already satisfied: cycler>=0.10 in /Users/willfurtado/opt/anaconda3/lib/python3.7/site-packages (from matplotlib>=3.0.0->datascience) (0.10.0)\n",
      "Requirement already satisfied: kiwisolver>=1.0.1 in /Users/willfurtado/opt/anaconda3/lib/python3.7/site-packages (from matplotlib>=3.0.0->datascience) (1.1.0)\n",
      "Requirement already satisfied: pyparsing!=2.0.4,!=2.1.2,!=2.1.6,>=2.0.1 in /Users/willfurtado/opt/anaconda3/lib/python3.7/site-packages (from matplotlib>=3.0.0->datascience) (2.4.2)\n",
      "Requirement already satisfied: docopt>=0.6.1 in /Users/willfurtado/opt/anaconda3/lib/python3.7/site-packages (from coveralls->datascience) (0.6.2)\n",
      "Requirement already satisfied: pytz>=2017.2 in /Users/willfurtado/opt/anaconda3/lib/python3.7/site-packages (from pandas->datascience) (2019.3)\n",
      "Requirement already satisfied: pygments in /Users/willfurtado/opt/anaconda3/lib/python3.7/site-packages (from ipython->datascience) (2.4.2)\n",
      "Requirement already satisfied: backcall in /Users/willfurtado/opt/anaconda3/lib/python3.7/site-packages (from ipython->datascience) (0.1.0)\n",
      "Requirement already satisfied: decorator in /Users/willfurtado/opt/anaconda3/lib/python3.7/site-packages (from ipython->datascience) (4.4.0)\n",
      "Requirement already satisfied: traitlets>=4.2 in /Users/willfurtado/opt/anaconda3/lib/python3.7/site-packages (from ipython->datascience) (4.3.3)\n",
      "Requirement already satisfied: pickleshare in /Users/willfurtado/opt/anaconda3/lib/python3.7/site-packages (from ipython->datascience) (0.7.5)\n",
      "Requirement already satisfied: appnope; sys_platform == \"darwin\" in /Users/willfurtado/opt/anaconda3/lib/python3.7/site-packages (from ipython->datascience) (0.1.0)\n",
      "Requirement already satisfied: jedi>=0.10 in /Users/willfurtado/opt/anaconda3/lib/python3.7/site-packages (from ipython->datascience) (0.15.1)\n",
      "Requirement already satisfied: pexpect; sys_platform != \"win32\" in /Users/willfurtado/opt/anaconda3/lib/python3.7/site-packages (from ipython->datascience) (4.7.0)\n",
      "Requirement already satisfied: prompt-toolkit<2.1.0,>=2.0.0 in /Users/willfurtado/opt/anaconda3/lib/python3.7/site-packages (from ipython->datascience) (2.0.10)\n",
      "Requirement already satisfied: sphinxcontrib-htmlhelp in /Users/willfurtado/opt/anaconda3/lib/python3.7/site-packages (from sphinx->datascience) (1.0.2)\n",
      "Requirement already satisfied: imagesize in /Users/willfurtado/opt/anaconda3/lib/python3.7/site-packages (from sphinx->datascience) (1.1.0)\n",
      "Requirement already satisfied: sphinxcontrib-qthelp in /Users/willfurtado/opt/anaconda3/lib/python3.7/site-packages (from sphinx->datascience) (1.0.2)\n",
      "Requirement already satisfied: sphinxcontrib-jsmath in /Users/willfurtado/opt/anaconda3/lib/python3.7/site-packages (from sphinx->datascience) (1.0.1)\n",
      "Requirement already satisfied: docutils>=0.12 in /Users/willfurtado/opt/anaconda3/lib/python3.7/site-packages (from sphinx->datascience) (0.15.2)\n",
      "Requirement already satisfied: snowballstemmer>=1.1 in /Users/willfurtado/opt/anaconda3/lib/python3.7/site-packages (from sphinx->datascience) (2.0.0)\n",
      "Requirement already satisfied: sphinxcontrib-devhelp in /Users/willfurtado/opt/anaconda3/lib/python3.7/site-packages (from sphinx->datascience) (1.0.1)\n",
      "Requirement already satisfied: sphinxcontrib-serializinghtml in /Users/willfurtado/opt/anaconda3/lib/python3.7/site-packages (from sphinx->datascience) (1.1.3)\n",
      "Requirement already satisfied: sphinxcontrib-applehelp in /Users/willfurtado/opt/anaconda3/lib/python3.7/site-packages (from sphinx->datascience) (1.0.1)\n",
      "Requirement already satisfied: babel!=2.0,>=1.3 in /Users/willfurtado/opt/anaconda3/lib/python3.7/site-packages (from sphinx->datascience) (2.7.0)\n",
      "Requirement already satisfied: alabaster<0.8,>=0.7 in /Users/willfurtado/opt/anaconda3/lib/python3.7/site-packages (from sphinx->datascience) (0.7.12)\n",
      "Requirement already satisfied: MarkupSafe>=0.23 in /Users/willfurtado/opt/anaconda3/lib/python3.7/site-packages (from Jinja2>=2.7->bokeh->datascience) (1.1.1)\n",
      "Requirement already satisfied: zipp>=0.5 in /Users/willfurtado/opt/anaconda3/lib/python3.7/site-packages (from importlib-metadata>=0.12->pytest->datascience) (0.6.0)\n",
      "Requirement already satisfied: chardet<3.1.0,>=3.0.2 in /Users/willfurtado/opt/anaconda3/lib/python3.7/site-packages (from requests->folium>=0.9.1->datascience) (3.0.4)\n",
      "Requirement already satisfied: idna<2.9,>=2.5 in /Users/willfurtado/opt/anaconda3/lib/python3.7/site-packages (from requests->folium>=0.9.1->datascience) (2.8)\n",
      "Requirement already satisfied: urllib3!=1.25.0,!=1.25.1,<1.26,>=1.21.1 in /Users/willfurtado/opt/anaconda3/lib/python3.7/site-packages (from requests->folium>=0.9.1->datascience) (1.24.2)\n",
      "Requirement already satisfied: certifi>=2017.4.17 in /Users/willfurtado/opt/anaconda3/lib/python3.7/site-packages (from requests->folium>=0.9.1->datascience) (2019.9.11)\n",
      "Requirement already satisfied: ipython-genutils in /Users/willfurtado/opt/anaconda3/lib/python3.7/site-packages (from traitlets>=4.2->ipython->datascience) (0.2.0)\n",
      "Requirement already satisfied: parso>=0.5.0 in /Users/willfurtado/opt/anaconda3/lib/python3.7/site-packages (from jedi>=0.10->ipython->datascience) (0.5.1)\n",
      "Requirement already satisfied: ptyprocess>=0.5 in /Users/willfurtado/opt/anaconda3/lib/python3.7/site-packages (from pexpect; sys_platform != \"win32\"->ipython->datascience) (0.6.0)\n"
     ]
    }
   ],
   "source": [
    "!pip install datascience\n",
    "import pandas as pd\n",
    "from datascience import *\n",
    "import numpy as np\n",
    "\n",
    "import matplotlib\n",
    "%matplotlib inline\n",
    "import matplotlib.pyplot as plt\n",
    "plt.style.use('ggplot')\n",
    "import warnings\n",
    "warnings.simplefilter('ignore', FutureWarning)"
   ]
  },
  {
   "cell_type": "code",
   "execution_count": 4,
   "metadata": {},
   "outputs": [
    {
     "data": {
      "text/plain": [
       "'/Users/willfurtado/Documents/GitHub/dss-2019'"
      ]
     },
     "execution_count": 4,
     "metadata": {},
     "output_type": "execute_result"
    }
   ],
   "source": [
    "pwd"
   ]
  },
  {
   "cell_type": "markdown",
   "metadata": {},
   "source": [
    "# Data Table"
   ]
  },
  {
   "cell_type": "code",
   "execution_count": 5,
   "metadata": {},
   "outputs": [
    {
     "data": {
      "text/html": [
       "<table border=\"1\" class=\"dataframe\">\n",
       "    <thead>\n",
       "        <tr>\n",
       "            <th>is_sarcastic</th> <th>headline</th> <th>article_link</th> <th>length</th>\n",
       "        </tr>\n",
       "    </thead>\n",
       "    <tbody>\n",
       "        <tr>\n",
       "            <td>1           </td> <td>thirtysomething scientists unveil doomsday clock of hair ...</td> <td>https://www.theonion.com/thirtysomething-scientists-unve ...</td> <td>61    </td>\n",
       "        </tr>\n",
       "        <tr>\n",
       "            <td>0           </td> <td>dem rep. totally nails why congress is falling short on  ...</td> <td>https://www.huffingtonpost.com/entry/donna-edwards-inequ ...</td> <td>79    </td>\n",
       "        </tr>\n",
       "        <tr>\n",
       "            <td>0           </td> <td>eat your veggies: 9 deliciously different recipes           </td> <td>https://www.huffingtonpost.com/entry/eat-your-veggies-9- ...</td> <td>49    </td>\n",
       "        </tr>\n",
       "    </tbody>\n",
       "</table>\n",
       "<p>... (28616 rows omitted)</p>"
      ],
      "text/plain": [
       "<IPython.core.display.HTML object>"
      ]
     },
     "metadata": {},
     "output_type": "display_data"
    }
   ],
   "source": [
    "df = pd.read_csv('/Users/willfurtado/Documents/GitHub/dss-2019/Data Frames/With Lengths.csv')\n",
    "articles = Table.from_df(df).relabeled('headline length','length')\n",
    "articles.show(3)\n",
    "headlines = articles.column('headline')"
   ]
  },
  {
   "cell_type": "code",
   "execution_count": 6,
   "metadata": {},
   "outputs": [
    {
     "data": {
      "text/html": [
       "<table border=\"1\" class=\"dataframe\">\n",
       "    <thead>\n",
       "        <tr>\n",
       "            <th>is_sarcastic</th> <th>headline</th> <th>article_link</th> <th>length</th> <th>word count</th>\n",
       "        </tr>\n",
       "    </thead>\n",
       "    <tbody>\n",
       "        <tr>\n",
       "            <td>1           </td> <td>thirtysomething scientists unveil doomsday clock of hair ...</td> <td>https://www.theonion.com/thirtysomething-scientists-unve ...</td> <td>61    </td> <td>8         </td>\n",
       "        </tr>\n",
       "        <tr>\n",
       "            <td>0           </td> <td>dem rep. totally nails why congress is falling short on  ...</td> <td>https://www.huffingtonpost.com/entry/donna-edwards-inequ ...</td> <td>79    </td> <td>13        </td>\n",
       "        </tr>\n",
       "        <tr>\n",
       "            <td>0           </td> <td>eat your veggies: 9 deliciously different recipes           </td> <td>https://www.huffingtonpost.com/entry/eat-your-veggies-9- ...</td> <td>49    </td> <td>7         </td>\n",
       "        </tr>\n",
       "        <tr>\n",
       "            <td>1           </td> <td>inclement weather prevents liar from getting to work        </td> <td>https://local.theonion.com/inclement-weather-prevents-li ...</td> <td>52    </td> <td>8         </td>\n",
       "        </tr>\n",
       "        <tr>\n",
       "            <td>1           </td> <td>mother comes pretty close to using word 'streaming' corr ...</td> <td>https://www.theonion.com/mother-comes-pretty-close-to-us ...</td> <td>61    </td> <td>9         </td>\n",
       "        </tr>\n",
       "        <tr>\n",
       "            <td>0           </td> <td>my white inheritance                                        </td> <td>https://www.huffingtonpost.com/entry/my-white-inheritanc ...</td> <td>20    </td> <td>3         </td>\n",
       "        </tr>\n",
       "        <tr>\n",
       "            <td>0           </td> <td>5 ways to file your taxes with less stress                  </td> <td>https://www.huffingtonpost.com/entry/5-ways-to-file-your ...</td> <td>42    </td> <td>9         </td>\n",
       "        </tr>\n",
       "        <tr>\n",
       "            <td>1           </td> <td>richard branson's global-warming donation nearly as much ...</td> <td>https://www.theonion.com/richard-bransons-global-warming ...</td> <td>88    </td> <td>13        </td>\n",
       "        </tr>\n",
       "        <tr>\n",
       "            <td>1           </td> <td>shadow government getting too large to meet in marriott  ...</td> <td>https://politics.theonion.com/shadow-government-getting- ...</td> <td>73    </td> <td>12        </td>\n",
       "        </tr>\n",
       "        <tr>\n",
       "            <td>0           </td> <td>lots of parents know this scenario                          </td> <td>https://www.huffingtonpost.comhttp://pubx.co/6IXxhm         </td> <td>34    </td> <td>6         </td>\n",
       "        </tr>\n",
       "    </tbody>\n",
       "</table>\n",
       "<p>... (28609 rows omitted)</p>"
      ],
      "text/plain": [
       "is_sarcastic | headline                                                     | article_link                                                 | length | word count\n",
       "1            | thirtysomething scientists unveil doomsday clock of hair ... | https://www.theonion.com/thirtysomething-scientists-unve ... | 61     | 8\n",
       "0            | dem rep. totally nails why congress is falling short on  ... | https://www.huffingtonpost.com/entry/donna-edwards-inequ ... | 79     | 13\n",
       "0            | eat your veggies: 9 deliciously different recipes            | https://www.huffingtonpost.com/entry/eat-your-veggies-9- ... | 49     | 7\n",
       "1            | inclement weather prevents liar from getting to work         | https://local.theonion.com/inclement-weather-prevents-li ... | 52     | 8\n",
       "1            | mother comes pretty close to using word 'streaming' corr ... | https://www.theonion.com/mother-comes-pretty-close-to-us ... | 61     | 9\n",
       "0            | my white inheritance                                         | https://www.huffingtonpost.com/entry/my-white-inheritanc ... | 20     | 3\n",
       "0            | 5 ways to file your taxes with less stress                   | https://www.huffingtonpost.com/entry/5-ways-to-file-your ... | 42     | 9\n",
       "1            | richard branson's global-warming donation nearly as much ... | https://www.theonion.com/richard-bransons-global-warming ... | 88     | 13\n",
       "1            | shadow government getting too large to meet in marriott  ... | https://politics.theonion.com/shadow-government-getting- ... | 73     | 12\n",
       "0            | lots of parents know this scenario                           | https://www.huffingtonpost.comhttp://pubx.co/6IXxhm          | 34     | 6\n",
       "... (28609 rows omitted)"
      ]
     },
     "execution_count": 6,
     "metadata": {},
     "output_type": "execute_result"
    }
   ],
   "source": [
    "word_count = [len(headline.split()) for headline in headlines]\n",
    "articles = articles.with_column('word count',word_count)\n",
    "articles"
   ]
  },
  {
   "cell_type": "code",
   "execution_count": 7,
   "metadata": {},
   "outputs": [
    {
     "data": {
      "text/html": [
       "<table border=\"1\" class=\"dataframe\">\n",
       "    <thead>\n",
       "        <tr>\n",
       "            <th>is_sarcastic</th> <th>headline</th> <th>article_link</th> <th>length</th> <th>word count</th>\n",
       "        </tr>\n",
       "    </thead>\n",
       "    <tbody>\n",
       "        <tr>\n",
       "            <td>1           </td> <td>thirtysomething scientists unveil doomsday clock of hair ...</td> <td>https://www.theonion.com/thirtysomething-scientists-unve ...</td> <td>61    </td> <td>8         </td>\n",
       "        </tr>\n",
       "        <tr>\n",
       "            <td>1           </td> <td>inclement weather prevents liar from getting to work        </td> <td>https://local.theonion.com/inclement-weather-prevents-li ...</td> <td>52    </td> <td>8         </td>\n",
       "        </tr>\n",
       "        <tr>\n",
       "            <td>1           </td> <td>mother comes pretty close to using word 'streaming' corr ...</td> <td>https://www.theonion.com/mother-comes-pretty-close-to-us ...</td> <td>61    </td> <td>9         </td>\n",
       "        </tr>\n",
       "        <tr>\n",
       "            <td>1           </td> <td>richard branson's global-warming donation nearly as much ...</td> <td>https://www.theonion.com/richard-bransons-global-warming ...</td> <td>88    </td> <td>13        </td>\n",
       "        </tr>\n",
       "        <tr>\n",
       "            <td>1           </td> <td>shadow government getting too large to meet in marriott  ...</td> <td>https://politics.theonion.com/shadow-government-getting- ...</td> <td>73    </td> <td>12        </td>\n",
       "        </tr>\n",
       "        <tr>\n",
       "            <td>1           </td> <td>ford develops new suv that runs purely on gasoline          </td> <td>https://www.theonion.com/ford-develops-new-suv-that-runs ...</td> <td>50    </td> <td>9         </td>\n",
       "        </tr>\n",
       "        <tr>\n",
       "            <td>1           </td> <td>area boy enters jumping-and-touching-tops-of-doorways phase </td> <td>https://www.theonion.com/area-boy-enters-jumping-and-tou ...</td> <td>59    </td> <td>5         </td>\n",
       "        </tr>\n",
       "        <tr>\n",
       "            <td>1           </td> <td>area man does most of his traveling by gurney               </td> <td>https://local.theonion.com/area-man-does-most-of-his-tra ...</td> <td>45    </td> <td>9         </td>\n",
       "        </tr>\n",
       "        <tr>\n",
       "            <td>1           </td> <td>guard in video game under strict orders to repeatedly pa ...</td> <td>https://www.theonion.com/guard-in-video-game-under-stric ...</td> <td>82    </td> <td>14        </td>\n",
       "        </tr>\n",
       "        <tr>\n",
       "            <td>1           </td> <td>secret service agent not so secret about being david ala ...</td> <td>https://www.theonion.com/secret-service-agent-not-so-sec ...</td> <td>67    </td> <td>12        </td>\n",
       "        </tr>\n",
       "    </tbody>\n",
       "</table>\n",
       "<p>... (13624 rows omitted)</p>"
      ],
      "text/plain": [
       "is_sarcastic | headline                                                     | article_link                                                 | length | word count\n",
       "1            | thirtysomething scientists unveil doomsday clock of hair ... | https://www.theonion.com/thirtysomething-scientists-unve ... | 61     | 8\n",
       "1            | inclement weather prevents liar from getting to work         | https://local.theonion.com/inclement-weather-prevents-li ... | 52     | 8\n",
       "1            | mother comes pretty close to using word 'streaming' corr ... | https://www.theonion.com/mother-comes-pretty-close-to-us ... | 61     | 9\n",
       "1            | richard branson's global-warming donation nearly as much ... | https://www.theonion.com/richard-bransons-global-warming ... | 88     | 13\n",
       "1            | shadow government getting too large to meet in marriott  ... | https://politics.theonion.com/shadow-government-getting- ... | 73     | 12\n",
       "1            | ford develops new suv that runs purely on gasoline           | https://www.theonion.com/ford-develops-new-suv-that-runs ... | 50     | 9\n",
       "1            | area boy enters jumping-and-touching-tops-of-doorways phase  | https://www.theonion.com/area-boy-enters-jumping-and-tou ... | 59     | 5\n",
       "1            | area man does most of his traveling by gurney                | https://local.theonion.com/area-man-does-most-of-his-tra ... | 45     | 9\n",
       "1            | guard in video game under strict orders to repeatedly pa ... | https://www.theonion.com/guard-in-video-game-under-stric ... | 82     | 14\n",
       "1            | secret service agent not so secret about being david ala ... | https://www.theonion.com/secret-service-agent-not-so-sec ... | 67     | 12\n",
       "... (13624 rows omitted)"
      ]
     },
     "execution_count": 7,
     "metadata": {},
     "output_type": "execute_result"
    }
   ],
   "source": [
    "## Subset of articles table where all rows are sarcastic\n",
    "\n",
    "sarcasm = articles.where('is_sarcastic', 1)\n",
    "sarcasm"
   ]
  },
  {
   "cell_type": "code",
   "execution_count": 8,
   "metadata": {},
   "outputs": [
    {
     "data": {
      "text/html": [
       "<table border=\"1\" class=\"dataframe\">\n",
       "    <thead>\n",
       "        <tr>\n",
       "            <th>headline</th> <th>article_link</th> <th>length</th> <th>word count</th>\n",
       "        </tr>\n",
       "    </thead>\n",
       "    <tbody>\n",
       "        <tr>\n",
       "            <td>dem rep. totally nails why congress is falling short on  ...</td> <td>https://www.huffingtonpost.com/entry/donna-edwards-inequ ...</td> <td>79    </td> <td>13        </td>\n",
       "        </tr>\n",
       "        <tr>\n",
       "            <td>eat your veggies: 9 deliciously different recipes           </td> <td>https://www.huffingtonpost.com/entry/eat-your-veggies-9- ...</td> <td>49    </td> <td>7         </td>\n",
       "        </tr>\n",
       "        <tr>\n",
       "            <td>my white inheritance                                        </td> <td>https://www.huffingtonpost.com/entry/my-white-inheritanc ...</td> <td>20    </td> <td>3         </td>\n",
       "        </tr>\n",
       "        <tr>\n",
       "            <td>5 ways to file your taxes with less stress                  </td> <td>https://www.huffingtonpost.com/entry/5-ways-to-file-your ...</td> <td>42    </td> <td>9         </td>\n",
       "        </tr>\n",
       "        <tr>\n",
       "            <td>lots of parents know this scenario                          </td> <td>https://www.huffingtonpost.comhttp://pubx.co/6IXxhm         </td> <td>34    </td> <td>6         </td>\n",
       "        </tr>\n",
       "        <tr>\n",
       "            <td>this lesbian is considered a father in indiana (and an a ...</td> <td>https://www.huffingtonpost.com/entry/this-lesbian-is-con ...</td> <td>75    </td> <td>14        </td>\n",
       "        </tr>\n",
       "        <tr>\n",
       "            <td>amanda peet told her daughter sex is 'a special hug'        </td> <td>https://www.huffingtonpost.com/entry/amanda-peet-told-he ...</td> <td>52    </td> <td>10        </td>\n",
       "        </tr>\n",
       "        <tr>\n",
       "            <td>what to know regarding current treatments for ebola         </td> <td>https://www.huffingtonpost.com/entry/what-to-know-regard ...</td> <td>51    </td> <td>8         </td>\n",
       "        </tr>\n",
       "        <tr>\n",
       "            <td>chris christie suggests hillary clinton was to blame for ...</td> <td>https://www.huffingtonpost.com/entry/chris-christie-hill ...</td> <td>107   </td> <td>16        </td>\n",
       "        </tr>\n",
       "        <tr>\n",
       "            <td>uber ceo travis kalanick stepping down from trump econom ...</td> <td>https://www.huffingtonpost.com/entry/uber-ceo-travis-kal ...</td> <td>75    </td> <td>11        </td>\n",
       "        </tr>\n",
       "    </tbody>\n",
       "</table>\n",
       "<p>... (14975 rows omitted)</p>"
      ],
      "text/plain": [
       "headline                                                     | article_link                                                 | length | word count\n",
       "dem rep. totally nails why congress is falling short on  ... | https://www.huffingtonpost.com/entry/donna-edwards-inequ ... | 79     | 13\n",
       "eat your veggies: 9 deliciously different recipes            | https://www.huffingtonpost.com/entry/eat-your-veggies-9- ... | 49     | 7\n",
       "my white inheritance                                         | https://www.huffingtonpost.com/entry/my-white-inheritanc ... | 20     | 3\n",
       "5 ways to file your taxes with less stress                   | https://www.huffingtonpost.com/entry/5-ways-to-file-your ... | 42     | 9\n",
       "lots of parents know this scenario                           | https://www.huffingtonpost.comhttp://pubx.co/6IXxhm          | 34     | 6\n",
       "this lesbian is considered a father in indiana (and an a ... | https://www.huffingtonpost.com/entry/this-lesbian-is-con ... | 75     | 14\n",
       "amanda peet told her daughter sex is 'a special hug'         | https://www.huffingtonpost.com/entry/amanda-peet-told-he ... | 52     | 10\n",
       "what to know regarding current treatments for ebola          | https://www.huffingtonpost.com/entry/what-to-know-regard ... | 51     | 8\n",
       "chris christie suggests hillary clinton was to blame for ... | https://www.huffingtonpost.com/entry/chris-christie-hill ... | 107    | 16\n",
       "uber ceo travis kalanick stepping down from trump econom ... | https://www.huffingtonpost.com/entry/uber-ceo-travis-kal ... | 75     | 11\n",
       "... (14975 rows omitted)"
      ]
     },
     "execution_count": 8,
     "metadata": {},
     "output_type": "execute_result"
    }
   ],
   "source": [
    "## Subset of articles table where all rows are NOT sarcastic\n",
    "\n",
    "not_sarcasm = articles.where('is_sarcastic', 0).drop('is_sarcastic')\n",
    "not_sarcasm"
   ]
  },
  {
   "cell_type": "markdown",
   "metadata": {},
   "source": [
    "# Table Specifications: Length"
   ]
  },
  {
   "cell_type": "markdown",
   "metadata": {},
   "source": [
    "Below are several parameters of the length of the headlines (both sarcastic and non-sarcastic)"
   ]
  },
  {
   "cell_type": "code",
   "execution_count": 9,
   "metadata": {},
   "outputs": [
    {
     "data": {
      "text/plain": [
       "926"
      ]
     },
     "execution_count": 9,
     "metadata": {},
     "output_type": "execute_result"
    }
   ],
   "source": [
    "## The maximum length of all headlines\n",
    "\n",
    "max(articles.column('length'))"
   ]
  },
  {
   "cell_type": "code",
   "execution_count": 10,
   "metadata": {},
   "outputs": [
    {
     "data": {
      "text/plain": [
       "'hot wheels ranked number one toy for rolling down ramp, knocking over dominoes that send marble down a funnel, dropping onto teeter-totter that yanks on string, causing pulley system to raise wooden block, propelling series of twine rollers that unwind spring, launching tennis ball across room, inching tire down slope until it hits power switch, activating table fan that blows toy ship with nail attached to it across kiddie pool, popping water balloon that fills cup, weighing down lever that forces basketball down track, nudging broomstick on axis to rotate, allowing golf ball to roll into sideways coffee mug, which tumbles down row of hardcover books until handle catches hook attached to lever that causes wooden mallet to slam down on serving spoon, catapulting small ball into cup attached by ribbon to lazy susan, which spins until it pushes d battery down incline plane, tipping over salt shaker to season omelet'"
      ]
     },
     "execution_count": 10,
     "metadata": {},
     "output_type": "execute_result"
    }
   ],
   "source": [
    "## The longest headline (maximum)\n",
    "\n",
    "articles.sort('length', descending = True).column('headline').item(0)"
   ]
  },
  {
   "cell_type": "code",
   "execution_count": 11,
   "metadata": {},
   "outputs": [
    {
     "data": {
      "text/plain": [
       "'occasionally you realize someone you thought was a dear friend is actually a foe, their true character finally revealed. but how do you forgive the unforgivable? here are my 10 steps to handling betrayal with elegance and grace.'"
      ]
     },
     "execution_count": 11,
     "metadata": {},
     "output_type": "execute_result"
    }
   ],
   "source": [
    "## The longest 'Non Sarcastic' headline\n",
    "\n",
    "not_sarcasm.sort('length', descending = True).column('headline').item(0)"
   ]
  },
  {
   "cell_type": "code",
   "execution_count": 12,
   "metadata": {},
   "outputs": [
    {
     "data": {
      "text/plain": [
       "7"
      ]
     },
     "execution_count": 12,
     "metadata": {},
     "output_type": "execute_result"
    }
   ],
   "source": [
    "## The minimum length of all headlines\n",
    "\n",
    "min(articles.column('length'))"
   ]
  },
  {
   "cell_type": "code",
   "execution_count": 13,
   "metadata": {},
   "outputs": [],
   "source": [
    "def five_figure_summary(table):\n",
    "    \"\"\"\" Returns an array containing the five figure summary of the given table\"\"\"\n",
    "    length_array = table.column('length')\n",
    "    minimum = min(length_array)\n",
    "    first = np.quantile(length_array,0.25)\n",
    "    middle = np.quantile(length_array, 0.5)\n",
    "    third = np.quantile(length_array, 0.75)\n",
    "    maximum = max(length_array)\n",
    "    return make_array(minimum,first,middle,third,maximum)"
   ]
  },
  {
   "cell_type": "markdown",
   "metadata": {},
   "source": [
    "## Permutation Test: Length of Headline"
   ]
  },
  {
   "cell_type": "markdown",
   "metadata": {},
   "source": [
    "#### The below permutation test will use A/B testing to determine if length can be considered a factor when testing for sarcasm. By randomly shuffling the lengths and reassigning a sarcasm score, we can see if our discovery that sarcastic headlines are inherently longer is statistically sound."
   ]
  },
  {
   "cell_type": "markdown",
   "metadata": {},
   "source": [
    "*Null Hypothesis: There is no distinct relation between the length of headline and sarcasm; if we shuffled the labels, our average would be similar to our observed.*\n",
    "\n",
    "*Alternative Hypothesis: There is a relationship between headline length and sarcasm.*\n",
    "\n",
    "*Test Statistic: The difference of averages between each group (A and B)*"
   ]
  },
  {
   "cell_type": "code",
   "execution_count": 14,
   "metadata": {},
   "outputs": [
    {
     "data": {
      "text/html": [
       "<table border=\"1\" class=\"dataframe\">\n",
       "    <thead>\n",
       "        <tr>\n",
       "            <th>is_sarcastic</th> <th>length</th>\n",
       "        </tr>\n",
       "    </thead>\n",
       "    <tbody>\n",
       "        <tr>\n",
       "            <td>1           </td> <td>61    </td>\n",
       "        </tr>\n",
       "        <tr>\n",
       "            <td>0           </td> <td>79    </td>\n",
       "        </tr>\n",
       "        <tr>\n",
       "            <td>0           </td> <td>49    </td>\n",
       "        </tr>\n",
       "        <tr>\n",
       "            <td>1           </td> <td>52    </td>\n",
       "        </tr>\n",
       "        <tr>\n",
       "            <td>1           </td> <td>61    </td>\n",
       "        </tr>\n",
       "        <tr>\n",
       "            <td>0           </td> <td>20    </td>\n",
       "        </tr>\n",
       "        <tr>\n",
       "            <td>0           </td> <td>42    </td>\n",
       "        </tr>\n",
       "        <tr>\n",
       "            <td>1           </td> <td>88    </td>\n",
       "        </tr>\n",
       "        <tr>\n",
       "            <td>1           </td> <td>73    </td>\n",
       "        </tr>\n",
       "        <tr>\n",
       "            <td>0           </td> <td>34    </td>\n",
       "        </tr>\n",
       "    </tbody>\n",
       "</table>\n",
       "<p>... (28609 rows omitted)</p>"
      ],
      "text/plain": [
       "is_sarcastic | length\n",
       "1            | 61\n",
       "0            | 79\n",
       "0            | 49\n",
       "1            | 52\n",
       "1            | 61\n",
       "0            | 20\n",
       "0            | 42\n",
       "1            | 88\n",
       "1            | 73\n",
       "0            | 34\n",
       "... (28609 rows omitted)"
      ]
     },
     "execution_count": 14,
     "metadata": {},
     "output_type": "execute_result"
    }
   ],
   "source": [
    "sarcasm_and_length = articles.select('is_sarcastic','length')\n",
    "sarcasm_and_length"
   ]
  },
  {
   "cell_type": "code",
   "execution_count": 15,
   "metadata": {},
   "outputs": [],
   "source": [
    "def difference_of_means(table, label, group_label):\n",
    "    \"\"\"Takes a table, the label of an integer column and a label to group by; Returns the difference of mean \"\"\"\n",
    "    #table with the two relevant columns\n",
    "    reduced = table.select(label,group_label)\n",
    "    \n",
    "    #table containing group means\n",
    "    means_table = reduced.group(group_label, np.average)\n",
    "    \n",
    "    #array of group means\n",
    "    means = means_table.column(1)\n",
    "    \n",
    "    return means.item(1) - means.item(0)"
   ]
  },
  {
   "cell_type": "code",
   "execution_count": 16,
   "metadata": {},
   "outputs": [
    {
     "data": {
      "text/plain": [
       "5.772385416564184"
      ]
     },
     "execution_count": 16,
     "metadata": {},
     "output_type": "execute_result"
    }
   ],
   "source": [
    "observed_difference = difference_of_means(sarcasm_and_length,'length','is_sarcastic')\n",
    "observed_difference"
   ]
  },
  {
   "cell_type": "code",
   "execution_count": 17,
   "metadata": {},
   "outputs": [],
   "source": [
    "def one_simulated_difference(table,label,group_label):\n",
    "    \"\"\"Simulates one value of the difference of means\"\"\"\n",
    "    #array of shuffled labels\n",
    "    shuffled_labels = table.sample(with_replacement = False).column(group_label)\n",
    "    \n",
    "    #table of numerical variable and shuffled labels\n",
    "    shuffled_table = table.select(label).with_column('Shuffled Label', shuffled_labels)\n",
    "    \n",
    "    return difference_of_means(shuffled_table,label, 'Shuffled Label')"
   ]
  },
  {
   "cell_type": "code",
   "execution_count": 18,
   "metadata": {},
   "outputs": [],
   "source": [
    "differences = make_array()\n",
    "\n",
    "for i in np.arange(1000):\n",
    "    simulated_difference = one_simulated_difference(sarcasm_and_length,'length','is_sarcastic')\n",
    "    differences = np.append(differences,simulated_difference)"
   ]
  },
  {
   "cell_type": "code",
   "execution_count": 21,
   "metadata": {},
   "outputs": [
    {
     "name": "stdout",
     "output_type": "stream",
     "text": [
      "Observed Difference: 5.772385416564184\n"
     ]
    },
    {
     "data": {
      "image/png": "[encoded data removed]",
      "text/plain": [
       "<Figure size 432x288 with 1 Axes>"
      ]
     },
     "metadata": {},
     "output_type": "display_data"
    }
   ],
   "source": [
    "Table().with_column('Difference Between Group Means', differences).hist(bins = np.arange(-1.2,1.21,0.05))\n",
    "print('Observed Difference:', observed_difference)\n",
    "plt.title('Prediction Under the Null Hypothesis');"
   ]
  },
  {
   "cell_type": "code",
   "execution_count": 22,
   "metadata": {},
   "outputs": [
    {
     "data": {
      "text/plain": [
       "0.0"
      ]
     },
     "execution_count": 22,
     "metadata": {},
     "output_type": "execute_result"
    }
   ],
   "source": [
    "# Calculates the probability of getting a difference of means equal to or more in the direction \n",
    "# of the alternative(higher) than the observed test statistic\n",
    "\n",
    "p_value = np.count_nonzero(differences >= observed_difference) / len(differences)\n",
    "p_value"
   ]
  },
  {
   "cell_type": "code",
   "execution_count": 23,
   "metadata": {},
   "outputs": [
    {
     "data": {
      "image/png": "[encoded data removed]",
      "text/plain": [
       "<Figure size 432x288 with 1 Axes>"
      ]
     },
     "metadata": {},
     "output_type": "display_data"
    }
   ],
   "source": [
    "articles.hist('length', bins = np.arange(0,200,1), group = 'is_sarcastic')\n",
    "plt.title('Headline Length Distribution');"
   ]
  },
  {
   "cell_type": "code",
   "execution_count": null,
   "metadata": {},
   "outputs": [],
   "source": []
  }
 ],
 "metadata": {
  "kernelspec": {
   "display_name": "Python 3",
   "language": "python",
   "name": "python3"
  },
  "language_info": {
   "codemirror_mode": {
    "name": "ipython",
    "version": 3
   },
   "file_extension": ".py",
   "mimetype": "text/x-python",
   "name": "python",
   "nbconvert_exporter": "python",
   "pygments_lexer": "ipython3",
   "version": "3.7.4"
  }
 },
 "nbformat": 4,
 "nbformat_minor": 2
}
