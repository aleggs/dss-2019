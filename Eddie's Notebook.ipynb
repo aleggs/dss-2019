{
 "cells": [
  {
   "cell_type": "code",
   "execution_count": 1,
   "metadata": {},
   "outputs": [
    {
     "name": "stdout",
     "output_type": "stream",
     "text": [
      "Requirement already satisfied: datascience in /Users/edwardliu/Downloads/anaconda3/lib/python3.7/site-packages (0.15.3)\n",
      "Requirement already satisfied: coverage==4.5.3 in /Users/edwardliu/Downloads/anaconda3/lib/python3.7/site-packages (from datascience) (4.5.3)\n",
      "Requirement already satisfied: scipy in /Users/edwardliu/Downloads/anaconda3/lib/python3.7/site-packages (from datascience) (1.3.1)\n",
      "Requirement already satisfied: pytest in /Users/edwardliu/Downloads/anaconda3/lib/python3.7/site-packages (from datascience) (5.2.1)\n",
      "Requirement already satisfied: sphinx in /Users/edwardliu/Downloads/anaconda3/lib/python3.7/site-packages (from datascience) (2.2.0)\n",
      "Requirement already satisfied: coveralls in /Users/edwardliu/Downloads/anaconda3/lib/python3.7/site-packages (from datascience) (1.8.2)\n",
      "Requirement already satisfied: bokeh in /Users/edwardliu/Downloads/anaconda3/lib/python3.7/site-packages (from datascience) (1.3.4)\n",
      "Requirement already satisfied: folium>=0.9.1 in /Users/edwardliu/Downloads/anaconda3/lib/python3.7/site-packages (from datascience) (0.10.0)\n",
      "Requirement already satisfied: pandas in /Users/edwardliu/Downloads/anaconda3/lib/python3.7/site-packages (from datascience) (0.25.1)\n",
      "Requirement already satisfied: numpy in /Users/edwardliu/Downloads/anaconda3/lib/python3.7/site-packages (from datascience) (1.17.2)\n",
      "Requirement already satisfied: ipython in /Users/edwardliu/Downloads/anaconda3/lib/python3.7/site-packages (from datascience) (7.8.0)\n",
      "Requirement already satisfied: matplotlib>=3.0.0 in /Users/edwardliu/Downloads/anaconda3/lib/python3.7/site-packages (from datascience) (3.1.1)\n",
      "Requirement already satisfied: setuptools in /Users/edwardliu/Downloads/anaconda3/lib/python3.7/site-packages (from datascience) (41.4.0)\n",
      "Requirement already satisfied: py>=1.5.0 in /Users/edwardliu/Downloads/anaconda3/lib/python3.7/site-packages (from pytest->datascience) (1.8.0)\n",
      "Requirement already satisfied: packaging in /Users/edwardliu/Downloads/anaconda3/lib/python3.7/site-packages (from pytest->datascience) (19.2)\n",
      "Requirement already satisfied: attrs>=17.4.0 in /Users/edwardliu/Downloads/anaconda3/lib/python3.7/site-packages (from pytest->datascience) (19.2.0)\n",
      "Requirement already satisfied: more-itertools>=4.0.0 in /Users/edwardliu/Downloads/anaconda3/lib/python3.7/site-packages (from pytest->datascience) (7.2.0)\n",
      "Requirement already satisfied: atomicwrites>=1.0 in /Users/edwardliu/Downloads/anaconda3/lib/python3.7/site-packages (from pytest->datascience) (1.3.0)\n",
      "Requirement already satisfied: pluggy<1.0,>=0.12 in /Users/edwardliu/Downloads/anaconda3/lib/python3.7/site-packages (from pytest->datascience) (0.13.0)\n",
      "Requirement already satisfied: wcwidth in /Users/edwardliu/Downloads/anaconda3/lib/python3.7/site-packages (from pytest->datascience) (0.1.7)\n",
      "Requirement already satisfied: importlib-metadata>=0.12 in /Users/edwardliu/Downloads/anaconda3/lib/python3.7/site-packages (from pytest->datascience) (0.23)\n",
      "Requirement already satisfied: imagesize in /Users/edwardliu/Downloads/anaconda3/lib/python3.7/site-packages (from sphinx->datascience) (1.1.0)\n",
      "Requirement already satisfied: alabaster<0.8,>=0.7 in /Users/edwardliu/Downloads/anaconda3/lib/python3.7/site-packages (from sphinx->datascience) (0.7.12)\n",
      "Requirement already satisfied: sphinxcontrib-jsmath in /Users/edwardliu/Downloads/anaconda3/lib/python3.7/site-packages (from sphinx->datascience) (1.0.1)\n",
      "Requirement already satisfied: snowballstemmer>=1.1 in /Users/edwardliu/Downloads/anaconda3/lib/python3.7/site-packages (from sphinx->datascience) (2.0.0)\n",
      "Requirement already satisfied: sphinxcontrib-htmlhelp in /Users/edwardliu/Downloads/anaconda3/lib/python3.7/site-packages (from sphinx->datascience) (1.0.2)\n",
      "Requirement already satisfied: requests>=2.5.0 in /Users/edwardliu/Downloads/anaconda3/lib/python3.7/site-packages (from sphinx->datascience) (2.22.0)\n",
      "Requirement already satisfied: sphinxcontrib-serializinghtml in /Users/edwardliu/Downloads/anaconda3/lib/python3.7/site-packages (from sphinx->datascience) (1.1.3)\n",
      "Requirement already satisfied: sphinxcontrib-devhelp in /Users/edwardliu/Downloads/anaconda3/lib/python3.7/site-packages (from sphinx->datascience) (1.0.1)\n",
      "Requirement already satisfied: sphinxcontrib-applehelp in /Users/edwardliu/Downloads/anaconda3/lib/python3.7/site-packages (from sphinx->datascience) (1.0.1)\n",
      "Requirement already satisfied: sphinxcontrib-qthelp in /Users/edwardliu/Downloads/anaconda3/lib/python3.7/site-packages (from sphinx->datascience) (1.0.2)\n",
      "Requirement already satisfied: Pygments>=2.0 in /Users/edwardliu/Downloads/anaconda3/lib/python3.7/site-packages (from sphinx->datascience) (2.4.2)\n",
      "Requirement already satisfied: docutils>=0.12 in /Users/edwardliu/Downloads/anaconda3/lib/python3.7/site-packages (from sphinx->datascience) (0.15.2)\n",
      "Requirement already satisfied: babel!=2.0,>=1.3 in /Users/edwardliu/Downloads/anaconda3/lib/python3.7/site-packages (from sphinx->datascience) (2.7.0)\n",
      "Requirement already satisfied: Jinja2>=2.3 in /Users/edwardliu/Downloads/anaconda3/lib/python3.7/site-packages (from sphinx->datascience) (2.10.3)\n",
      "Requirement already satisfied: docopt>=0.6.1 in /Users/edwardliu/Downloads/anaconda3/lib/python3.7/site-packages (from coveralls->datascience) (0.6.2)\n",
      "Requirement already satisfied: six>=1.5.2 in /Users/edwardliu/Downloads/anaconda3/lib/python3.7/site-packages (from bokeh->datascience) (1.12.0)\n",
      "Requirement already satisfied: PyYAML>=3.10 in /Users/edwardliu/Downloads/anaconda3/lib/python3.7/site-packages (from bokeh->datascience) (5.1.2)\n",
      "Requirement already satisfied: pillow>=4.0 in /Users/edwardliu/Downloads/anaconda3/lib/python3.7/site-packages (from bokeh->datascience) (6.2.0)\n",
      "Requirement already satisfied: python-dateutil>=2.1 in /Users/edwardliu/Downloads/anaconda3/lib/python3.7/site-packages (from bokeh->datascience) (2.8.0)\n",
      "Requirement already satisfied: tornado>=4.3 in /Users/edwardliu/Downloads/anaconda3/lib/python3.7/site-packages (from bokeh->datascience) (6.0.3)\n",
      "Requirement already satisfied: branca>=0.3.0 in /Users/edwardliu/Downloads/anaconda3/lib/python3.7/site-packages (from folium>=0.9.1->datascience) (0.3.1)\n",
      "Requirement already satisfied: pytz>=2017.2 in /Users/edwardliu/Downloads/anaconda3/lib/python3.7/site-packages (from pandas->datascience) (2019.3)\n",
      "Requirement already satisfied: pexpect; sys_platform != \"win32\" in /Users/edwardliu/Downloads/anaconda3/lib/python3.7/site-packages (from ipython->datascience) (4.7.0)\n",
      "Requirement already satisfied: appnope; sys_platform == \"darwin\" in /Users/edwardliu/Downloads/anaconda3/lib/python3.7/site-packages (from ipython->datascience) (0.1.0)\n",
      "Requirement already satisfied: decorator in /Users/edwardliu/Downloads/anaconda3/lib/python3.7/site-packages (from ipython->datascience) (4.4.0)\n",
      "Requirement already satisfied: prompt-toolkit<2.1.0,>=2.0.0 in /Users/edwardliu/Downloads/anaconda3/lib/python3.7/site-packages (from ipython->datascience) (2.0.10)\n",
      "Requirement already satisfied: traitlets>=4.2 in /Users/edwardliu/Downloads/anaconda3/lib/python3.7/site-packages (from ipython->datascience) (4.3.3)\n",
      "Requirement already satisfied: jedi>=0.10 in /Users/edwardliu/Downloads/anaconda3/lib/python3.7/site-packages (from ipython->datascience) (0.15.1)\n",
      "Requirement already satisfied: backcall in /Users/edwardliu/Downloads/anaconda3/lib/python3.7/site-packages (from ipython->datascience) (0.1.0)\n",
      "Requirement already satisfied: pickleshare in /Users/edwardliu/Downloads/anaconda3/lib/python3.7/site-packages (from ipython->datascience) (0.7.5)\n",
      "Requirement already satisfied: cycler>=0.10 in /Users/edwardliu/Downloads/anaconda3/lib/python3.7/site-packages (from matplotlib>=3.0.0->datascience) (0.10.0)\n",
      "Requirement already satisfied: kiwisolver>=1.0.1 in /Users/edwardliu/Downloads/anaconda3/lib/python3.7/site-packages (from matplotlib>=3.0.0->datascience) (1.1.0)\n",
      "Requirement already satisfied: pyparsing!=2.0.4,!=2.1.2,!=2.1.6,>=2.0.1 in /Users/edwardliu/Downloads/anaconda3/lib/python3.7/site-packages (from matplotlib>=3.0.0->datascience) (2.4.2)\n",
      "Requirement already satisfied: zipp>=0.5 in /Users/edwardliu/Downloads/anaconda3/lib/python3.7/site-packages (from importlib-metadata>=0.12->pytest->datascience) (0.6.0)\n",
      "Requirement already satisfied: chardet<3.1.0,>=3.0.2 in /Users/edwardliu/Downloads/anaconda3/lib/python3.7/site-packages (from requests>=2.5.0->sphinx->datascience) (3.0.4)\n"
     ]
    },
    {
     "name": "stdout",
     "output_type": "stream",
     "text": [
      "Requirement already satisfied: urllib3!=1.25.0,!=1.25.1,<1.26,>=1.21.1 in /Users/edwardliu/Downloads/anaconda3/lib/python3.7/site-packages (from requests>=2.5.0->sphinx->datascience) (1.24.2)\r\n",
      "Requirement already satisfied: certifi>=2017.4.17 in /Users/edwardliu/Downloads/anaconda3/lib/python3.7/site-packages (from requests>=2.5.0->sphinx->datascience) (2019.9.11)\r\n",
      "Requirement already satisfied: idna<2.9,>=2.5 in /Users/edwardliu/Downloads/anaconda3/lib/python3.7/site-packages (from requests>=2.5.0->sphinx->datascience) (2.8)\r\n",
      "Requirement already satisfied: MarkupSafe>=0.23 in /Users/edwardliu/Downloads/anaconda3/lib/python3.7/site-packages (from Jinja2>=2.3->sphinx->datascience) (1.1.1)\r\n",
      "Requirement already satisfied: ptyprocess>=0.5 in /Users/edwardliu/Downloads/anaconda3/lib/python3.7/site-packages (from pexpect; sys_platform != \"win32\"->ipython->datascience) (0.6.0)\r\n",
      "Requirement already satisfied: ipython-genutils in /Users/edwardliu/Downloads/anaconda3/lib/python3.7/site-packages (from traitlets>=4.2->ipython->datascience) (0.2.0)\r\n",
      "Requirement already satisfied: parso>=0.5.0 in /Users/edwardliu/Downloads/anaconda3/lib/python3.7/site-packages (from jedi>=0.10->ipython->datascience) (0.5.1)\r\n"
     ]
    }
   ],
   "source": [
    "!pip install datascience"
   ]
  },
  {
   "cell_type": "code",
   "execution_count": 3,
   "metadata": {},
   "outputs": [],
   "source": [
    "import pandas as pd\n",
    "from datascience import *\n",
    "import numpy as np\n",
    "import matplotlib\n",
    "%matplotlib inline\n",
    "import matplotlib.pyplot as plt\n",
    "plt.style.use('fivethirtyeight')\n",
    "import warnings\n",
    "warnings.simplefilter('ignore', FutureWarning)"
   ]
  },
  {
   "cell_type": "code",
   "execution_count": 4,
   "metadata": {},
   "outputs": [
    {
     "data": {
      "text/plain": [
       "'/Users/edwardliu/Documents/dss-2019'"
      ]
     },
     "execution_count": 4,
     "metadata": {},
     "output_type": "execute_result"
    }
   ],
   "source": [
    "pwd"
   ]
  },
  {
   "cell_type": "code",
   "execution_count": 5,
   "metadata": {},
   "outputs": [
    {
     "data": {
      "text/html": [
       "<table border=\"1\" class=\"dataframe\">\n",
       "    <thead>\n",
       "        <tr>\n",
       "            <th>is_sarcastic</th> <th>headline</th> <th>article_link</th>\n",
       "        </tr>\n",
       "    </thead>\n",
       "    <tbody>\n",
       "        <tr>\n",
       "            <td>1           </td> <td>thirtysomething scientists unveil doomsday clock of hair ...</td> <td>https://www.theonion.com/thirtysomething-scientists-unve ...</td>\n",
       "        </tr>\n",
       "        <tr>\n",
       "            <td>0           </td> <td>dem rep. totally nails why congress is falling short on  ...</td> <td>https://www.huffingtonpost.com/entry/donna-edwards-inequ ...</td>\n",
       "        </tr>\n",
       "        <tr>\n",
       "            <td>0           </td> <td>eat your veggies: 9 deliciously different recipes           </td> <td>https://www.huffingtonpost.com/entry/eat-your-veggies-9- ...</td>\n",
       "        </tr>\n",
       "    </tbody>\n",
       "</table>\n",
       "<p>... (28616 rows omitted)</p>"
      ],
      "text/plain": [
       "<IPython.core.display.HTML object>"
      ]
     },
     "metadata": {},
     "output_type": "display_data"
    }
   ],
   "source": [
    "pandas_df = pd.read_json(\"/Users/edwardliu/Documents/dss-2019/Data Frames/Headline Data Set.json\", lines= True)\n",
    "articles = Table.from_df(pandas_df)\n",
    "articles.show(3)"
   ]
  },
  {
   "cell_type": "code",
   "execution_count": 13,
   "metadata": {},
   "outputs": [
    {
     "data": {
      "text/html": [
       "<table border=\"1\" class=\"dataframe\">\n",
       "    <thead>\n",
       "        <tr>\n",
       "            <th>is_sarcastic</th> <th>headline</th> <th>article_link</th> <th>headline length</th>\n",
       "        </tr>\n",
       "    </thead>\n",
       "    <tbody>\n",
       "        <tr>\n",
       "            <td>1           </td> <td>thirtysomething scientists unveil doomsday clock of hair ...</td> <td>https://www.theonion.com/thirtysomething-scientists-unve ...</td> <td>61             </td>\n",
       "        </tr>\n",
       "    </tbody>\n",
       "</table>\n",
       "<p>... (28618 rows omitted)</p>"
      ],
      "text/plain": [
       "<IPython.core.display.HTML object>"
      ]
     },
     "metadata": {},
     "output_type": "display_data"
    }
   ],
   "source": [
    "articles_w_lengths = articles.with_column(\"headline length\", articles.apply(len, \"headline\"))\n",
    "articles_w_lengths.show(1)"
   ]
  },
  {
   "cell_type": "code",
   "execution_count": 14,
   "metadata": {},
   "outputs": [
    {
     "data": {
      "text/html": [
       "<table border=\"1\" class=\"dataframe\">\n",
       "    <thead>\n",
       "        <tr>\n",
       "            <th>is_sarcastic</th> <th>headline</th> <th>article_link</th> <th>headline length</th>\n",
       "        </tr>\n",
       "    </thead>\n",
       "    <tbody>\n",
       "        <tr>\n",
       "            <td>1           </td> <td>thirtysomething scientists unveil doomsday clock of hair ...</td> <td>https://www.theonion.com/thirtysomething-scientists-unve ...</td> <td>61             </td>\n",
       "        </tr>\n",
       "    </tbody>\n",
       "</table>\n",
       "<p>... (13633 rows omitted)</p>"
      ],
      "text/plain": [
       "<IPython.core.display.HTML object>"
      ]
     },
     "metadata": {},
     "output_type": "display_data"
    }
   ],
   "source": [
    "sarcastic_articles = articles_w_lengths.where(\"is_sarcastic\", are.equal_to(1))\n",
    "sarcastic_articles.show(1)"
   ]
  },
  {
   "cell_type": "code",
   "execution_count": 15,
   "metadata": {},
   "outputs": [
    {
     "data": {
      "text/html": [
       "<table border=\"1\" class=\"dataframe\">\n",
       "    <thead>\n",
       "        <tr>\n",
       "            <th>is_sarcastic</th> <th>headline</th> <th>article_link</th> <th>headline length</th>\n",
       "        </tr>\n",
       "    </thead>\n",
       "    <tbody>\n",
       "        <tr>\n",
       "            <td>0           </td> <td>dem rep. totally nails why congress is falling short on  ...</td> <td>https://www.huffingtonpost.com/entry/donna-edwards-inequ ...</td> <td>79             </td>\n",
       "        </tr>\n",
       "    </tbody>\n",
       "</table>\n",
       "<p>... (14984 rows omitted)</p>"
      ],
      "text/plain": [
       "<IPython.core.display.HTML object>"
      ]
     },
     "metadata": {},
     "output_type": "display_data"
    }
   ],
   "source": [
    "not_sarcastic_articles = articles_w_lengths.where(\"is_sarcastic\", are.equal_to(0))\n",
    "not_sarcastic_articles.show(1)"
   ]
  },
  {
   "cell_type": "code",
   "execution_count": 16,
   "metadata": {},
   "outputs": [],
   "source": [
    "def IQR_test(first, median, third):\n",
    "    IQR = third - first\n",
    "    upper = median + IQR*1.5\n",
    "    lower = median - IQR*1.5\n",
    "    return print(lower, \"and\", upper)"
   ]
  },
  {
   "cell_type": "code",
   "execution_count": 17,
   "metadata": {},
   "outputs": [
    {
     "name": "stdout",
     "output_type": "stream",
     "text": [
      "17.5 and 110.5\n"
     ]
    }
   ],
   "source": [
    "sarcastic_first_quartile = sarcastic_articles.select(\"headline length\").percentile(25).column(0).item(0)\n",
    "sarcastic_median = sarcastic_articles.select(\"headline length\").percentile(50).column(0).item(0)\n",
    "sarcastic_third_quartile = sarcastic_articles.select(\"headline length\").percentile(75).column(0).item(0)\n",
    "IQR_test(sarcastic_first_quartile, sarcastic_median, sarcastic_third_quartile)"
   ]
  },
  {
   "cell_type": "code",
   "execution_count": 18,
   "metadata": {},
   "outputs": [
    {
     "name": "stdout",
     "output_type": "stream",
     "text": [
      "26.5 and 95.5\n"
     ]
    }
   ],
   "source": [
    "not_sarcastic_first_quartile = not_sarcastic_articles.select(\"headline length\").percentile(25).column(0).item(0)\n",
    "not_sarcastic_median = not_sarcastic_articles.select(\"headline length\").percentile(50).column(0).item(0)\n",
    "not_sarcastic_third_quartile = not_sarcastic_articles.select(\"headline length\").percentile(75).column(0).item(0)\n",
    "IQR_test(not_sarcastic_first_quartile, not_sarcastic_median, not_sarcastic_third_quartile)"
   ]
  },
  {
   "cell_type": "code",
   "execution_count": null,
   "metadata": {},
   "outputs": [],
   "source": [
    "articles_w_lengths.to_csv('With Lengths.csv')"
   ]
  }
 ],
 "metadata": {
  "kernelspec": {
   "display_name": "Python 3",
   "language": "python",
   "name": "python3"
  },
  "language_info": {
   "codemirror_mode": {
    "name": "ipython",
    "version": 3
   },
   "file_extension": ".py",
   "mimetype": "text/x-python",
   "name": "python",
   "nbconvert_exporter": "python",
   "pygments_lexer": "ipython3",
   "version": "3.7.4"
  }
 },
 "nbformat": 4,
 "nbformat_minor": 2
}
