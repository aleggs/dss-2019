{
 "cells": [
  {
   "cell_type": "code",
   "execution_count": 1,
   "metadata": {},
   "outputs": [
    {
     "name": "stdout",
     "output_type": "stream",
     "text": [
      "Collecting datascience\n",
      "  Downloading https://files.pythonhosted.org/packages/41/c1/fff066029adeaaafe12d59a906440da8ce2dcffc4cf852e9474b80a04dad/datascience-0.15.3.tar.gz (42kB)\n",
      "Collecting folium>=0.9.1 (from datascience)\n",
      "  Using cached https://files.pythonhosted.org/packages/72/ff/004bfe344150a064e558cb2aedeaa02ecbf75e60e148a55a9198f0c41765/folium-0.10.0-py2.py3-none-any.whl\n",
      "Requirement already satisfied: sphinx in c:\\users\\seena\\anaconda3\\lib\\site-packages (from datascience) (2.2.0)\n",
      "Requirement already satisfied: setuptools in c:\\users\\seena\\anaconda3\\lib\\site-packages (from datascience) (41.4.0)\n",
      "Requirement already satisfied: matplotlib>=3.0.0 in c:\\users\\seena\\anaconda3\\lib\\site-packages (from datascience) (3.1.1)\n",
      "Requirement already satisfied: pandas in c:\\users\\seena\\anaconda3\\lib\\site-packages (from datascience) (0.25.1)\n",
      "Requirement already satisfied: scipy in c:\\users\\seena\\anaconda3\\lib\\site-packages (from datascience) (1.3.1)\n",
      "Requirement already satisfied: numpy in c:\\users\\seena\\anaconda3\\lib\\site-packages (from datascience) (1.16.5)\n",
      "Requirement already satisfied: ipython in c:\\users\\seena\\anaconda3\\lib\\site-packages (from datascience) (7.8.0)\n",
      "Requirement already satisfied: pytest in c:\\users\\seena\\anaconda3\\lib\\site-packages (from datascience) (5.2.1)\n",
      "Collecting coverage==4.5.3 (from datascience)\n",
      "  Downloading https://files.pythonhosted.org/packages/71/c9/da455f5dacddd749ac27b615031a58bce2d2fae09838ba810c557c3b7bea/coverage-4.5.3-cp37-cp37m-win_amd64.whl (183kB)\n",
      "Collecting coveralls (from datascience)\n",
      "  Using cached https://files.pythonhosted.org/packages/b5/6a/bd33b20b03eb8d596e6b7ccfea66ca3b85fadf55ae8e6086091f498fc3d6/coveralls-1.8.2-py2.py3-none-any.whl\n",
      "Requirement already satisfied: bokeh in c:\\users\\seena\\anaconda3\\lib\\site-packages (from datascience) (1.3.4)\n",
      "Requirement already satisfied: jinja2>=2.9 in c:\\users\\seena\\anaconda3\\lib\\site-packages (from folium>=0.9.1->datascience) (2.10.3)\n",
      "Collecting branca>=0.3.0 (from folium>=0.9.1->datascience)\n",
      "  Using cached https://files.pythonhosted.org/packages/63/36/1c93318e9653f4e414a2e0c3b98fc898b4970e939afeedeee6075dd3b703/branca-0.3.1-py3-none-any.whl\n",
      "Requirement already satisfied: requests in c:\\users\\seena\\anaconda3\\lib\\site-packages (from folium>=0.9.1->datascience) (2.22.0)\n",
      "Requirement already satisfied: sphinxcontrib-jsmath in c:\\users\\seena\\anaconda3\\lib\\site-packages (from sphinx->datascience) (1.0.1)\n",
      "Requirement already satisfied: sphinxcontrib-serializinghtml in c:\\users\\seena\\anaconda3\\lib\\site-packages (from sphinx->datascience) (1.1.3)\n",
      "Requirement already satisfied: imagesize in c:\\users\\seena\\anaconda3\\lib\\site-packages (from sphinx->datascience) (1.1.0)\n",
      "Requirement already satisfied: colorama>=0.3.5; sys_platform == \"win32\" in c:\\users\\seena\\anaconda3\\lib\\site-packages (from sphinx->datascience) (0.4.1)\n",
      "Requirement already satisfied: sphinxcontrib-applehelp in c:\\users\\seena\\anaconda3\\lib\\site-packages (from sphinx->datascience) (1.0.1)\n",
      "Requirement already satisfied: packaging in c:\\users\\seena\\anaconda3\\lib\\site-packages (from sphinx->datascience) (19.2)\n",
      "Requirement already satisfied: sphinxcontrib-htmlhelp in c:\\users\\seena\\anaconda3\\lib\\site-packages (from sphinx->datascience) (1.0.2)\n",
      "Requirement already satisfied: babel!=2.0,>=1.3 in c:\\users\\seena\\anaconda3\\lib\\site-packages (from sphinx->datascience) (2.7.0)\n",
      "Requirement already satisfied: snowballstemmer>=1.1 in c:\\users\\seena\\anaconda3\\lib\\site-packages (from sphinx->datascience) (2.0.0)\n",
      "Requirement already satisfied: Pygments>=2.0 in c:\\users\\seena\\anaconda3\\lib\\site-packages (from sphinx->datascience) (2.4.2)\n",
      "Requirement already satisfied: sphinxcontrib-qthelp in c:\\users\\seena\\anaconda3\\lib\\site-packages (from sphinx->datascience) (1.0.2)\n",
      "Requirement already satisfied: docutils>=0.12 in c:\\users\\seena\\anaconda3\\lib\\site-packages (from sphinx->datascience) (0.15.2)\n",
      "Requirement already satisfied: alabaster<0.8,>=0.7 in c:\\users\\seena\\anaconda3\\lib\\site-packages (from sphinx->datascience) (0.7.12)\n",
      "Requirement already satisfied: sphinxcontrib-devhelp in c:\\users\\seena\\anaconda3\\lib\\site-packages (from sphinx->datascience) (1.0.1)\n",
      "Requirement already satisfied: cycler>=0.10 in c:\\users\\seena\\anaconda3\\lib\\site-packages (from matplotlib>=3.0.0->datascience) (0.10.0)\n",
      "Requirement already satisfied: kiwisolver>=1.0.1 in c:\\users\\seena\\anaconda3\\lib\\site-packages (from matplotlib>=3.0.0->datascience) (1.1.0)\n",
      "Requirement already satisfied: pyparsing!=2.0.4,!=2.1.2,!=2.1.6,>=2.0.1 in c:\\users\\seena\\anaconda3\\lib\\site-packages (from matplotlib>=3.0.0->datascience) (2.4.2)\n",
      "Requirement already satisfied: python-dateutil>=2.1 in c:\\users\\seena\\anaconda3\\lib\\site-packages (from matplotlib>=3.0.0->datascience) (2.8.0)\n",
      "Requirement already satisfied: pytz>=2017.2 in c:\\users\\seena\\anaconda3\\lib\\site-packages (from pandas->datascience) (2019.3)\n",
      "Requirement already satisfied: jedi>=0.10 in c:\\users\\seena\\anaconda3\\lib\\site-packages (from ipython->datascience) (0.15.1)\n",
      "Requirement already satisfied: backcall in c:\\users\\seena\\anaconda3\\lib\\site-packages (from ipython->datascience) (0.1.0)\n",
      "Requirement already satisfied: decorator in c:\\users\\seena\\anaconda3\\lib\\site-packages (from ipython->datascience) (4.4.0)\n",
      "Requirement already satisfied: traitlets>=4.2 in c:\\users\\seena\\anaconda3\\lib\\site-packages (from ipython->datascience) (4.3.3)\n",
      "Requirement already satisfied: prompt-toolkit<2.1.0,>=2.0.0 in c:\\users\\seena\\anaconda3\\lib\\site-packages (from ipython->datascience) (2.0.10)\n",
      "Requirement already satisfied: pickleshare in c:\\users\\seena\\anaconda3\\lib\\site-packages (from ipython->datascience) (0.7.5)\n",
      "Requirement already satisfied: py>=1.5.0 in c:\\users\\seena\\anaconda3\\lib\\site-packages (from pytest->datascience) (1.8.0)\n",
      "Requirement already satisfied: attrs>=17.4.0 in c:\\users\\seena\\anaconda3\\lib\\site-packages (from pytest->datascience) (19.2.0)\n",
      "Requirement already satisfied: more-itertools>=4.0.0 in c:\\users\\seena\\anaconda3\\lib\\site-packages (from pytest->datascience) (7.2.0)\n",
      "Requirement already satisfied: atomicwrites>=1.0 in c:\\users\\seena\\anaconda3\\lib\\site-packages (from pytest->datascience) (1.3.0)\n",
      "Requirement already satisfied: pluggy<1.0,>=0.12 in c:\\users\\seena\\anaconda3\\lib\\site-packages (from pytest->datascience) (0.13.0)\n",
      "Requirement already satisfied: wcwidth in c:\\users\\seena\\anaconda3\\lib\\site-packages (from pytest->datascience) (0.1.7)\n",
      "Requirement already satisfied: importlib-metadata>=0.12 in c:\\users\\seena\\anaconda3\\lib\\site-packages (from pytest->datascience) (0.23)\n",
      "Collecting docopt>=0.6.1 (from coveralls->datascience)\n",
      "  Using cached https://files.pythonhosted.org/packages/a2/55/8f8cab2afd404cf578136ef2cc5dfb50baa1761b68c9da1fb1e4eed343c9/docopt-0.6.2.tar.gz\n",
      "Requirement already satisfied: pillow>=4.0 in c:\\users\\seena\\anaconda3\\lib\\site-packages (from bokeh->datascience) (6.2.0)\n",
      "Requirement already satisfied: tornado>=4.3 in c:\\users\\seena\\anaconda3\\lib\\site-packages (from bokeh->datascience) (6.0.3)\n",
      "Requirement already satisfied: six>=1.5.2 in c:\\users\\seena\\anaconda3\\lib\\site-packages (from bokeh->datascience) (1.12.0)\n",
      "Requirement already satisfied: PyYAML>=3.10 in c:\\users\\seena\\anaconda3\\lib\\site-packages (from bokeh->datascience) (5.1.2)\n",
      "Requirement already satisfied: MarkupSafe>=0.23 in c:\\users\\seena\\anaconda3\\lib\\site-packages (from jinja2>=2.9->folium>=0.9.1->datascience) (1.1.1)\n",
      "Requirement already satisfied: chardet<3.1.0,>=3.0.2 in c:\\users\\seena\\anaconda3\\lib\\site-packages (from requests->folium>=0.9.1->datascience) (3.0.4)\n",
      "Requirement already satisfied: certifi>=2017.4.17 in c:\\users\\seena\\anaconda3\\lib\\site-packages (from requests->folium>=0.9.1->datascience) (2019.9.11)\n",
      "Requirement already satisfied: urllib3!=1.25.0,!=1.25.1,<1.26,>=1.21.1 in c:\\users\\seena\\anaconda3\\lib\\site-packages (from requests->folium>=0.9.1->datascience) (1.24.2)\n",
      "Requirement already satisfied: idna<2.9,>=2.5 in c:\\users\\seena\\anaconda3\\lib\\site-packages (from requests->folium>=0.9.1->datascience) (2.8)\n",
      "Requirement already satisfied: parso>=0.5.0 in c:\\users\\seena\\anaconda3\\lib\\site-packages (from jedi>=0.10->ipython->datascience) (0.5.1)\n",
      "Requirement already satisfied: ipython-genutils in c:\\users\\seena\\anaconda3\\lib\\site-packages (from traitlets>=4.2->ipython->datascience) (0.2.0)\n",
      "Requirement already satisfied: zipp>=0.5 in c:\\users\\seena\\anaconda3\\lib\\site-packages (from importlib-metadata>=0.12->pytest->datascience) (0.6.0)\n",
      "Building wheels for collected packages: datascience, docopt\n",
      "  Building wheel for datascience (setup.py): started\n",
      "  Building wheel for datascience (setup.py): finished with status 'done'\n",
      "  Created wheel for datascience: filename=datascience-0.15.3-cp37-none-any.whl size=43613 sha256=51d44d5b6be4a1eafbf1f9e9fb4e1c479346a32f1eb7b07ed769ba8efbf1e693\n",
      "  Stored in directory: C:\\Users\\seena\\AppData\\Local\\pip\\Cache\\wheels\\b8\\37\\0a\\80274866028f6485c5957f0e1acf8e2b755fbe9dd0fd4ad275\n",
      "  Building wheel for docopt (setup.py): started\n",
      "  Building wheel for docopt (setup.py): finished with status 'done'\n",
      "  Created wheel for docopt: filename=docopt-0.6.2-py2.py3-none-any.whl size=13709 sha256=fe92981cb52b505dadabb87a84cbf61d07782c525637c371bb4a7df737c6413b\n",
      "  Stored in directory: C:\\Users\\seena\\AppData\\Local\\pip\\Cache\\wheels\\9b\\04\\dd\\7daf4150b6d9b12949298737de9431a324d4b797ffd63f526e\n",
      "Successfully built datascience docopt\n",
      "Installing collected packages: branca, folium, coverage, docopt, coveralls, datascience\n",
      "Successfully installed branca-0.3.1 coverage-4.5.3 coveralls-1.8.2 datascience-0.15.3 docopt-0.6.2 folium-0.10.0\n"
     ]
    }
   ],
   "source": [
    "!pip install datascience"
   ]
  },
  {
   "cell_type": "code",
   "execution_count": 2,
   "metadata": {},
   "outputs": [],
   "source": [
    "import pandas as pd\n",
    "from datascience import *\n",
    "import numpy as np\n",
    "import matplotlib\n",
    "%matplotlib inline\n",
    "import matplotlib.pyplot as plt\n",
    "plt.style.use('fivethirtyeight')\n",
    "import warnings\n",
    "warnings.simplefilter('ignore', FutureWarning)"
   ]
  },
  {
   "cell_type": "code",
   "execution_count": null,
   "metadata": {},
   "outputs": [],
   "source": [
    "pandas_table = pd.read_json(\"Sarcasm_Headlines_Dataset_v2.json\", lines= True)\n",
    "articles = Table.from_df(pandas_table)\n",
    "articles"
   ]
  },
  {
   "cell_type": "code",
   "execution_count": null,
   "metadata": {},
   "outputs": [],
   "source": [
    "articles_w_lengths = articles.with_column(\"headline length\", articles.apply(len, \"headline\"))\n",
    "articles_w_lengths.show(1)"
   ]
  },
  {
   "cell_type": "code",
   "execution_count": null,
   "metadata": {},
   "outputs": [],
   "source": [
    "sarcastic_articles = articles_w_lengths.where(\"is_sarcastic\", are.equal_to(1))\n",
    "sarcastic_articles.show(1)"
   ]
  },
  {
   "cell_type": "code",
   "execution_count": null,
   "metadata": {},
   "outputs": [],
   "source": [
    "not_sarcastic_articles = articles_w_lengths.where(\"is_sarcastic\", are.equal_to(0))\n",
    "not_sarcastic_articles.show(1)"
   ]
  },
  {
   "cell_type": "code",
   "execution_count": null,
   "metadata": {},
   "outputs": [],
   "source": [
    "def IQR_test(first, median, third):\n",
    "    IQR = third - first\n",
    "    upper = median + IQR*1.5\n",
    "    lower = median - IQR*1.5\n",
    "    return print(lower, \"and\", upper)"
   ]
  },
  {
   "cell_type": "code",
   "execution_count": null,
   "metadata": {},
   "outputs": [],
   "source": [
    "sarcastic_first_quartile = sarcastic_articles.select(\"headline length\").percentile(25).column(0).item(0)\n",
    "sarcastic_median = sarcastic_articles.select(\"headline length\").percentile(50).column(0).item(0)\n",
    "sarcastic_third_quartile = sarcastic_articles.select(\"headline length\").percentile(75).column(0).item(0)\n",
    "IQR_test(sarcastic_first_quartile, sarcastic_median, sarcastic_third_quartile)"
   ]
  },
  {
   "cell_type": "code",
   "execution_count": null,
   "metadata": {},
   "outputs": [],
   "source": [
    "not_sarcastic_first_quartile = not_sarcastic_articles.select(\"headline length\").percentile(25).column(0).item(0)\n",
    "not_sarcastic_median = not_sarcastic_articles.select(\"headline length\").percentile(50).column(0).item(0)\n",
    "not_sarcastic_third_quartile = not_sarcastic_articles.select(\"headline length\").percentile(75).column(0).item(0)\n",
    "IQR_test(not_sarcastic_first_quartile, not_sarcastic_median, not_sarcastic_third_quartile)"
   ]
  },
  {
   "cell_type": "code",
   "execution_count": null,
   "metadata": {},
   "outputs": [],
   "source": [
    "sarcastic_no_outliers = sarcastic_articles.where(\"headline length\", are.between_or_equal_to(17.5, 110.5))"
   ]
  },
  {
   "cell_type": "code",
   "execution_count": null,
   "metadata": {},
   "outputs": [],
   "source": [
    "not_sarcastic_no_outliers = not_sarcastic_articles.where(\"headline length\", are.between_or_equal_to(26.5, 95.5))"
   ]
  },
  {
   "cell_type": "code",
   "execution_count": null,
   "metadata": {},
   "outputs": [],
   "source": [
    "sarcastic_no_outliers.hist(\"headline length\", bins=np.arange(17.5, 111.5, 1), unit=\"characters\")"
   ]
  },
  {
   "cell_type": "code",
   "execution_count": null,
   "metadata": {},
   "outputs": [],
   "source": [
    "not_sarcastic_no_outliers.hist(\"headline length\", bins=np.arange(26.5, 96.5, 1), unit=\"characters\")"
   ]
  },
  {
   "cell_type": "code",
   "execution_count": null,
   "metadata": {},
   "outputs": [],
   "source": [
    "first_quartile = articles_w_lengths.select(\"headline length\").percentile(25).column(0).item(0)\n",
    "median = articles_w_lengths.select(\"headline length\").percentile(50).column(0).item(0)\n",
    "third_quartile = articles_w_lengths.select(\"headline length\").percentile(75).column(0).item(0)\n",
    "IQR_test(first_quartile, median, third_quartile)"
   ]
  },
  {
   "cell_type": "code",
   "execution_count": null,
   "metadata": {},
   "outputs": [],
   "source": [
    "a = sarcastic_articles.where(\"headline length\", are.between_or_equal_to(23, 101))\n",
    "a.hist(\"headline length\", bins=np.arange(23,102,1),unit=\"characters\")"
   ]
  },
  {
   "cell_type": "code",
   "execution_count": 15,
   "metadata": {},
   "outputs": [
    {
     "data": {
      "image/png": "[encoded data removed]",
      "text/plain": [
       "<Figure size 432x288 with 1 Axes>"
      ]
     },
     "metadata": {},
     "output_type": "display_data"
    }
   ],
   "source": [
    "b = not_sarcastic_articles.where(\"headline length\", are.between_or_equal_to(23, 101))\n",
    "b.hist(\"headline length\", bins=np.arange(23,102,1),unit=\"characters\")"
   ]
  },
  {
   "cell_type": "code",
   "execution_count": null,
   "metadata": {},
   "outputs": [],
   "source": []
  }
 ],
 "metadata": {
  "kernelspec": {
   "display_name": "Python 3",
   "language": "python",
   "name": "python3"
  },
  "language_info": {
   "codemirror_mode": {
    "name": "ipython",
    "version": 3
   },
   "file_extension": ".py",
   "mimetype": "text/x-python",
   "name": "python",
   "nbconvert_exporter": "python",
   "pygments_lexer": "ipython3",
   "version": "3.7.4"
  }
 },
 "nbformat": 4,
 "nbformat_minor": 2
}
