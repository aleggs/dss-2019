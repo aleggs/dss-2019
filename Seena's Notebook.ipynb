{
 "cells": [
  {
   "cell_type": "code",
   "execution_count": 1,
   "metadata": {},
   "outputs": [],
   "source": [
    "from datascience import *\n",
    "import numpy as np, pandas as pd, matplotlib\n",
    "%matplotlib inline\n",
    "import matplotlib.pyplot as plt\n",
    "plt.style.use('fivethirtyeight')\n",
    "import warnings\n",
    "warnings.simplefilter('ignore', FutureWarning)"
   ]
  },
  {
   "cell_type": "code",
   "execution_count": 2,
   "metadata": {},
   "outputs": [],
   "source": [
    "pandas_table = pd.read_json(\"Sarcasm_Headlines_Dataset_v2.json\", lines= True)\n",
    "articles = Table.from_df(pandas_table)\n",
    "articles = articles.with_column('length', articles.apply(len, 'headline'))"
   ]
  },
  {
   "cell_type": "code",
   "execution_count": 3,
   "metadata": {},
   "outputs": [],
   "source": [
    "sarcastic = articles.where('is_sarcastic', 1)\n",
    "real = articles.where('is_sarcastic', 0)"
   ]
  },
  {
   "cell_type": "code",
   "execution_count": 4,
   "metadata": {},
   "outputs": [],
   "source": [
    "sarcastic_headlines = sarcastic.select('headline')\n",
    "real_headlines = real.select('headline')"
   ]
  },
  {
   "cell_type": "code",
   "execution_count": 5,
   "metadata": {},
   "outputs": [],
   "source": [
    "useless_words = ['a', 'at', 'and', 'be', 'by', 'for', 'is', 'in', 'it', 'of', 'on', 'to', 'the', 'of', '--']"
   ]
  },
  {
   "cell_type": "code",
   "execution_count": 6,
   "metadata": {},
   "outputs": [
    {
     "data": {
      "text/html": [
       "<table border=\"1\" class=\"dataframe\">\n",
       "    <thead>\n",
       "        <tr>\n",
       "            <th>words</th> <th>count</th>\n",
       "        </tr>\n",
       "    </thead>\n",
       "    <tbody>\n",
       "        <tr>\n",
       "            <td>man  </td> <td>1143 </td>\n",
       "        </tr>\n",
       "        <tr>\n",
       "            <td>with </td> <td>1008 </td>\n",
       "        </tr>\n",
       "        <tr>\n",
       "            <td>new  </td> <td>973  </td>\n",
       "        </tr>\n",
       "        <tr>\n",
       "            <td>from </td> <td>664  </td>\n",
       "        </tr>\n",
       "        <tr>\n",
       "            <td>out  </td> <td>559  </td>\n",
       "        </tr>\n",
       "        <tr>\n",
       "            <td>after</td> <td>546  </td>\n",
       "        </tr>\n",
       "        <tr>\n",
       "            <td>up   </td> <td>507  </td>\n",
       "        </tr>\n",
       "        <tr>\n",
       "            <td>he   </td> <td>499  </td>\n",
       "        </tr>\n",
       "        <tr>\n",
       "            <td>area </td> <td>487  </td>\n",
       "        </tr>\n",
       "        <tr>\n",
       "            <td>about</td> <td>483  </td>\n",
       "        </tr>\n",
       "    </tbody>\n",
       "</table>\n",
       "<p>... (23905 rows omitted)</p>"
      ],
      "text/plain": [
       "words | count\n",
       "man   | 1143\n",
       "with  | 1008\n",
       "new   | 973\n",
       "from  | 664\n",
       "out   | 559\n",
       "after | 546\n",
       "up    | 507\n",
       "he    | 499\n",
       "area  | 487\n",
       "about | 483\n",
       "... (23905 rows omitted)"
      ]
     },
     "execution_count": 6,
     "metadata": {},
     "output_type": "execute_result"
    }
   ],
   "source": [
    "sarcastic_words = []\n",
    "\n",
    "for i in sarcastic_headlines.column(0):\n",
    "    for j in i.split():\n",
    "        sarcastic_words.append(j)\n",
    "\n",
    "sarcastic_tbl = Table().with_column('words', sarcastic_words).where('words', are.not_contained_in(useless_words))\n",
    "sarcastic_tbl = sarcastic_tbl.group('words').sort(1, descending=True)\n",
    "sarcastic_words = sarcastic_tbl.column(0)\n",
    "sarcastic_tbl"
   ]
  },
  {
   "cell_type": "code",
   "execution_count": 7,
   "metadata": {},
   "outputs": [
    {
     "data": {
      "text/html": [
       "<table border=\"1\" class=\"dataframe\">\n",
       "    <thead>\n",
       "        <tr>\n",
       "            <th>words</th> <th>count</th>\n",
       "        </tr>\n",
       "    </thead>\n",
       "    <tbody>\n",
       "        <tr>\n",
       "            <td>trump</td> <td>957  </td>\n",
       "        </tr>\n",
       "        <tr>\n",
       "            <td>with </td> <td>943  </td>\n",
       "        </tr>\n",
       "        <tr>\n",
       "            <td>you  </td> <td>732  </td>\n",
       "        </tr>\n",
       "        <tr>\n",
       "            <td>this </td> <td>690  </td>\n",
       "        </tr>\n",
       "        <tr>\n",
       "            <td>new  </td> <td>664  </td>\n",
       "        </tr>\n",
       "        <tr>\n",
       "            <td>from </td> <td>661  </td>\n",
       "        </tr>\n",
       "        <tr>\n",
       "            <td>about</td> <td>644  </td>\n",
       "        </tr>\n",
       "        <tr>\n",
       "            <td>how  </td> <td>639  </td>\n",
       "        </tr>\n",
       "        <tr>\n",
       "            <td>your </td> <td>575  </td>\n",
       "        </tr>\n",
       "        <tr>\n",
       "            <td>are  </td> <td>555  </td>\n",
       "        </tr>\n",
       "    </tbody>\n",
       "</table>\n",
       "<p>... (24997 rows omitted)</p>"
      ],
      "text/plain": [
       "words | count\n",
       "trump | 957\n",
       "with  | 943\n",
       "you   | 732\n",
       "this  | 690\n",
       "new   | 664\n",
       "from  | 661\n",
       "about | 644\n",
       "how   | 639\n",
       "your  | 575\n",
       "are   | 555\n",
       "... (24997 rows omitted)"
      ]
     },
     "execution_count": 7,
     "metadata": {},
     "output_type": "execute_result"
    }
   ],
   "source": [
    "real_words = []\n",
    "\n",
    "for i in real_headlines.column(0):\n",
    "    for j in i.split():\n",
    "        real_words.append(j)\n",
    "\n",
    "real_tbl = Table().with_column('words', real_words)\n",
    "real_tbl = real_tbl.group('words').where('words', are.not_contained_in(useless_words)).sort(1, descending=True)\n",
    "real_tbl"
   ]
  },
  {
   "cell_type": "code",
   "execution_count": 8,
   "metadata": {},
   "outputs": [
    {
     "data": {
      "text/html": [
       "<table border=\"1\" class=\"dataframe\">\n",
       "    <thead>\n",
       "        <tr>\n",
       "            <th>words</th> <th>count</th>\n",
       "        </tr>\n",
       "    </thead>\n",
       "    <tbody>\n",
       "        <tr>\n",
       "            <td>fucking  </td> <td>100  </td>\n",
       "        </tr>\n",
       "        <tr>\n",
       "            <td>shit     </td> <td>66   </td>\n",
       "        </tr>\n",
       "        <tr>\n",
       "            <td>clearly  </td> <td>56   </td>\n",
       "        </tr>\n",
       "        <tr>\n",
       "            <td>fuck     </td> <td>45   </td>\n",
       "        </tr>\n",
       "        <tr>\n",
       "            <td>realizes </td> <td>42   </td>\n",
       "        </tr>\n",
       "        <tr>\n",
       "            <td>unable   </td> <td>37   </td>\n",
       "        </tr>\n",
       "        <tr>\n",
       "            <td>kavanaugh</td> <td>36   </td>\n",
       "        </tr>\n",
       "        <tr>\n",
       "            <td>archives:</td> <td>32   </td>\n",
       "        </tr>\n",
       "        <tr>\n",
       "            <td>slowly   </td> <td>30   </td>\n",
       "        </tr>\n",
       "        <tr>\n",
       "            <td>per      </td> <td>30   </td>\n",
       "        </tr>\n",
       "    </tbody>\n",
       "</table>\n",
       "<p>... (13203 rows omitted)</p>"
      ],
      "text/plain": [
       "words     | count\n",
       "fucking   | 100\n",
       "shit      | 66\n",
       "clearly   | 56\n",
       "fuck      | 45\n",
       "realizes  | 42\n",
       "unable    | 37\n",
       "kavanaugh | 36\n",
       "archives: | 32\n",
       "slowly    | 30\n",
       "per       | 30\n",
       "... (13203 rows omitted)"
      ]
     },
     "execution_count": 8,
     "metadata": {},
     "output_type": "execute_result"
    }
   ],
   "source": [
    "sarcastic_unique = sarcastic_tbl.where(0, are.not_contained_in(real_tbl.column(0)))\n",
    "sarcastic_words = sarcastic_unique.column(0)\n",
    "sarcastic_unique"
   ]
  },
  {
   "cell_type": "code",
   "execution_count": 9,
   "metadata": {},
   "outputs": [
    {
     "data": {
      "text/html": [
       "<table border=\"1\" class=\"dataframe\">\n",
       "    <thead>\n",
       "        <tr>\n",
       "            <th>words</th> <th>count</th>\n",
       "        </tr>\n",
       "    </thead>\n",
       "    <tbody>\n",
       "        <tr>\n",
       "            <td>huffpost  </td> <td>58   </td>\n",
       "        </tr>\n",
       "        <tr>\n",
       "            <td>email:    </td> <td>57   </td>\n",
       "        </tr>\n",
       "        <tr>\n",
       "            <td>queer     </td> <td>49   </td>\n",
       "        </tr>\n",
       "        <tr>\n",
       "            <td>watch:    </td> <td>48   </td>\n",
       "        </tr>\n",
       "        <tr>\n",
       "            <td>trans     </td> <td>48   </td>\n",
       "        </tr>\n",
       "        <tr>\n",
       "            <td>kardashian</td> <td>47   </td>\n",
       "        </tr>\n",
       "        <tr>\n",
       "            <td>jenner    </td> <td>40   </td>\n",
       "        </tr>\n",
       "        <tr>\n",
       "            <td>lgbt      </td> <td>39   </td>\n",
       "        </tr>\n",
       "        <tr>\n",
       "            <td>'snl'     </td> <td>34   </td>\n",
       "        </tr>\n",
       "        <tr>\n",
       "            <td>lgbtq     </td> <td>32   </td>\n",
       "        </tr>\n",
       "    </tbody>\n",
       "</table>\n",
       "<p>... (14295 rows omitted)</p>"
      ],
      "text/plain": [
       "words      | count\n",
       "huffpost   | 58\n",
       "email:     | 57\n",
       "queer      | 49\n",
       "watch:     | 48\n",
       "trans      | 48\n",
       "kardashian | 47\n",
       "jenner     | 40\n",
       "lgbt       | 39\n",
       "'snl'      | 34\n",
       "lgbtq      | 32\n",
       "... (14295 rows omitted)"
      ]
     },
     "execution_count": 9,
     "metadata": {},
     "output_type": "execute_result"
    }
   ],
   "source": [
    "real_unique = real_tbl.where(0, are.not_contained_in(sarcastic_tbl.column(0)))\n",
    "real_words = real_unique.column(0)\n",
    "real_unique"
   ]
  },
  {
   "cell_type": "code",
   "execution_count": 9,
   "metadata": {},
   "outputs": [],
   "source": [
    "def unique_count(headline):\n",
    "    '''Returns the number of times certain words are in a headline'''\n",
    "    count_sarcastic = 0\n",
    "    count_real = 0\n",
    "    for i in headline.split():\n",
    "        count_sarcastic += np.count_nonzero(sarcastic_words == i)\n",
    "        #count_real += np.count_nonzero(real_words == i)\n",
    "        \n",
    "    #return {'sarcastic':count_sarcastic, 'real':count_real}\n",
    "    return count_sarcastic"
   ]
  },
  {
   "cell_type": "code",
   "execution_count": 10,
   "metadata": {},
   "outputs": [],
   "source": [
    "#sarcastic_counts = articles.apply(lambda x: unique_count(x)['sarcastic'], 'headline')\n",
    "#real_counts = articles.apply(lambda x: unique_count(x)['real'], 'headline')\n",
    "sarcastic_counts = articles.apply(unique_count, 'headline')"
   ]
  },
  {
   "cell_type": "code",
   "execution_count": 12,
   "metadata": {},
   "outputs": [],
   "source": [
    "articles_with_counts = articles.with_columns('Sarcastic Words', sarcastic_counts)"
   ]
  },
  {
   "cell_type": "code",
   "execution_count": 13,
   "metadata": {},
   "outputs": [
    {
     "data": {
      "text/html": [
       "<table border=\"1\" class=\"dataframe\">\n",
       "    <thead>\n",
       "        <tr>\n",
       "            <th>article_link</th> <th>headline</th> <th>is_sarcastic</th> <th>length</th> <th>Sarcastic Words</th>\n",
       "        </tr>\n",
       "    </thead>\n",
       "    <tbody>\n",
       "        <tr>\n",
       "            <td>https://www.theonion.com/hot-wheels-ranked-number-one-to ...</td> <td>hot wheels ranked number one toy for rolling down ramp,  ...</td> <td>1           </td> <td>926   </td> <td>39             </td>\n",
       "        </tr>\n",
       "        <tr>\n",
       "            <td>https://entertainment.theonion.com/12-years-a-slave-capt ...</td> <td>'12 years a slave,' 'captain phillips,' 'american hustle ...</td> <td>1           </td> <td>238   </td> <td>15             </td>\n",
       "        </tr>\n",
       "        <tr>\n",
       "            <td>https://www.theonion.com/maya-angelou-poet-author-civil- ...</td> <td>maya angelou, poet, author, civil rights activist, and—h ...</td> <td>1           </td> <td>254   </td> <td>14             </td>\n",
       "        </tr>\n",
       "        <tr>\n",
       "            <td>https://entertainment.theonion.com/mia-farrow-it-s-possi ...</td> <td>mia farrow: 'it's possible my son was fathered by frank  ...</td> <td>1           </td> <td>199   </td> <td>13             </td>\n",
       "        </tr>\n",
       "        <tr>\n",
       "            <td>https://www.theonion.com/elmore-leonard-modern-prose-mas ...</td> <td>elmore leonard, modern prose master, noted for his terse ...</td> <td>1           </td> <td>237   </td> <td>11             </td>\n",
       "        </tr>\n",
       "    </tbody>\n",
       "</table>\n",
       "<p>... (28614 rows omitted)</p>"
      ],
      "text/plain": [
       "<IPython.core.display.HTML object>"
      ]
     },
     "metadata": {},
     "output_type": "display_data"
    }
   ],
   "source": [
    "articles_with_counts.sort('Sarcastic Words', descending=True).show(5)"
   ]
  },
  {
   "cell_type": "code",
   "execution_count": null,
   "metadata": {},
   "outputs": [],
   "source": []
  }
 ],
 "metadata": {
  "kernelspec": {
   "display_name": "Python 3",
   "language": "python",
   "name": "python3"
  },
  "language_info": {
   "codemirror_mode": {
    "name": "ipython",
    "version": 3
   },
   "file_extension": ".py",
   "mimetype": "text/x-python",
   "name": "python",
   "nbconvert_exporter": "python",
   "pygments_lexer": "ipython3",
   "version": "3.6.8"
  }
 },
 "nbformat": 4,
 "nbformat_minor": 2
}
