{
 "cells": [
  {
   "cell_type": "code",
   "execution_count": 1,
   "metadata": {},
   "outputs": [],
   "source": [
    "from datascience import *\n",
    "import numpy as np, pandas as pd, matplotlib\n",
    "%matplotlib inline\n",
    "import matplotlib.pyplot as plt\n",
    "plt.style.use('fivethirtyeight')\n",
    "import warnings\n",
    "warnings.simplefilter('ignore', FutureWarning)"
   ]
  },
  {
   "cell_type": "code",
   "execution_count": 2,
   "metadata": {},
   "outputs": [
    {
     "data": {
      "text/html": [
       "<table border=\"1\" class=\"dataframe\">\n",
       "    <thead>\n",
       "        <tr>\n",
       "            <th>article_link</th> <th>headline</th> <th>is_sarcastic</th> <th>length</th>\n",
       "        </tr>\n",
       "    </thead>\n",
       "    <tbody>\n",
       "        <tr>\n",
       "            <td>https://www.theonion.com/thirtysomething-scientists-unve ...</td> <td>thirtysomething scientists unveil doomsday clock of hair ...</td> <td>1           </td> <td>61    </td>\n",
       "        </tr>\n",
       "        <tr>\n",
       "            <td>https://www.huffingtonpost.com/entry/donna-edwards-inequ ...</td> <td>dem rep. totally nails why congress is falling short on  ...</td> <td>0           </td> <td>79    </td>\n",
       "        </tr>\n",
       "        <tr>\n",
       "            <td>https://www.huffingtonpost.com/entry/eat-your-veggies-9- ...</td> <td>eat your veggies: 9 deliciously different recipes           </td> <td>0           </td> <td>49    </td>\n",
       "        </tr>\n",
       "        <tr>\n",
       "            <td>https://local.theonion.com/inclement-weather-prevents-li ...</td> <td>inclement weather prevents liar from getting to work        </td> <td>1           </td> <td>52    </td>\n",
       "        </tr>\n",
       "        <tr>\n",
       "            <td>https://www.theonion.com/mother-comes-pretty-close-to-us ...</td> <td>mother comes pretty close to using word 'streaming' corr ...</td> <td>1           </td> <td>61    </td>\n",
       "        </tr>\n",
       "        <tr>\n",
       "            <td>https://www.huffingtonpost.com/entry/my-white-inheritanc ...</td> <td>my white inheritance                                        </td> <td>0           </td> <td>20    </td>\n",
       "        </tr>\n",
       "        <tr>\n",
       "            <td>https://www.huffingtonpost.com/entry/5-ways-to-file-your ...</td> <td>5 ways to file your taxes with less stress                  </td> <td>0           </td> <td>42    </td>\n",
       "        </tr>\n",
       "        <tr>\n",
       "            <td>https://www.theonion.com/richard-bransons-global-warming ...</td> <td>richard branson's global-warming donation nearly as much ...</td> <td>1           </td> <td>88    </td>\n",
       "        </tr>\n",
       "        <tr>\n",
       "            <td>https://politics.theonion.com/shadow-government-getting- ...</td> <td>shadow government getting too large to meet in marriott  ...</td> <td>1           </td> <td>73    </td>\n",
       "        </tr>\n",
       "        <tr>\n",
       "            <td>https://www.huffingtonpost.comhttp://pubx.co/6IXxhm         </td> <td>lots of parents know this scenario                          </td> <td>0           </td> <td>34    </td>\n",
       "        </tr>\n",
       "    </tbody>\n",
       "</table>\n",
       "<p>... (28609 rows omitted)</p>"
      ],
      "text/plain": [
       "article_link                                                 | headline                                                     | is_sarcastic | length\n",
       "https://www.theonion.com/thirtysomething-scientists-unve ... | thirtysomething scientists unveil doomsday clock of hair ... | 1            | 61\n",
       "https://www.huffingtonpost.com/entry/donna-edwards-inequ ... | dem rep. totally nails why congress is falling short on  ... | 0            | 79\n",
       "https://www.huffingtonpost.com/entry/eat-your-veggies-9- ... | eat your veggies: 9 deliciously different recipes            | 0            | 49\n",
       "https://local.theonion.com/inclement-weather-prevents-li ... | inclement weather prevents liar from getting to work         | 1            | 52\n",
       "https://www.theonion.com/mother-comes-pretty-close-to-us ... | mother comes pretty close to using word 'streaming' corr ... | 1            | 61\n",
       "https://www.huffingtonpost.com/entry/my-white-inheritanc ... | my white inheritance                                         | 0            | 20\n",
       "https://www.huffingtonpost.com/entry/5-ways-to-file-your ... | 5 ways to file your taxes with less stress                   | 0            | 42\n",
       "https://www.theonion.com/richard-bransons-global-warming ... | richard branson's global-warming donation nearly as much ... | 1            | 88\n",
       "https://politics.theonion.com/shadow-government-getting- ... | shadow government getting too large to meet in marriott  ... | 1            | 73\n",
       "https://www.huffingtonpost.comhttp://pubx.co/6IXxhm          | lots of parents know this scenario                           | 0            | 34\n",
       "... (28609 rows omitted)"
      ]
     },
     "execution_count": 2,
     "metadata": {},
     "output_type": "execute_result"
    }
   ],
   "source": [
    "pandas_table = pd.read_json(\"Sarcasm_Headlines_Dataset_v2.json\", lines= True)\n",
    "articles = Table.from_df(pandas_table)\n",
    "articles = articles.with_column('length', articles.apply(len, 'headline'))\n",
    "articles"
   ]
  },
  {
   "cell_type": "code",
   "execution_count": 3,
   "metadata": {},
   "outputs": [],
   "source": [
    "sarcastic = articles.where('is_sarcastic', 1)\n",
    "real = articles.where('is_sarcastic', 0)"
   ]
  },
  {
   "cell_type": "code",
   "execution_count": 4,
   "metadata": {},
   "outputs": [],
   "source": [
    "sarcastic_headlines = sarcastic.select('headline')\n",
    "real_headlines = real.select('headline')"
   ]
  },
  {
   "cell_type": "code",
   "execution_count": 22,
   "metadata": {},
   "outputs": [],
   "source": [
    "useless_words = ['to', 'of', 'in', 'for', 'on', 'by', 'the', 'it', 'a', 'at']"
   ]
  },
  {
   "cell_type": "code",
   "execution_count": 28,
   "metadata": {},
   "outputs": [
    {
     "data": {
      "text/html": [
       "<table border=\"1\" class=\"dataframe\">\n",
       "    <thead>\n",
       "        <tr>\n",
       "            <th>words</th> <th>count</th>\n",
       "        </tr>\n",
       "    </thead>\n",
       "    <tbody>\n",
       "        <tr>\n",
       "            <td>man  </td> <td>1143 </td>\n",
       "        </tr>\n",
       "        <tr>\n",
       "            <td>with </td> <td>1008 </td>\n",
       "        </tr>\n",
       "        <tr>\n",
       "            <td>new  </td> <td>973  </td>\n",
       "        </tr>\n",
       "        <tr>\n",
       "            <td>at   </td> <td>673  </td>\n",
       "        </tr>\n",
       "        <tr>\n",
       "            <td>from </td> <td>664  </td>\n",
       "        </tr>\n",
       "        <tr>\n",
       "            <td>out  </td> <td>559  </td>\n",
       "        </tr>\n",
       "        <tr>\n",
       "            <td>after</td> <td>546  </td>\n",
       "        </tr>\n",
       "        <tr>\n",
       "            <td>up   </td> <td>507  </td>\n",
       "        </tr>\n",
       "        <tr>\n",
       "            <td>he   </td> <td>499  </td>\n",
       "        </tr>\n",
       "        <tr>\n",
       "            <td>area </td> <td>487  </td>\n",
       "        </tr>\n",
       "    </tbody>\n",
       "</table>\n",
       "<p>... (23909 rows omitted)</p>"
      ],
      "text/plain": [
       "words | count\n",
       "man   | 1143\n",
       "with  | 1008\n",
       "new   | 973\n",
       "at    | 673\n",
       "from  | 664\n",
       "out   | 559\n",
       "after | 546\n",
       "up    | 507\n",
       "he    | 499\n",
       "area  | 487\n",
       "... (23909 rows omitted)"
      ]
     },
     "execution_count": 28,
     "metadata": {},
     "output_type": "execute_result"
    }
   ],
   "source": [
    "sarcastic_words = []\n",
    "\n",
    "for i in sarcastic_headlines.column(0):\n",
    "    for j in i.split():\n",
    "        sarcastic_words.append(j)\n",
    "\n",
    "sarcastic_tbl = Table().with_column('words', sarcastic_words)\n",
    "sarcastic_tbl = sarcastic_tbl.group('words').where('words', are.not_contained_in(useless_words)).sort(1, descending=True)\n",
    "sarcastic_tbl"
   ]
  },
  {
   "cell_type": "code",
   "execution_count": null,
   "metadata": {},
   "outputs": [],
   "source": []
  }
 ],
 "metadata": {
  "kernelspec": {
   "display_name": "Python 3",
   "language": "python",
   "name": "python3"
  },
  "language_info": {
   "codemirror_mode": {
    "name": "ipython",
    "version": 3
   },
   "file_extension": ".py",
   "mimetype": "text/x-python",
   "name": "python",
   "nbconvert_exporter": "python",
   "pygments_lexer": "ipython3",
   "version": "3.6.8"
  }
 },
 "nbformat": 4,
 "nbformat_minor": 2
}
