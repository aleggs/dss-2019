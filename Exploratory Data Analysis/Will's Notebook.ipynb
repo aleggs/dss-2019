{
 "cells": [
  {
   "cell_type": "code",
   "execution_count": 1,
   "metadata": {},
   "outputs": [],
   "source": [
    "import pandas as pd\n",
    "from datascience import *\n",
    "import numpy as np\n",
    "\n",
    "import matplotlib\n",
    "%matplotlib inline\n",
    "import matplotlib.pyplot as plt\n",
    "plt.style.use('fivethirtyeight')\n",
    "import warnings\n",
    "warnings.simplefilter('ignore', FutureWarning)"
   ]
  },
  {
   "cell_type": "code",
   "execution_count": 2,
   "metadata": {},
   "outputs": [
    {
     "data": {
      "text/html": [
       "<table border=\"1\" class=\"dataframe\">\n",
       "    <thead>\n",
       "        <tr>\n",
       "            <th>article_link</th> <th>headline</th> <th>is_sarcastic</th> <th>length</th>\n",
       "        </tr>\n",
       "    </thead>\n",
       "    <tbody>\n",
       "        <tr>\n",
       "            <td>https://www.theonion.com/thirtysomething-scientists-unve ...</td> <td>thirtysomething scientists unveil doomsday clock of hair ...</td> <td>1           </td> <td>61    </td>\n",
       "        </tr>\n",
       "        <tr>\n",
       "            <td>https://www.huffingtonpost.com/entry/donna-edwards-inequ ...</td> <td>dem rep. totally nails why congress is falling short on  ...</td> <td>0           </td> <td>79    </td>\n",
       "        </tr>\n",
       "        <tr>\n",
       "            <td>https://www.huffingtonpost.com/entry/eat-your-veggies-9- ...</td> <td>eat your veggies: 9 deliciously different recipes           </td> <td>0           </td> <td>49    </td>\n",
       "        </tr>\n",
       "        <tr>\n",
       "            <td>https://local.theonion.com/inclement-weather-prevents-li ...</td> <td>inclement weather prevents liar from getting to work        </td> <td>1           </td> <td>52    </td>\n",
       "        </tr>\n",
       "        <tr>\n",
       "            <td>https://www.theonion.com/mother-comes-pretty-close-to-us ...</td> <td>mother comes pretty close to using word 'streaming' corr ...</td> <td>1           </td> <td>61    </td>\n",
       "        </tr>\n",
       "        <tr>\n",
       "            <td>https://www.huffingtonpost.com/entry/my-white-inheritanc ...</td> <td>my white inheritance                                        </td> <td>0           </td> <td>20    </td>\n",
       "        </tr>\n",
       "        <tr>\n",
       "            <td>https://www.huffingtonpost.com/entry/5-ways-to-file-your ...</td> <td>5 ways to file your taxes with less stress                  </td> <td>0           </td> <td>42    </td>\n",
       "        </tr>\n",
       "        <tr>\n",
       "            <td>https://www.theonion.com/richard-bransons-global-warming ...</td> <td>richard branson's global-warming donation nearly as much ...</td> <td>1           </td> <td>88    </td>\n",
       "        </tr>\n",
       "        <tr>\n",
       "            <td>https://politics.theonion.com/shadow-government-getting- ...</td> <td>shadow government getting too large to meet in marriott  ...</td> <td>1           </td> <td>73    </td>\n",
       "        </tr>\n",
       "        <tr>\n",
       "            <td>https://www.huffingtonpost.comhttp://pubx.co/6IXxhm         </td> <td>lots of parents know this scenario                          </td> <td>0           </td> <td>34    </td>\n",
       "        </tr>\n",
       "    </tbody>\n",
       "</table>\n",
       "<p>... (28609 rows omitted)</p>"
      ],
      "text/plain": [
       "article_link                                                 | headline                                                     | is_sarcastic | length\n",
       "https://www.theonion.com/thirtysomething-scientists-unve ... | thirtysomething scientists unveil doomsday clock of hair ... | 1            | 61\n",
       "https://www.huffingtonpost.com/entry/donna-edwards-inequ ... | dem rep. totally nails why congress is falling short on  ... | 0            | 79\n",
       "https://www.huffingtonpost.com/entry/eat-your-veggies-9- ... | eat your veggies: 9 deliciously different recipes            | 0            | 49\n",
       "https://local.theonion.com/inclement-weather-prevents-li ... | inclement weather prevents liar from getting to work         | 1            | 52\n",
       "https://www.theonion.com/mother-comes-pretty-close-to-us ... | mother comes pretty close to using word 'streaming' corr ... | 1            | 61\n",
       "https://www.huffingtonpost.com/entry/my-white-inheritanc ... | my white inheritance                                         | 0            | 20\n",
       "https://www.huffingtonpost.com/entry/5-ways-to-file-your ... | 5 ways to file your taxes with less stress                   | 0            | 42\n",
       "https://www.theonion.com/richard-bransons-global-warming ... | richard branson's global-warming donation nearly as much ... | 1            | 88\n",
       "https://politics.theonion.com/shadow-government-getting- ... | shadow government getting too large to meet in marriott  ... | 1            | 73\n",
       "https://www.huffingtonpost.comhttp://pubx.co/6IXxhm          | lots of parents know this scenario                           | 0            | 34\n",
       "... (28609 rows omitted)"
      ]
     },
     "execution_count": 2,
     "metadata": {},
     "output_type": "execute_result"
    }
   ],
   "source": [
    "pandas_table = pd.read_json(\"Sarcasm_Headlines_Dataset_v2.json\", lines= True)\n",
    "articles = Table.from_df(pandas_table)\n",
    "articles = articles.with_column('length', articles.apply(len, 'headline'))\n",
    "articles"
   ]
  },
  {
   "cell_type": "code",
   "execution_count": 3,
   "metadata": {},
   "outputs": [
    {
     "data": {
      "text/plain": [
       "('article_link', 'headline', 'is_sarcastic', 'length')"
      ]
     },
     "execution_count": 3,
     "metadata": {},
     "output_type": "execute_result"
    }
   ],
   "source": [
    "articles.labels"
   ]
  },
  {
   "cell_type": "code",
   "execution_count": 4,
   "metadata": {},
   "outputs": [
    {
     "data": {
      "image/png": "[encoded data removed]",
      "text/plain": [
       "<Figure size 432x288 with 1 Axes>"
      ]
     },
     "metadata": {},
     "output_type": "display_data"
    }
   ],
   "source": [
    "articles.hist('length', bins = np.arange(0,200,1))"
   ]
  },
  {
   "cell_type": "code",
   "execution_count": 5,
   "metadata": {},
   "outputs": [
    {
     "data": {
      "text/plain": [
       "926"
      ]
     },
     "execution_count": 5,
     "metadata": {},
     "output_type": "execute_result"
    }
   ],
   "source": [
    "max(articles.column('length'))"
   ]
  },
  {
   "cell_type": "code",
   "execution_count": 6,
   "metadata": {},
   "outputs": [
    {
     "data": {
      "text/plain": [
       "7"
      ]
     },
     "execution_count": 6,
     "metadata": {},
     "output_type": "execute_result"
    }
   ],
   "source": [
    "min(articles.column('length'))"
   ]
  },
  {
   "cell_type": "code",
   "execution_count": 3,
   "metadata": {},
   "outputs": [
    {
     "data": {
      "text/html": [
       "<table border=\"1\" class=\"dataframe\">\n",
       "    <thead>\n",
       "        <tr>\n",
       "            <th>article_link</th> <th>headline</th> <th>is_sarcastic</th> <th>length</th>\n",
       "        </tr>\n",
       "    </thead>\n",
       "    <tbody>\n",
       "        <tr>\n",
       "            <td>https://www.theonion.com/thirtysomething-scientists-unve ...</td> <td>thirtysomething scientists unveil doomsday clock of hair ...</td> <td>1           </td> <td>61    </td>\n",
       "        </tr>\n",
       "        <tr>\n",
       "            <td>https://local.theonion.com/inclement-weather-prevents-li ...</td> <td>inclement weather prevents liar from getting to work        </td> <td>1           </td> <td>52    </td>\n",
       "        </tr>\n",
       "        <tr>\n",
       "            <td>https://www.theonion.com/mother-comes-pretty-close-to-us ...</td> <td>mother comes pretty close to using word 'streaming' corr ...</td> <td>1           </td> <td>61    </td>\n",
       "        </tr>\n",
       "        <tr>\n",
       "            <td>https://www.theonion.com/richard-bransons-global-warming ...</td> <td>richard branson's global-warming donation nearly as much ...</td> <td>1           </td> <td>88    </td>\n",
       "        </tr>\n",
       "        <tr>\n",
       "            <td>https://politics.theonion.com/shadow-government-getting- ...</td> <td>shadow government getting too large to meet in marriott  ...</td> <td>1           </td> <td>73    </td>\n",
       "        </tr>\n",
       "        <tr>\n",
       "            <td>https://www.theonion.com/ford-develops-new-suv-that-runs ...</td> <td>ford develops new suv that runs purely on gasoline          </td> <td>1           </td> <td>50    </td>\n",
       "        </tr>\n",
       "        <tr>\n",
       "            <td>https://www.theonion.com/area-boy-enters-jumping-and-tou ...</td> <td>area boy enters jumping-and-touching-tops-of-doorways phase </td> <td>1           </td> <td>59    </td>\n",
       "        </tr>\n",
       "        <tr>\n",
       "            <td>https://local.theonion.com/area-man-does-most-of-his-tra ...</td> <td>area man does most of his traveling by gurney               </td> <td>1           </td> <td>45    </td>\n",
       "        </tr>\n",
       "        <tr>\n",
       "            <td>https://www.theonion.com/guard-in-video-game-under-stric ...</td> <td>guard in video game under strict orders to repeatedly pa ...</td> <td>1           </td> <td>82    </td>\n",
       "        </tr>\n",
       "        <tr>\n",
       "            <td>https://www.theonion.com/secret-service-agent-not-so-sec ...</td> <td>secret service agent not so secret about being david ala ...</td> <td>1           </td> <td>67    </td>\n",
       "        </tr>\n",
       "    </tbody>\n",
       "</table>\n",
       "<p>... (13624 rows omitted)</p>"
      ],
      "text/plain": [
       "article_link                                                 | headline                                                     | is_sarcastic | length\n",
       "https://www.theonion.com/thirtysomething-scientists-unve ... | thirtysomething scientists unveil doomsday clock of hair ... | 1            | 61\n",
       "https://local.theonion.com/inclement-weather-prevents-li ... | inclement weather prevents liar from getting to work         | 1            | 52\n",
       "https://www.theonion.com/mother-comes-pretty-close-to-us ... | mother comes pretty close to using word 'streaming' corr ... | 1            | 61\n",
       "https://www.theonion.com/richard-bransons-global-warming ... | richard branson's global-warming donation nearly as much ... | 1            | 88\n",
       "https://politics.theonion.com/shadow-government-getting- ... | shadow government getting too large to meet in marriott  ... | 1            | 73\n",
       "https://www.theonion.com/ford-develops-new-suv-that-runs ... | ford develops new suv that runs purely on gasoline           | 1            | 50\n",
       "https://www.theonion.com/area-boy-enters-jumping-and-tou ... | area boy enters jumping-and-touching-tops-of-doorways phase  | 1            | 59\n",
       "https://local.theonion.com/area-man-does-most-of-his-tra ... | area man does most of his traveling by gurney                | 1            | 45\n",
       "https://www.theonion.com/guard-in-video-game-under-stric ... | guard in video game under strict orders to repeatedly pa ... | 1            | 82\n",
       "https://www.theonion.com/secret-service-agent-not-so-sec ... | secret service agent not so secret about being david ala ... | 1            | 67\n",
       "... (13624 rows omitted)"
      ]
     },
     "execution_count": 3,
     "metadata": {},
     "output_type": "execute_result"
    }
   ],
   "source": [
    "sarcasm = articles.where('is_sarcastic', 1)\n",
    "sarcasm"
   ]
  },
  {
   "cell_type": "code",
   "execution_count": 4,
   "metadata": {},
   "outputs": [
    {
     "data": {
      "text/html": [
       "<table border=\"1\" class=\"dataframe\">\n",
       "    <thead>\n",
       "        <tr>\n",
       "            <th>article_link</th> <th>headline</th> <th>length</th>\n",
       "        </tr>\n",
       "    </thead>\n",
       "    <tbody>\n",
       "        <tr>\n",
       "            <td>https://www.huffingtonpost.com/entry/donna-edwards-inequ ...</td> <td>dem rep. totally nails why congress is falling short on  ...</td> <td>79    </td>\n",
       "        </tr>\n",
       "        <tr>\n",
       "            <td>https://www.huffingtonpost.com/entry/eat-your-veggies-9- ...</td> <td>eat your veggies: 9 deliciously different recipes           </td> <td>49    </td>\n",
       "        </tr>\n",
       "        <tr>\n",
       "            <td>https://www.huffingtonpost.com/entry/my-white-inheritanc ...</td> <td>my white inheritance                                        </td> <td>20    </td>\n",
       "        </tr>\n",
       "        <tr>\n",
       "            <td>https://www.huffingtonpost.com/entry/5-ways-to-file-your ...</td> <td>5 ways to file your taxes with less stress                  </td> <td>42    </td>\n",
       "        </tr>\n",
       "        <tr>\n",
       "            <td>https://www.huffingtonpost.comhttp://pubx.co/6IXxhm         </td> <td>lots of parents know this scenario                          </td> <td>34    </td>\n",
       "        </tr>\n",
       "        <tr>\n",
       "            <td>https://www.huffingtonpost.com/entry/this-lesbian-is-con ...</td> <td>this lesbian is considered a father in indiana (and an a ...</td> <td>75    </td>\n",
       "        </tr>\n",
       "        <tr>\n",
       "            <td>https://www.huffingtonpost.com/entry/amanda-peet-told-he ...</td> <td>amanda peet told her daughter sex is 'a special hug'        </td> <td>52    </td>\n",
       "        </tr>\n",
       "        <tr>\n",
       "            <td>https://www.huffingtonpost.com/entry/what-to-know-regard ...</td> <td>what to know regarding current treatments for ebola         </td> <td>51    </td>\n",
       "        </tr>\n",
       "        <tr>\n",
       "            <td>https://www.huffingtonpost.com/entry/chris-christie-hill ...</td> <td>chris christie suggests hillary clinton was to blame for ...</td> <td>107   </td>\n",
       "        </tr>\n",
       "        <tr>\n",
       "            <td>https://www.huffingtonpost.com/entry/uber-ceo-travis-kal ...</td> <td>uber ceo travis kalanick stepping down from trump econom ...</td> <td>75    </td>\n",
       "        </tr>\n",
       "    </tbody>\n",
       "</table>\n",
       "<p>... (14975 rows omitted)</p>"
      ],
      "text/plain": [
       "article_link                                                 | headline                                                     | length\n",
       "https://www.huffingtonpost.com/entry/donna-edwards-inequ ... | dem rep. totally nails why congress is falling short on  ... | 79\n",
       "https://www.huffingtonpost.com/entry/eat-your-veggies-9- ... | eat your veggies: 9 deliciously different recipes            | 49\n",
       "https://www.huffingtonpost.com/entry/my-white-inheritanc ... | my white inheritance                                         | 20\n",
       "https://www.huffingtonpost.com/entry/5-ways-to-file-your ... | 5 ways to file your taxes with less stress                   | 42\n",
       "https://www.huffingtonpost.comhttp://pubx.co/6IXxhm          | lots of parents know this scenario                           | 34\n",
       "https://www.huffingtonpost.com/entry/this-lesbian-is-con ... | this lesbian is considered a father in indiana (and an a ... | 75\n",
       "https://www.huffingtonpost.com/entry/amanda-peet-told-he ... | amanda peet told her daughter sex is 'a special hug'         | 52\n",
       "https://www.huffingtonpost.com/entry/what-to-know-regard ... | what to know regarding current treatments for ebola          | 51\n",
       "https://www.huffingtonpost.com/entry/chris-christie-hill ... | chris christie suggests hillary clinton was to blame for ... | 107\n",
       "https://www.huffingtonpost.com/entry/uber-ceo-travis-kal ... | uber ceo travis kalanick stepping down from trump econom ... | 75\n",
       "... (14975 rows omitted)"
      ]
     },
     "execution_count": 4,
     "metadata": {},
     "output_type": "execute_result"
    }
   ],
   "source": [
    "not_sarcasm = articles.where('is_sarcastic', 0).drop('is_sarcastic')\n",
    "not_sarcasm"
   ]
  },
  {
   "cell_type": "code",
   "execution_count": 8,
   "metadata": {},
   "outputs": [
    {
     "data": {
      "text/plain": [
       "'https://www.theonion.com/maya-angelou-poet-author-civil-rights-activist-and-1819591737'"
      ]
     },
     "execution_count": 8,
     "metadata": {},
     "output_type": "execute_result"
    }
   ],
   "source": [
    "articles.sort('length', descending = True).take(1).column(0).item(0)"
   ]
  },
  {
   "cell_type": "code",
   "execution_count": 5,
   "metadata": {},
   "outputs": [
    {
     "data": {
      "text/plain": [
       "0"
      ]
     },
     "execution_count": 5,
     "metadata": {},
     "output_type": "execute_result"
    }
   ],
   "source": [
    "articles.sort('length', descending = False).column(2).item(0)"
   ]
  },
  {
   "cell_type": "code",
   "execution_count": 46,
   "metadata": {},
   "outputs": [
    {
     "data": {
      "text/plain": [
       "array([  7.,  49.,  62.,  75., 926.])"
      ]
     },
     "execution_count": 46,
     "metadata": {},
     "output_type": "execute_result"
    }
   ],
   "source": [
    "## Returns an array containing the five figure summary for the overall data (not sorted by sarcasm)\n",
    "\n",
    "length_array = articles.column('length')\n",
    "\n",
    "minimum = min(length_array)\n",
    "first = np.quantile(length_array,0.25)\n",
    "middle = np.quantile(length_array, 0.5)\n",
    "third = np.quantile(length_array, 0.75)\n",
    "maximum = max(length_array)\n",
    "\n",
    "five_figure_summary = make_array(minimum,first,middle,third,maximum)\n",
    "five_figure_summary"
   ]
  },
  {
   "cell_type": "code",
   "execution_count": 25,
   "metadata": {},
   "outputs": [],
   "source": [
    "def five_figure_summary(table):\n",
    "    \"\"\"\" Returns an array containing the five figure summary of the given table\"\"\"\n",
    "    length_array = table.column('length')\n",
    "    minimum = min(length_array)\n",
    "    first = np.quantile(length_array,0.25)\n",
    "    middle = np.quantile(length_array, 0.5)\n",
    "    third = np.quantile(length_array, 0.75)\n",
    "    maximum = max(length_array)\n",
    "    return make_array(minimum,first,middle,third,maximum)"
   ]
  },
  {
   "cell_type": "code",
   "execution_count": 26,
   "metadata": {},
   "outputs": [],
   "source": [
    "labels_array = make_array('Minimum','First Quantile','Second Quantile','Third Quantile','Maximum')\n",
    "articles_array = five_figure_summary(articles)\n",
    "sarcasm_array = five_figure_summary(sarcasm)\n",
    "not_sarcasm_array = five_figure_summary(not_sarcasm)"
   ]
  },
  {
   "cell_type": "code",
   "execution_count": 44,
   "metadata": {},
   "outputs": [
    {
     "data": {
      "text/html": [
       "<table border=\"1\" class=\"dataframe\">\n",
       "    <thead>\n",
       "        <tr>\n",
       "            <th></th> <th>Overall Article</th> <th>Sarcasm</th> <th>Not Sarcasm</th>\n",
       "        </tr>\n",
       "    </thead>\n",
       "    <tbody>\n",
       "        <tr>\n",
       "            <td>Minimum        </td> <td>7              </td> <td>8      </td> <td>7          </td>\n",
       "        </tr>\n",
       "        <tr>\n",
       "            <td>First Quantile </td> <td>49             </td> <td>49     </td> <td>48         </td>\n",
       "        </tr>\n",
       "        <tr>\n",
       "            <td>Second Quantile</td> <td>62             </td> <td>64     </td> <td>61         </td>\n",
       "        </tr>\n",
       "        <tr>\n",
       "            <td>Third Quantile </td> <td>75             </td> <td>80     </td> <td>71         </td>\n",
       "        </tr>\n",
       "        <tr>\n",
       "            <td>Maximum        </td> <td>926            </td> <td>926    </td> <td>228        </td>\n",
       "        </tr>\n",
       "    </tbody>\n",
       "</table>"
      ],
      "text/plain": [
       "                | Overall Article | Sarcasm | Not Sarcasm\n",
       "Minimum         | 7               | 8       | 7\n",
       "First Quantile  | 49              | 49      | 48\n",
       "Second Quantile | 62              | 64      | 61\n",
       "Third Quantile  | 75              | 80      | 71\n",
       "Maximum         | 926             | 926     | 228"
      ]
     },
     "execution_count": 44,
     "metadata": {},
     "output_type": "execute_result"
    }
   ],
   "source": [
    "# Table containing all of the five figure summaries for the data\n",
    "\n",
    "summary_table = Table().with_columns(\n",
    "    '',labels_array,\n",
    "    'Overall Article', articles_array,\n",
    "    'Sarcasm',sarcasm_array,\n",
    "    'Not Sarcasm',not_sarcasm_array,)\n",
    "summary_table "
   ]
  },
  {
   "cell_type": "code",
   "execution_count": 45,
   "metadata": {},
   "outputs": [
    {
     "data": {
      "text/html": [
       "<table border=\"1\" class=\"dataframe\">\n",
       "    <thead>\n",
       "        <tr>\n",
       "            <th></th> <th>Overall Article</th> <th>Sarcasm</th> <th>Not Sarcasm</th> <th>Difference</th>\n",
       "        </tr>\n",
       "    </thead>\n",
       "    <tbody>\n",
       "        <tr>\n",
       "            <td>Minimum        </td> <td>7              </td> <td>8      </td> <td>7          </td> <td>1         </td>\n",
       "        </tr>\n",
       "        <tr>\n",
       "            <td>First Quantile </td> <td>49             </td> <td>49     </td> <td>48         </td> <td>1         </td>\n",
       "        </tr>\n",
       "        <tr>\n",
       "            <td>Second Quantile</td> <td>62             </td> <td>64     </td> <td>61         </td> <td>3         </td>\n",
       "        </tr>\n",
       "        <tr>\n",
       "            <td>Third Quantile </td> <td>75             </td> <td>80     </td> <td>71         </td> <td>9         </td>\n",
       "        </tr>\n",
       "        <tr>\n",
       "            <td>Maximum        </td> <td>926            </td> <td>926    </td> <td>228        </td> <td>698       </td>\n",
       "        </tr>\n",
       "    </tbody>\n",
       "</table>"
      ],
      "text/plain": [
       "                | Overall Article | Sarcasm | Not Sarcasm | Difference\n",
       "Minimum         | 7               | 8       | 7           | 1\n",
       "First Quantile  | 49              | 49      | 48          | 1\n",
       "Second Quantile | 62              | 64      | 61          | 3\n",
       "Third Quantile  | 75              | 80      | 71          | 9\n",
       "Maximum         | 926             | 926     | 228         | 698"
      ]
     },
     "execution_count": 45,
     "metadata": {},
     "output_type": "execute_result"
    }
   ],
   "source": [
    "difference_array = summary_table.column('Sarcasm')- summary_table.column('Not Sarcasm')\n",
    "summary_table = summary_table.with_column('Difference', difference_array)\n",
    "summary_table"
   ]
  },
  {
   "cell_type": "code",
   "execution_count": 47,
   "metadata": {},
   "outputs": [
    {
     "data": {
      "text/html": [
       "<table border=\"1\" class=\"dataframe\">\n",
       "    <thead>\n",
       "        <tr>\n",
       "            <th></th> <th>Overall Article</th> <th>Sarcasm</th> <th>Not Sarcasm</th> <th>Difference</th>\n",
       "        </tr>\n",
       "    </thead>\n",
       "    <tbody>\n",
       "        <tr>\n",
       "            <td>Minimum        </td> <td>7.0              </td> <td>8.0              </td> <td>7.0              </td> <td>1.0              </td>\n",
       "        </tr>\n",
       "        <tr>\n",
       "            <td>First Quantile </td> <td>49.0             </td> <td>49.0             </td> <td>48.0             </td> <td>1.0              </td>\n",
       "        </tr>\n",
       "        <tr>\n",
       "            <td>Second Quantile</td> <td>62.0             </td> <td>64.0             </td> <td>61.0             </td> <td>3.0              </td>\n",
       "        </tr>\n",
       "        <tr>\n",
       "            <td>Third Quantile </td> <td>75.0             </td> <td>80.0             </td> <td>71.0             </td> <td>9.0              </td>\n",
       "        </tr>\n",
       "        <tr>\n",
       "            <td>Maximum        </td> <td>926.0            </td> <td>926.0            </td> <td>228.0            </td> <td>698.0            </td>\n",
       "        </tr>\n",
       "        <tr>\n",
       "            <td>Average        </td> <td>62.30857122890387</td> <td>65.33101070852281</td> <td>59.55862529195863</td> <td>5.772385416564184</td>\n",
       "        </tr>\n",
       "    </tbody>\n",
       "</table>"
      ],
      "text/plain": [
       "                | Overall Article   | Sarcasm           | Not Sarcasm       | Difference\n",
       "Minimum         | 7.0               | 8.0               | 7.0               | 1.0\n",
       "First Quantile  | 49.0              | 49.0              | 48.0              | 1.0\n",
       "Second Quantile | 62.0              | 64.0              | 61.0              | 3.0\n",
       "Third Quantile  | 75.0              | 80.0              | 71.0              | 9.0\n",
       "Maximum         | 926.0             | 926.0             | 228.0             | 698.0\n",
       "Average         | 62.30857122890387 | 65.33101070852281 | 59.55862529195863 | 5.772385416564184"
      ]
     },
     "execution_count": 47,
     "metadata": {},
     "output_type": "execute_result"
    }
   ],
   "source": [
    "summary_table = summary_table.with_row(average_array)\n",
    "summary_table"
   ]
  },
  {
   "cell_type": "code",
   "execution_count": 8,
   "metadata": {},
   "outputs": [
    {
     "data": {
      "text/plain": [
       "array([  7.,  48.,  61.,  71., 228.])"
      ]
     },
     "execution_count": 8,
     "metadata": {},
     "output_type": "execute_result"
    }
   ],
   "source": [
    "five_figure_summary(not_sarcasm)"
   ]
  },
  {
   "cell_type": "code",
   "execution_count": 36,
   "metadata": {},
   "outputs": [],
   "source": [
    "average_array = make_array('Average', np.average(articles.column('length')),np.average(sarcasm.column('length')),np.average(not_sarcasm.column('length')),(np.average(sarcasm.column('length'))-np.average(not_sarcasm.column('length'))))"
   ]
  },
  {
   "cell_type": "code",
   "execution_count": 37,
   "metadata": {},
   "outputs": [
    {
     "data": {
      "text/plain": [
       "array(['Average', '62.30857122890387', '65.33101070852281',\n",
       "       '59.55862529195863', '5.772385416564184'], dtype='<U17')"
      ]
     },
     "execution_count": 37,
     "metadata": {},
     "output_type": "execute_result"
    }
   ],
   "source": [
    "average_array"
   ]
  },
  {
   "cell_type": "code",
   "execution_count": 27,
   "metadata": {},
   "outputs": [
    {
     "data": {
      "image/png": "[encoded data removed]",
      "text/plain": [
       "<Figure size 432x288 with 1 Axes>"
      ]
     },
     "metadata": {},
     "output_type": "display_data"
    }
   ],
   "source": [
    "sarcasm.hist('length', bins = np.arange(200))"
   ]
  },
  {
   "cell_type": "code",
   "execution_count": 34,
   "metadata": {},
   "outputs": [
    {
     "data": {
      "image/png": "[encoded data removed]",
      "text/plain": [
       "<Figure size 432x288 with 1 Axes>"
      ]
     },
     "metadata": {},
     "output_type": "display_data"
    }
   ],
   "source": [
    "not_sarcasm.hist('length', bins = np.arange(200))"
   ]
  },
  {
   "cell_type": "code",
   "execution_count": 9,
   "metadata": {},
   "outputs": [
    {
     "data": {
      "text/plain": [
       "4"
      ]
     },
     "execution_count": 9,
     "metadata": {},
     "output_type": "execute_result"
    }
   ],
   "source": [
    "## The number of sarcastic headlines that are LONGER than the longest 'Non Sarcastic' headline\n",
    "\n",
    "np.count_nonzero(max(not_sarcasm.column('length')) < sarcasm.column('length'))"
   ]
  },
  {
   "cell_type": "code",
   "execution_count": 10,
   "metadata": {},
   "outputs": [
    {
     "data": {
      "text/plain": [
       "'occasionally you realize someone you thought was a dear friend is actually a foe, their true character finally revealed. but how do you forgive the unforgivable? here are my 10 steps to handling betrayal with elegance and grace.'"
      ]
     },
     "execution_count": 10,
     "metadata": {},
     "output_type": "execute_result"
    }
   ],
   "source": [
    "## The longest 'Non Sarcastic' headline\n",
    "\n",
    "not_sarcasm.sort('length', descending = True).column('headline').item(0)"
   ]
  },
  {
   "cell_type": "code",
   "execution_count": null,
   "metadata": {},
   "outputs": [],
   "source": []
  }
 ],
 "metadata": {
  "kernelspec": {
   "display_name": "Python 3",
   "language": "python",
   "name": "python3"
  },
  "language_info": {
   "codemirror_mode": {
    "name": "ipython",
    "version": 3
   },
   "file_extension": ".py",
   "mimetype": "text/x-python",
   "name": "python",
   "nbconvert_exporter": "python",
   "pygments_lexer": "ipython3",
   "version": "3.7.4"
  }
 },
 "nbformat": 4,
 "nbformat_minor": 2
}
